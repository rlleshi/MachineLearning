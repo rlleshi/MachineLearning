{
 "cells": [
  {
   "cell_type": "markdown",
   "metadata": {},
   "source": [
    "# Problem Introduction\n",
    "\n",
    "### Nudging customers to payed products by utilizing data produced by apps\n",
    "\n",
    "Companies often provide free premium product/services in an attempt to transition their customers to the premium membership. In this case study, the services offered by a mobile app are examined. Customers have a 24 hour frame of free premium membership. \n",
    "\n",
    "Our goal is to determine which users are less likely to subscribe to the paid membership so that greater marketing offers can be directed at them in a bid to make them premium customers. The company could then offer a free one-month trial or even better a 50% off yearly subscription so that they win them over as premium users. After all, if you are running marketing offers you don't want to offer them to cutomers who will anyway subsribe to the premium membership eh?"
   ]
  },
  {
   "cell_type": "markdown",
   "metadata": {},
   "source": [
    "# Bird's eye view\n",
    "As with many machine learning pipelines the roadmap has its similarities. Here is a bird's eye view of what steps we will go throw in this project.\n",
    "\n",
    "1. Question and required data\n",
    "2. Acquire the data\n",
    "3. Data preprocessing: Taking care of missing data & annomalies\n",
    "4. Prepare the data for the Machine Learning model\n",
    "5. Train the model on the training data\n",
    "6. Make predictions on the test data\n",
    "7. Evaluate the model\n",
    "8. If the performance is not satisfactory adjust the model. This often means acquiring more data, playing with hyperparameters or choosing a different model altogether.\n",
    "9. Interpret the model and report results visually and numerically"
   ]
  },
  {
   "cell_type": "code",
   "execution_count": 1,
   "metadata": {},
   "outputs": [],
   "source": [
    "# Standart Data Science libraries\n",
    "import pandas as pd\n",
    "import numpy as np\n",
    "import matplotlib.pyplot as plt\n",
    "\n",
    "from dateutil import parser\n",
    "\n",
    "from sklearn.model_selection import train_test_split\n",
    "from sklearn.preprocessing import StandardScaler\n",
    "from sklearn.linear_model import LogisticRegression\n",
    "from sklearn.metrics import confusion_matrix, accuracy_score, f1_score, precision_score, recall_score\n",
    "from sklearn.model_selection import cross_val_score\n",
    "\n",
    "import seaborn as sn\n",
    "sn.set()"
   ]
  },
  {
   "cell_type": "markdown",
   "metadata": {},
   "source": [
    "# 2. The Data\n",
    "\n",
    "The fields in the data describe what companies usually track from their users with real-world distribution and patterns. This data makes it possible to see the date and time of app installation as well as **most importantly**, the features with which the users engaged within the app. Thus we have a great insight of what is called *app behavior*: the list of app screens the user looked at.\n",
    "\n",
    "### Explanations of the columns\n",
    "\n",
    "1. <b>user:</b> an id identifying the user\n",
    "2. <b>first_open:</b> the day and time that the user first oppened the app\n",
    "3. <b>dayofweek:</b> day of the week in numerical form. 0-Sunday, 6-Saturday\n",
    "4. <b>hour:</b> the hour of the day when the app was first oppened\n",
    "5. <b>age:</b> the age of the customer\n",
    "6. <b>screen_list:</b> every screen name visited by the user in the first 24 hours of premium membership \n",
    "7. <b>numscreens:</b> the number of screens visited by the user\n",
    "8. <b>minigame:</b> whether the players played a game offered by the app\n",
    "9. <b>used_premium_feature:</b> whether the user has used the premium features even though he had them for free the first 24h hours\n",
    "10. <b>enrolled:</b> whether the user enrolled for premium\n",
    "11. <b>enrolled_date:</b> the date they enrolled. This is the only feature which is not restricted to the first 24h\n",
    "12. <b>liked:</b> whether the user hit the like button (for at least one feature)"
   ]
  },
  {
   "cell_type": "code",
   "execution_count": 2,
   "metadata": {},
   "outputs": [
    {
     "data": {
      "text/html": [
       "<div>\n",
       "<style scoped>\n",
       "    .dataframe tbody tr th:only-of-type {\n",
       "        vertical-align: middle;\n",
       "    }\n",
       "\n",
       "    .dataframe tbody tr th {\n",
       "        vertical-align: top;\n",
       "    }\n",
       "\n",
       "    .dataframe thead th {\n",
       "        text-align: right;\n",
       "    }\n",
       "</style>\n",
       "<table border=\"1\" class=\"dataframe\">\n",
       "  <thead>\n",
       "    <tr style=\"text-align: right;\">\n",
       "      <th></th>\n",
       "      <th>user</th>\n",
       "      <th>first_open</th>\n",
       "      <th>dayofweek</th>\n",
       "      <th>hour</th>\n",
       "      <th>age</th>\n",
       "      <th>screen_list</th>\n",
       "      <th>numscreens</th>\n",
       "      <th>minigame</th>\n",
       "      <th>used_premium_feature</th>\n",
       "      <th>enrolled</th>\n",
       "      <th>enrolled_date</th>\n",
       "      <th>liked</th>\n",
       "    </tr>\n",
       "  </thead>\n",
       "  <tbody>\n",
       "    <tr>\n",
       "      <th>43429</th>\n",
       "      <td>339127</td>\n",
       "      <td>2013-06-09 01:20:42.235</td>\n",
       "      <td>6</td>\n",
       "      <td>01:00:00</td>\n",
       "      <td>48</td>\n",
       "      <td>idscreen,product_review,product_review,product...</td>\n",
       "      <td>5</td>\n",
       "      <td>1</td>\n",
       "      <td>0</td>\n",
       "      <td>1</td>\n",
       "      <td>2013-06-15 16:13:30.250</td>\n",
       "      <td>0</td>\n",
       "    </tr>\n",
       "    <tr>\n",
       "      <th>41968</th>\n",
       "      <td>27619</td>\n",
       "      <td>2013-07-02 19:05:08.744</td>\n",
       "      <td>1</td>\n",
       "      <td>19:00:00</td>\n",
       "      <td>22</td>\n",
       "      <td>idscreen,Home,Loan3,product_review,product_rev...</td>\n",
       "      <td>19</td>\n",
       "      <td>0</td>\n",
       "      <td>0</td>\n",
       "      <td>1</td>\n",
       "      <td>2013-07-02 19:33:58.202</td>\n",
       "      <td>0</td>\n",
       "    </tr>\n",
       "    <tr>\n",
       "      <th>4188</th>\n",
       "      <td>197447</td>\n",
       "      <td>2013-02-24 06:08:27.136</td>\n",
       "      <td>6</td>\n",
       "      <td>06:00:00</td>\n",
       "      <td>33</td>\n",
       "      <td>joinscreen,product_review,product_review2,Scan...</td>\n",
       "      <td>33</td>\n",
       "      <td>0</td>\n",
       "      <td>0</td>\n",
       "      <td>1</td>\n",
       "      <td>2013-02-24 06:11:24.569</td>\n",
       "      <td>1</td>\n",
       "    </tr>\n",
       "    <tr>\n",
       "      <th>21206</th>\n",
       "      <td>235072</td>\n",
       "      <td>2012-12-28 17:58:19.712</td>\n",
       "      <td>4</td>\n",
       "      <td>17:00:00</td>\n",
       "      <td>33</td>\n",
       "      <td>product_review,ScanPreview,Loan2,product_revie...</td>\n",
       "      <td>6</td>\n",
       "      <td>0</td>\n",
       "      <td>0</td>\n",
       "      <td>0</td>\n",
       "      <td>NaN</td>\n",
       "      <td>1</td>\n",
       "    </tr>\n",
       "    <tr>\n",
       "      <th>48309</th>\n",
       "      <td>139248</td>\n",
       "      <td>2013-03-11 08:19:42.423</td>\n",
       "      <td>0</td>\n",
       "      <td>08:00:00</td>\n",
       "      <td>23</td>\n",
       "      <td>joinscreen,product_review,product_review2,Scan...</td>\n",
       "      <td>15</td>\n",
       "      <td>0</td>\n",
       "      <td>0</td>\n",
       "      <td>1</td>\n",
       "      <td>2013-03-11 08:21:39.173</td>\n",
       "      <td>0</td>\n",
       "    </tr>\n",
       "    <tr>\n",
       "      <th>33227</th>\n",
       "      <td>42762</td>\n",
       "      <td>2013-04-14 04:41:55.032</td>\n",
       "      <td>6</td>\n",
       "      <td>04:00:00</td>\n",
       "      <td>42</td>\n",
       "      <td>idscreen,Home,product_review,product_review,pr...</td>\n",
       "      <td>23</td>\n",
       "      <td>1</td>\n",
       "      <td>0</td>\n",
       "      <td>0</td>\n",
       "      <td>NaN</td>\n",
       "      <td>0</td>\n",
       "    </tr>\n",
       "  </tbody>\n",
       "</table>\n",
       "</div>"
      ],
      "text/plain": [
       "         user               first_open  dayofweek       hour  age  \\\n",
       "43429  339127  2013-06-09 01:20:42.235          6   01:00:00   48   \n",
       "41968   27619  2013-07-02 19:05:08.744          1   19:00:00   22   \n",
       "4188   197447  2013-02-24 06:08:27.136          6   06:00:00   33   \n",
       "21206  235072  2012-12-28 17:58:19.712          4   17:00:00   33   \n",
       "48309  139248  2013-03-11 08:19:42.423          0   08:00:00   23   \n",
       "33227   42762  2013-04-14 04:41:55.032          6   04:00:00   42   \n",
       "\n",
       "                                             screen_list  numscreens  \\\n",
       "43429  idscreen,product_review,product_review,product...           5   \n",
       "41968  idscreen,Home,Loan3,product_review,product_rev...          19   \n",
       "4188   joinscreen,product_review,product_review2,Scan...          33   \n",
       "21206  product_review,ScanPreview,Loan2,product_revie...           6   \n",
       "48309  joinscreen,product_review,product_review2,Scan...          15   \n",
       "33227  idscreen,Home,product_review,product_review,pr...          23   \n",
       "\n",
       "       minigame  used_premium_feature  enrolled            enrolled_date  \\\n",
       "43429         1                     0         1  2013-06-15 16:13:30.250   \n",
       "41968         0                     0         1  2013-07-02 19:33:58.202   \n",
       "4188          0                     0         1  2013-02-24 06:11:24.569   \n",
       "21206         0                     0         0                      NaN   \n",
       "48309         0                     0         1  2013-03-11 08:21:39.173   \n",
       "33227         1                     0         0                      NaN   \n",
       "\n",
       "       liked  \n",
       "43429      0  \n",
       "41968      0  \n",
       "4188       1  \n",
       "21206      1  \n",
       "48309      0  \n",
       "33227      0  "
      ]
     },
     "execution_count": 2,
     "metadata": {},
     "output_type": "execute_result"
    }
   ],
   "source": [
    "features = pd.read_csv(\"data/appdata10.csv\")\n",
    "features.sample(6)"
   ]
  },
  {
   "cell_type": "markdown",
   "metadata": {},
   "source": [
    "# 3. Data Preprocessing\n",
    "\n",
    "1. Tidy Data\n",
    "2. Missing Data\n",
    "3. Outliers\n",
    "4. Class-Imbalance Problem\n",
    "5. Feature correlation"
   ]
  },
  {
   "cell_type": "markdown",
   "metadata": {},
   "source": [
    "## Tidy Data\n",
    "The data seems to already be [tidy](https://cran.r-project.org/web/packages/tidyr/vignettes/tidy-data.html)."
   ]
  },
  {
   "cell_type": "markdown",
   "metadata": {},
   "source": [
    "## Missing Data & Outliers\n",
    "A great way to identify both missing data and outliers is computing summary statistics on our dataframe."
   ]
  },
  {
   "cell_type": "code",
   "execution_count": 3,
   "metadata": {},
   "outputs": [
    {
     "name": "stdout",
     "output_type": "stream",
     "text": [
      "The shape of our dataset is: (50000, 12)\n"
     ]
    },
    {
     "data": {
      "text/html": [
       "<div>\n",
       "<style scoped>\n",
       "    .dataframe tbody tr th:only-of-type {\n",
       "        vertical-align: middle;\n",
       "    }\n",
       "\n",
       "    .dataframe tbody tr th {\n",
       "        vertical-align: top;\n",
       "    }\n",
       "\n",
       "    .dataframe thead th {\n",
       "        text-align: right;\n",
       "    }\n",
       "</style>\n",
       "<table border=\"1\" class=\"dataframe\">\n",
       "  <thead>\n",
       "    <tr style=\"text-align: right;\">\n",
       "      <th></th>\n",
       "      <th>user</th>\n",
       "      <th>dayofweek</th>\n",
       "      <th>age</th>\n",
       "      <th>numscreens</th>\n",
       "      <th>minigame</th>\n",
       "      <th>used_premium_feature</th>\n",
       "      <th>enrolled</th>\n",
       "      <th>liked</th>\n",
       "    </tr>\n",
       "  </thead>\n",
       "  <tbody>\n",
       "    <tr>\n",
       "      <th>count</th>\n",
       "      <td>50000.000000</td>\n",
       "      <td>50000.000000</td>\n",
       "      <td>50000.00000</td>\n",
       "      <td>50000.000000</td>\n",
       "      <td>50000.000000</td>\n",
       "      <td>50000.000000</td>\n",
       "      <td>50000.000000</td>\n",
       "      <td>50000.000000</td>\n",
       "    </tr>\n",
       "    <tr>\n",
       "      <th>mean</th>\n",
       "      <td>186889.729900</td>\n",
       "      <td>3.029860</td>\n",
       "      <td>31.72436</td>\n",
       "      <td>21.095900</td>\n",
       "      <td>0.107820</td>\n",
       "      <td>0.172020</td>\n",
       "      <td>0.621480</td>\n",
       "      <td>0.165000</td>\n",
       "    </tr>\n",
       "    <tr>\n",
       "      <th>std</th>\n",
       "      <td>107768.520361</td>\n",
       "      <td>2.031997</td>\n",
       "      <td>10.80331</td>\n",
       "      <td>15.728812</td>\n",
       "      <td>0.310156</td>\n",
       "      <td>0.377402</td>\n",
       "      <td>0.485023</td>\n",
       "      <td>0.371184</td>\n",
       "    </tr>\n",
       "    <tr>\n",
       "      <th>min</th>\n",
       "      <td>13.000000</td>\n",
       "      <td>0.000000</td>\n",
       "      <td>16.00000</td>\n",
       "      <td>1.000000</td>\n",
       "      <td>0.000000</td>\n",
       "      <td>0.000000</td>\n",
       "      <td>0.000000</td>\n",
       "      <td>0.000000</td>\n",
       "    </tr>\n",
       "    <tr>\n",
       "      <th>25%</th>\n",
       "      <td>93526.750000</td>\n",
       "      <td>1.000000</td>\n",
       "      <td>24.00000</td>\n",
       "      <td>10.000000</td>\n",
       "      <td>0.000000</td>\n",
       "      <td>0.000000</td>\n",
       "      <td>0.000000</td>\n",
       "      <td>0.000000</td>\n",
       "    </tr>\n",
       "    <tr>\n",
       "      <th>50%</th>\n",
       "      <td>187193.500000</td>\n",
       "      <td>3.000000</td>\n",
       "      <td>29.00000</td>\n",
       "      <td>18.000000</td>\n",
       "      <td>0.000000</td>\n",
       "      <td>0.000000</td>\n",
       "      <td>1.000000</td>\n",
       "      <td>0.000000</td>\n",
       "    </tr>\n",
       "    <tr>\n",
       "      <th>75%</th>\n",
       "      <td>279984.250000</td>\n",
       "      <td>5.000000</td>\n",
       "      <td>37.00000</td>\n",
       "      <td>28.000000</td>\n",
       "      <td>0.000000</td>\n",
       "      <td>0.000000</td>\n",
       "      <td>1.000000</td>\n",
       "      <td>0.000000</td>\n",
       "    </tr>\n",
       "    <tr>\n",
       "      <th>max</th>\n",
       "      <td>373662.000000</td>\n",
       "      <td>6.000000</td>\n",
       "      <td>101.00000</td>\n",
       "      <td>325.000000</td>\n",
       "      <td>1.000000</td>\n",
       "      <td>1.000000</td>\n",
       "      <td>1.000000</td>\n",
       "      <td>1.000000</td>\n",
       "    </tr>\n",
       "  </tbody>\n",
       "</table>\n",
       "</div>"
      ],
      "text/plain": [
       "                user     dayofweek          age    numscreens      minigame  \\\n",
       "count   50000.000000  50000.000000  50000.00000  50000.000000  50000.000000   \n",
       "mean   186889.729900      3.029860     31.72436     21.095900      0.107820   \n",
       "std    107768.520361      2.031997     10.80331     15.728812      0.310156   \n",
       "min        13.000000      0.000000     16.00000      1.000000      0.000000   \n",
       "25%     93526.750000      1.000000     24.00000     10.000000      0.000000   \n",
       "50%    187193.500000      3.000000     29.00000     18.000000      0.000000   \n",
       "75%    279984.250000      5.000000     37.00000     28.000000      0.000000   \n",
       "max    373662.000000      6.000000    101.00000    325.000000      1.000000   \n",
       "\n",
       "       used_premium_feature      enrolled         liked  \n",
       "count          50000.000000  50000.000000  50000.000000  \n",
       "mean               0.172020      0.621480      0.165000  \n",
       "std                0.377402      0.485023      0.371184  \n",
       "min                0.000000      0.000000      0.000000  \n",
       "25%                0.000000      0.000000      0.000000  \n",
       "50%                0.000000      1.000000      0.000000  \n",
       "75%                0.000000      1.000000      0.000000  \n",
       "max                1.000000      1.000000      1.000000  "
      ]
     },
     "execution_count": 3,
     "metadata": {},
     "output_type": "execute_result"
    }
   ],
   "source": [
    "print(\"The shape of our dataset is:\", features.shape)\n",
    "features.describe()"
   ]
  },
  {
   "cell_type": "markdown",
   "metadata": {},
   "source": [
    "Considering our domain knowledge, there seem not to be any outliers with our data. \n",
    "\n",
    "Additionally, visualizing the features always helps. "
   ]
  },
  {
   "cell_type": "code",
   "execution_count": 4,
   "metadata": {},
   "outputs": [],
   "source": [
    "# Convert the hour feature to int\n",
    "# astype casts a pandas type to the specified datatype\n",
    "features['hour'] = features['hour'].str.slice(1,3).astype(int)"
   ]
  },
  {
   "cell_type": "markdown",
   "metadata": {},
   "source": [
    "Visualizing features also helps in **getting comfortable with the data** which is a crucial step for any data scientist in his quest to get insight from data."
   ]
  },
  {
   "cell_type": "code",
   "execution_count": 5,
   "metadata": {},
   "outputs": [
    {
     "data": {
      "text/html": [
       "<div>\n",
       "<style scoped>\n",
       "    .dataframe tbody tr th:only-of-type {\n",
       "        vertical-align: middle;\n",
       "    }\n",
       "\n",
       "    .dataframe tbody tr th {\n",
       "        vertical-align: top;\n",
       "    }\n",
       "\n",
       "    .dataframe thead th {\n",
       "        text-align: right;\n",
       "    }\n",
       "</style>\n",
       "<table border=\"1\" class=\"dataframe\">\n",
       "  <thead>\n",
       "    <tr style=\"text-align: right;\">\n",
       "      <th></th>\n",
       "      <th>dayofweek</th>\n",
       "      <th>hour</th>\n",
       "      <th>age</th>\n",
       "      <th>numscreens</th>\n",
       "      <th>minigame</th>\n",
       "      <th>used_premium_feature</th>\n",
       "      <th>liked</th>\n",
       "    </tr>\n",
       "  </thead>\n",
       "  <tbody>\n",
       "    <tr>\n",
       "      <th>0</th>\n",
       "      <td>3</td>\n",
       "      <td>2</td>\n",
       "      <td>23</td>\n",
       "      <td>15</td>\n",
       "      <td>0</td>\n",
       "      <td>0</td>\n",
       "      <td>0</td>\n",
       "    </tr>\n",
       "    <tr>\n",
       "      <th>1</th>\n",
       "      <td>6</td>\n",
       "      <td>1</td>\n",
       "      <td>24</td>\n",
       "      <td>13</td>\n",
       "      <td>0</td>\n",
       "      <td>0</td>\n",
       "      <td>0</td>\n",
       "    </tr>\n",
       "    <tr>\n",
       "      <th>2</th>\n",
       "      <td>1</td>\n",
       "      <td>19</td>\n",
       "      <td>23</td>\n",
       "      <td>3</td>\n",
       "      <td>0</td>\n",
       "      <td>1</td>\n",
       "      <td>1</td>\n",
       "    </tr>\n",
       "    <tr>\n",
       "      <th>3</th>\n",
       "      <td>4</td>\n",
       "      <td>16</td>\n",
       "      <td>28</td>\n",
       "      <td>40</td>\n",
       "      <td>0</td>\n",
       "      <td>0</td>\n",
       "      <td>0</td>\n",
       "    </tr>\n",
       "    <tr>\n",
       "      <th>4</th>\n",
       "      <td>1</td>\n",
       "      <td>18</td>\n",
       "      <td>31</td>\n",
       "      <td>32</td>\n",
       "      <td>0</td>\n",
       "      <td>0</td>\n",
       "      <td>1</td>\n",
       "    </tr>\n",
       "  </tbody>\n",
       "</table>\n",
       "</div>"
      ],
      "text/plain": [
       "   dayofweek  hour  age  numscreens  minigame  used_premium_feature  liked\n",
       "0          3     2   23          15         0                     0      0\n",
       "1          6     1   24          13         0                     0      0\n",
       "2          1    19   23           3         0                     1      1\n",
       "3          4    16   28          40         0                     0      0\n",
       "4          1    18   31          32         0                     0      1"
      ]
     },
     "execution_count": 5,
     "metadata": {},
     "output_type": "execute_result"
    }
   ],
   "source": [
    "features_temp = features.drop(columns=['user', 'screen_list', 'enrolled_date', 'first_open', 'enrolled'],\n",
    "                             axis=1, inplace=False)\n",
    "features_temp.head()"
   ]
  },
  {
   "cell_type": "code",
   "execution_count": 6,
   "metadata": {},
   "outputs": [
    {
     "data": {
      "image/png": "[encoded data removed]",
      "text/plain": [
       "<Figure size 1080x576 with 7 Axes>"
      ]
     },
     "metadata": {},
     "output_type": "display_data"
    }
   ],
   "source": [
    "plt.figure(figsize=(15,8))\n",
    "\n",
    "# Set the title for all plots\n",
    "plt.suptitle(\"Parts of the feature vector\", fontsize=15)\n",
    "\n",
    "# The loop starts from 1 because the subplot function requires it so\n",
    "for i in range(1, features_temp.shape[1]+1):\n",
    "    # Add a subplot\n",
    "    plt.subplot(3,3,i)\n",
    "    \n",
    "    # Get the current plot\n",
    "    figure = plt.gca()\n",
    "    \n",
    "    # Set the title of the current plot\n",
    "    figure.set_title(features_temp.columns[i-1])\n",
    "    \n",
    "    # Specify bins to be the number of unique values/features to make the plot better looking\n",
    "    f_bins = np.size(features_temp.iloc[:, i-1].unique())\n",
    "    \n",
    "    plt.hist(features_temp.iloc[:,i-1], bins=f_bins)\n",
    "    plt.xlabel(\"Meaure\")\n",
    "    plt.ylabel(\"Count\")\n",
    "    \n",
    "# Give some padding to avoid overlap in graphs\n",
    "plt.tight_layout(pad=2)"
   ]
  },
  {
   "cell_type": "markdown",
   "metadata": {},
   "source": [
    "Again, **getting comfortable with the data** is quite important. Here for the binary attributes *minigame*, *used_premium_feature* and *liked* we can basically see that most of the users did not play the minigame use the premium features or liked any features. \n",
    "\n",
    "Then we can see that regarding days of the week, things stand pretty much even. With *hours* we have a quiet time which should be the night. As of age, most of our users seem to be late 20s, early 30s.\n",
    "\n",
    "### To sum up there seem to be no outliers"
   ]
  },
  {
   "cell_type": "code",
   "execution_count": 7,
   "metadata": {},
   "outputs": [
    {
     "name": "stdout",
     "output_type": "stream",
     "text": [
      "user                        0\n",
      "first_open                  0\n",
      "dayofweek                   0\n",
      "hour                        0\n",
      "age                         0\n",
      "screen_list                 0\n",
      "numscreens                  0\n",
      "minigame                    0\n",
      "used_premium_feature        0\n",
      "enrolled                    0\n",
      "enrolled_date           18926\n",
      "liked                       0\n",
      "dtype: int64\n"
     ]
    }
   ],
   "source": [
    "print(features.isnull().sum())"
   ]
  },
  {
   "cell_type": "markdown",
   "metadata": {},
   "source": [
    "### There also seem not to be any missing data"
   ]
  },
  {
   "cell_type": "markdown",
   "metadata": {},
   "source": [
    "## Class Imbalance Problem"
   ]
  },
  {
   "cell_type": "code",
   "execution_count": 8,
   "metadata": {},
   "outputs": [
    {
     "name": "stdout",
     "output_type": "stream",
     "text": [
      "There seems to be no class imbalance problem.\n",
      "1    0.62148\n",
      "0    0.37852\n",
      "Name: enrolled, dtype: float64\n"
     ]
    }
   ],
   "source": [
    "print(\"There seems to be no class imbalance problem.\")\n",
    "print(features['enrolled'].value_counts() / features.shape[0])"
   ]
  },
  {
   "cell_type": "markdown",
   "metadata": {},
   "source": [
    "## Feature Correlation\n",
    "A high correlation between two features indicates that there is redundancy and one of them can be ignored. Moreover such features would most likely ruin our model."
   ]
  },
  {
   "cell_type": "markdown",
   "metadata": {},
   "source": [
    "### Correlation with the class variable\n",
    "Lets check out a kind of variable importance analysis where we see the correlation between the features and the class variable (enrolled)."
   ]
  },
  {
   "cell_type": "code",
   "execution_count": 9,
   "metadata": {},
   "outputs": [
    {
     "data": {
      "image/png": "[encoded data removed]",
      "text/plain": [
       "<Figure size 864x576 with 1 Axes>"
      ]
     },
     "metadata": {},
     "output_type": "display_data"
    }
   ],
   "source": [
    "# Plot with pandas\n",
    "features_temp.corrwith(features['enrolled']).plot.bar(figsize=(12, 8), title='Correlation with the class variable',\n",
    "                                                     rot=45, fontsize=15)\n",
    "plt.show()"
   ]
  },
  {
   "cell_type": "markdown",
   "metadata": {},
   "source": [
    "The most important variable (in terms of correlation) seems to be *numscreens*. The more features the users have tried out, the more likely they seem to be to enroll for premium. Playing the minigame also helps.\n",
    "\n",
    "Interestingly, however, using more premium features seems to be negatively correlated. This is strange."
   ]
  },
  {
   "cell_type": "markdown",
   "metadata": {},
   "source": [
    "### Correlation Matrix: Correlation of features with each-other.\n",
    "As already mentioned, we do not want our features to be correlated with each-other. Not only are those features redundant but moreover they might ruin our model. The assumption when building machine learning models is that features are independent from each-other."
   ]
  },
  {
   "cell_type": "code",
   "execution_count": 10,
   "metadata": {},
   "outputs": [
    {
     "data": {
      "image/png": "[encoded data removed]",
      "text/plain": [
       "<Figure size 648x504 with 2 Axes>"
      ]
     },
     "metadata": {},
     "output_type": "display_data"
    }
   ],
   "source": [
    "sn.set(style='white', font_scale=1.5)\n",
    "\n",
    "# Compute the correlation matrix\n",
    "# The correlation matrix is an array where the main diagonal separetes two identical triangles\n",
    "corrMatrix = features_temp.corr()\n",
    "\n",
    "# Create a mask for the upper triangle so that we can ignore it later when building the heatmap\n",
    "# When we pass this mask to the heatmap function it will generate no data for the upper triangle\n",
    "mask = np.zeros_like(corrMatrix, dtype=np.bool)\n",
    "# Get the indices of the upper-triangle of arr: triu_indices_from\n",
    "mask[np.triu_indices_from(mask)] = True\n",
    "\n",
    "# Generate a custom diverging colormap\n",
    "# Colormap for the different values of the correlation matrix\n",
    "cmap = sn.diverging_palette(220, 10, as_cmap=True)\n",
    "\n",
    "plt.figure(figsize=(9, 7))\n",
    "plt.title(\"Correlation Matrix of Features\")\n",
    "\n",
    "# Draw the heatmap\n",
    "sn.heatmap(corrMatrix, square=True, mask=mask, cmap=cmap, vmax=.3, center=0, linewidths=1.0,\n",
    "          cbar_kws={\"shrink\": 0.8})\n",
    "\n",
    "plt.show()"
   ]
  },
  {
   "cell_type": "markdown",
   "metadata": {},
   "source": [
    "We can see that *numscreens* seems to be slightly correlated with *minigame* and *used_premium_features* which makes sense since the more screens you go through the more likely you should be to hit those types of screens. It also makes sense that *minigame* is correlated to the premium features.\n",
    "\n",
    "All in all we can say that our variables do not appear to be linearly dependent and we can continue our analysis."
   ]
  },
  {
   "cell_type": "markdown",
   "metadata": {},
   "source": [
    "# 4. Prepare the data for the Machine Learning Model\n",
    "\n",
    "1. Feature Engineering\n",
    "2. One-Hot Encoding\n",
    "3. Class and Features\n",
    "4. Train/Test\n",
    "5. Feature Scaling"
   ]
  },
  {
   "cell_type": "markdown",
   "metadata": {},
   "source": [
    "## Feature Engineering\n",
    "\n",
    "What we want to do is fine tune the *enrolled* variable. We need to set a threshold on when we expect a user to convert to a paid member. If we do not set a threshold we cannot validate our model for future datasets and on production we want to predict continually and not wait weeks or months before making a prediction. For e.g., if we have a time limit of 3 days for enrollments to be considered then we only need to wait 3 days after the users have installed the app to make a prediction (whether the user is unlikely to subscribe) and thus the marketing people can target them with offers. "
   ]
  },
  {
   "cell_type": "code",
   "execution_count": 11,
   "metadata": {},
   "outputs": [
    {
     "data": {
      "text/plain": [
       "user                     int64\n",
       "first_open              object\n",
       "dayofweek                int64\n",
       "hour                     int32\n",
       "age                      int64\n",
       "screen_list             object\n",
       "numscreens               int64\n",
       "minigame                 int64\n",
       "used_premium_feature     int64\n",
       "enrolled                 int64\n",
       "enrolled_date           object\n",
       "liked                    int64\n",
       "dtype: object"
      ]
     },
     "execution_count": 11,
     "metadata": {},
     "output_type": "execute_result"
    }
   ],
   "source": [
    "features.dtypes"
   ]
  },
  {
   "cell_type": "markdown",
   "metadata": {},
   "source": [
    "First, convert the dates to date type."
   ]
  },
  {
   "cell_type": "code",
   "execution_count": 12,
   "metadata": {},
   "outputs": [],
   "source": [
    "features['first_open'] = [parser.parse(date) for date in features['first_open']]\n",
    "\n",
    "features['enrolled_date'] = [parser.parse(date) if isinstance(date, str) else date for date in features['enrolled_date']]\n"
   ]
  },
  {
   "cell_type": "code",
   "execution_count": 13,
   "metadata": {},
   "outputs": [
    {
     "data": {
      "text/plain": [
       "user                             int64\n",
       "first_open              datetime64[ns]\n",
       "dayofweek                        int64\n",
       "hour                             int32\n",
       "age                              int64\n",
       "screen_list                     object\n",
       "numscreens                       int64\n",
       "minigame                         int64\n",
       "used_premium_feature             int64\n",
       "enrolled                         int64\n",
       "enrolled_date           datetime64[ns]\n",
       "liked                            int64\n",
       "dtype: object"
      ]
     },
     "execution_count": 13,
     "metadata": {},
     "output_type": "execute_result"
    }
   ],
   "source": [
    "features.dtypes"
   ]
  },
  {
   "cell_type": "markdown",
   "metadata": {},
   "source": [
    "Now that we converted the dates into their proper type we can plot a distribution of the time since enrolled in a bid to find a threshold."
   ]
  },
  {
   "cell_type": "code",
   "execution_count": 14,
   "metadata": {},
   "outputs": [
    {
     "data": {
      "image/png": "[encoded data removed]",
      "text/plain": [
       "<Figure size 864x720 with 1 Axes>"
      ]
     },
     "metadata": {},
     "output_type": "display_data"
    }
   ],
   "source": [
    "# Calculate the absolute difference and convert it to hours\n",
    "features['difference'] = abs((features['first_open'] - features['enrolled_date']).astype('timedelta64[h]'))\n",
    "\n",
    "# Plot\n",
    "sn.set()\n",
    "plt.figure(figsize=(12,10))\n",
    "plt.hist(features['difference'].dropna(), range=[0,100])\n",
    "plt.title(\"Difference between first open and subscription\")\n",
    "plt.show()"
   ]
  },
  {
   "cell_type": "markdown",
   "metadata": {},
   "source": [
    "Pretty much everything happens within the first 10 hours but lets set a threshold of 48 hours for training our model. In other words we will train our model based on data gathered from users which decided if they wanted to subscribe to premium within the first 48 hours. This means that when our model reaches production, every time a user installs the app and is granted the premium features for free our model will yield an answer as to how likely this user is to continue using these premium features (therefore subscribing) after two days."
   ]
  },
  {
   "cell_type": "code",
   "execution_count": 15,
   "metadata": {},
   "outputs": [
    {
     "name": "stdout",
     "output_type": "stream",
     "text": [
      "Shape of our dataframe (43713, 10)\n"
     ]
    }
   ],
   "source": [
    "# Remove the records which have a greater difference\n",
    "features.drop(index=features[features['difference']>48].index, axis=0, inplace=True)\n",
    "\n",
    "# Drop columns that are no longer needed\n",
    "features.drop(columns=['difference', 'enrolled_date', 'first_open'], axis=1, inplace=True)\n",
    "\n",
    "print(\"Shape of our dataframe\",features.shape)"
   ]
  },
  {
   "cell_type": "markdown",
   "metadata": {},
   "source": [
    "## One-Hot Encoding\n",
    "Essentially [one-hot encoding](https://machinelearningmastery.com/why-one-hot-encode-data-in-machine-learning/) means converting categorical data into numerical data. \n",
    "\n",
    "In this case our most promising feature, *screen_list* is a categorial attribute."
   ]
  },
  {
   "cell_type": "code",
   "execution_count": 16,
   "metadata": {},
   "outputs": [
    {
     "data": {
      "text/html": [
       "<div>\n",
       "<style scoped>\n",
       "    .dataframe tbody tr th:only-of-type {\n",
       "        vertical-align: middle;\n",
       "    }\n",
       "\n",
       "    .dataframe tbody tr th {\n",
       "        vertical-align: top;\n",
       "    }\n",
       "\n",
       "    .dataframe thead th {\n",
       "        text-align: right;\n",
       "    }\n",
       "</style>\n",
       "<table border=\"1\" class=\"dataframe\">\n",
       "  <thead>\n",
       "    <tr style=\"text-align: right;\">\n",
       "      <th></th>\n",
       "      <th>screen_list</th>\n",
       "      <th>numscreens</th>\n",
       "    </tr>\n",
       "  </thead>\n",
       "  <tbody>\n",
       "    <tr>\n",
       "      <th>0</th>\n",
       "      <td>idscreen,joinscreen,Cycle,product_review,ScanP...</td>\n",
       "      <td>15</td>\n",
       "    </tr>\n",
       "    <tr>\n",
       "      <th>1</th>\n",
       "      <td>joinscreen,product_review,product_review2,Scan...</td>\n",
       "      <td>13</td>\n",
       "    </tr>\n",
       "    <tr>\n",
       "      <th>2</th>\n",
       "      <td>Splash,Cycle,Loan</td>\n",
       "      <td>3</td>\n",
       "    </tr>\n",
       "    <tr>\n",
       "      <th>3</th>\n",
       "      <td>product_review,Home,product_review,Loan3,Finan...</td>\n",
       "      <td>40</td>\n",
       "    </tr>\n",
       "    <tr>\n",
       "      <th>4</th>\n",
       "      <td>idscreen,joinscreen,Cycle,Credit3Container,Sca...</td>\n",
       "      <td>32</td>\n",
       "    </tr>\n",
       "    <tr>\n",
       "      <th>...</th>\n",
       "      <td>...</td>\n",
       "      <td>...</td>\n",
       "    </tr>\n",
       "    <tr>\n",
       "      <th>49995</th>\n",
       "      <td>Splash,Home,ScanPreview,VerifyPhone,VerifySSN,...</td>\n",
       "      <td>13</td>\n",
       "    </tr>\n",
       "    <tr>\n",
       "      <th>49996</th>\n",
       "      <td>Cycle,Splash,Home,RewardsContainer</td>\n",
       "      <td>4</td>\n",
       "    </tr>\n",
       "    <tr>\n",
       "      <th>49997</th>\n",
       "      <td>joinscreen,product_review,product_review2,Scan...</td>\n",
       "      <td>25</td>\n",
       "    </tr>\n",
       "    <tr>\n",
       "      <th>49998</th>\n",
       "      <td>Cycle,Home,product_review,product_review,produ...</td>\n",
       "      <td>26</td>\n",
       "    </tr>\n",
       "    <tr>\n",
       "      <th>49999</th>\n",
       "      <td>product_review,ScanPreview,VerifyDateOfBirth,V...</td>\n",
       "      <td>26</td>\n",
       "    </tr>\n",
       "  </tbody>\n",
       "</table>\n",
       "<p>43713 rows × 2 columns</p>\n",
       "</div>"
      ],
      "text/plain": [
       "                                             screen_list  numscreens\n",
       "0      idscreen,joinscreen,Cycle,product_review,ScanP...          15\n",
       "1      joinscreen,product_review,product_review2,Scan...          13\n",
       "2                                      Splash,Cycle,Loan           3\n",
       "3      product_review,Home,product_review,Loan3,Finan...          40\n",
       "4      idscreen,joinscreen,Cycle,Credit3Container,Sca...          32\n",
       "...                                                  ...         ...\n",
       "49995  Splash,Home,ScanPreview,VerifyPhone,VerifySSN,...          13\n",
       "49996                 Cycle,Splash,Home,RewardsContainer           4\n",
       "49997  joinscreen,product_review,product_review2,Scan...          25\n",
       "49998  Cycle,Home,product_review,product_review,produ...          26\n",
       "49999  product_review,ScanPreview,VerifyDateOfBirth,V...          26\n",
       "\n",
       "[43713 rows x 2 columns]"
      ]
     },
     "execution_count": 16,
     "metadata": {},
     "output_type": "execute_result"
    }
   ],
   "source": [
    "features[['screen_list', 'numscreens']]"
   ]
  },
  {
   "cell_type": "code",
   "execution_count": 17,
   "metadata": {},
   "outputs": [
    {
     "name": "stdout",
     "output_type": "stream",
     "text": [
      "Max number of screens in all samples: 325\n"
     ]
    }
   ],
   "source": [
    "print(\"Max number of screens in all samples:\", max(features['numscreens']))"
   ]
  },
  {
   "cell_type": "markdown",
   "metadata": {},
   "source": [
    "If we simply convert the *screen_list* categorical data into numerical features we will blow up the number of features. \n",
    "\n",
    "A better strategy is to find the most common screens and only portray them. While all the other, less common screens we put into one single column."
   ]
  },
  {
   "cell_type": "code",
   "execution_count": 18,
   "metadata": {},
   "outputs": [
    {
     "data": {
      "text/plain": [
       "array(['product_review', 'Home', 'ScanPreview', 'VerifyPhone', 'location',\n",
       "       'Loan2', 'VerifyDateOfBirth', 'VerifySSN', 'VerifyCountry',\n",
       "       'VerifyToken', 'product_review3', 'SelectInstitution', 'Cycle',\n",
       "       'idscreen', 'product_review2', 'Credit3Container',\n",
       "       'BankVerification', 'Institutions', 'joinscreen', 'Credit1',\n",
       "       'Credit3Dashboard', 'Splash', 'ReferralContainer', 'ProfilePage',\n",
       "       'Loan3', 'Credit2', 'Credit3', 'Loan1', 'CC1', 'RewardsContainer',\n",
       "       'Finances', 'MLWebView', 'CommunityAndInvites', 'Settings',\n",
       "       'Alerts', 'CC1Category', 'Saving9', 'VerifyMobile', 'Saving8',\n",
       "       'Leaderboard', 'Saving1', 'EditProfile', 'Saving10',\n",
       "       'ProfileMaritalStatus', 'ProfileChildren', 'VerifyHousing',\n",
       "       'Saving4', 'ProfileEducation', 'VerifyHousingAmount',\n",
       "       'ProfileEducationMajor', 'ProfileVerifySSN', 'GroupedInstitutions',\n",
       "       'History', 'RewardDetail', 'CC3', 'AccountView', 'Saving7',\n",
       "       'Rewards', 'Rewardjoinscreen', 'LoginForm', 'VerifyIncomeType',\n",
       "       'VerifyAnnualIncome', 'WebView', 'ProfileJobTitle',\n",
       "       'ProfileCompanyName', 'ProfileEmploymentLength', 'Saving6',\n",
       "       'Saving5', 'Login', 'Loan4', 'FindFriendsCycle', 'Saving2',\n",
       "       'VerifyBankInfo', 'ResendToken', 'Saving2Amount', 'SecurityModal',\n",
       "       'TransactionList', 'NewContactListInvite', 'product_review4',\n",
       "       'Loan'], dtype='<U25')"
      ]
     },
     "execution_count": 18,
     "metadata": {},
     "output_type": "execute_result"
    }
   ],
   "source": [
    "counter={}\n",
    "for index, row in features.iterrows():\n",
    "    screens = row['screen_list'].split(\",\")\n",
    "    \n",
    "    for sc in screens:\n",
    "        if sc not in counter.keys():\n",
    "            counter[sc]=1\n",
    "        else:\n",
    "            counter[sc]+=1\n",
    "\n",
    "# Sort\n",
    "counter = {k: v for k, v in sorted(counter.items(), key=lambda item: item[1], reverse=True)}\n",
    "\n",
    "# Pick the top screens\n",
    "top_screens = np.array([key for key, val in counter.items()])[:80]\n",
    "top_screens"
   ]
  },
  {
   "cell_type": "markdown",
   "metadata": {},
   "source": [
    "The strategy here is basically to create features for the popular screens and for the rest to just create one single feature"
   ]
  },
  {
   "cell_type": "code",
   "execution_count": 19,
   "metadata": {},
   "outputs": [],
   "source": [
    "# This will be needed later, just add one comma\n",
    "features['screen_list'] = features['screen_list'].astype(str)+','\n",
    "\n",
    "# Add new columns for the top screens\n",
    "for sc in top_screens:\n",
    "    # Add a 1 or 0 if the screen is found in the screen list\n",
    "    features[sc] = features['screen_list'].str.contains(sc).astype(int)\n",
    "    # Remove the screen from the screen list\n",
    "    features['screen_list'] = features['screen_list'].replace(sc+',', '')"
   ]
  },
  {
   "cell_type": "markdown",
   "metadata": {},
   "source": [
    "We are now essentially left with the the other screen_lists. We will just create one sum up column for them"
   ]
  },
  {
   "cell_type": "code",
   "execution_count": 20,
   "metadata": {},
   "outputs": [
    {
     "name": "stdout",
     "output_type": "stream",
     "text": [
      "Shape of dataframe: (43713, 90)\n"
     ]
    }
   ],
   "source": [
    "# We added a comma earlier because we essentially are counting commas and the last term doesn't have one\n",
    "features['other_screens'] = features['screen_list'].str.count(\",\")\n",
    "\n",
    "# Finally drop the screen_list column\n",
    "features.drop('screen_list', axis=1, inplace=True)\n",
    "\n",
    "print(\"Shape of dataframe:\", features.shape)"
   ]
  },
  {
   "cell_type": "markdown",
   "metadata": {},
   "source": [
    "However, we are not quite done yet because it looks like many screens might be correlated with each-other. When we printed them out earlier we can notice that we have *Saving9, Saving8* or *Credit2, Credit1*. Therefore we recompute the correlation matrix. This is called funneling. If they belong to the same funnel then they should be combined in one single feature."
   ]
  },
  {
   "cell_type": "code",
   "execution_count": 21,
   "metadata": {},
   "outputs": [
    {
     "data": {
      "text/plain": [
       "[('VerifyDateOfBirth', 'location'),\n",
       " ('VerifySSN', 'VerifyPhone'),\n",
       " ('VerifyToken', 'VerifyPhone'),\n",
       " ('VerifyToken', 'VerifyCountry'),\n",
       " ('BankVerification', 'SelectInstitution'),\n",
       " ('Institutions', 'Credit3Container'),\n",
       " ('Credit3', 'Credit3Container'),\n",
       " ('Finances', 'Loan3'),\n",
       " ('CC1Category', 'CC1'),\n",
       " ('Saving8', 'Saving9'),\n",
       " ('Saving1', 'Saving9'),\n",
       " ('Saving1', 'Saving8'),\n",
       " ('Saving10', 'Saving9'),\n",
       " ('Saving10', 'Saving8'),\n",
       " ('Saving10', 'Saving1'),\n",
       " ('ProfileMaritalStatus', 'Saving8'),\n",
       " ('ProfileChildren', 'Saving8'),\n",
       " ('ProfileChildren', 'ProfileMaritalStatus'),\n",
       " ('VerifyHousing', 'Saving8'),\n",
       " ('VerifyHousing', 'Saving1'),\n",
       " ('VerifyHousing', 'Saving10'),\n",
       " ('Saving4', 'Saving9'),\n",
       " ('Saving4', 'Saving1'),\n",
       " ('Saving4', 'Saving10'),\n",
       " ('ProfileEducation', 'Saving8'),\n",
       " ('ProfileEducation', 'ProfileMaritalStatus'),\n",
       " ('ProfileEducation', 'ProfileChildren'),\n",
       " ('ProfileEducation', 'VerifyHousing'),\n",
       " ('VerifyHousingAmount', 'Saving8'),\n",
       " ('VerifyHousingAmount', 'Saving1'),\n",
       " ('VerifyHousingAmount', 'Saving10'),\n",
       " ('VerifyHousingAmount', 'VerifyHousing'),\n",
       " ('ProfileEducationMajor', 'Saving8'),\n",
       " ('ProfileEducationMajor', 'ProfileMaritalStatus'),\n",
       " ('ProfileEducationMajor', 'ProfileChildren'),\n",
       " ('ProfileEducationMajor', 'ProfileEducation'),\n",
       " ('CC3', 'CC1Category'),\n",
       " ('Saving7', 'Saving9'),\n",
       " ('Saving7', 'Saving8'),\n",
       " ('Saving7', 'Saving1'),\n",
       " ('Saving7', 'Saving10'),\n",
       " ('Saving7', 'Saving4'),\n",
       " ('Rewards', 'RewardsContainer'),\n",
       " ('WebView', 'MLWebView'),\n",
       " ('ProfileJobTitle', 'VerifyIncomeType'),\n",
       " ('ProfileCompanyName', 'VerifyIncomeType'),\n",
       " ('ProfileCompanyName', 'ProfileJobTitle'),\n",
       " ('ProfileEmploymentLength', 'VerifyIncomeType'),\n",
       " ('ProfileEmploymentLength', 'ProfileJobTitle'),\n",
       " ('ProfileEmploymentLength', 'ProfileCompanyName'),\n",
       " ('Saving6', 'Saving7'),\n",
       " ('Saving5', 'Saving7'),\n",
       " ('Saving5', 'Saving6'),\n",
       " ('Login', 'LoginForm'),\n",
       " ('Saving2Amount', 'Saving2'),\n",
       " ('NewContactListInvite', 'FindFriendsCycle'),\n",
       " ('Loan', 'Loan2')]"
      ]
     },
     "execution_count": 21,
     "metadata": {},
     "output_type": "execute_result"
    }
   ],
   "source": [
    "corrMatrix2 = np.array(features.corr())\n",
    "correlatedFeat=[]\n",
    "\n",
    "for i in range(9, len(corrMatrix2)):\n",
    "    for j in range(9, i):\n",
    "        if abs(corrMatrix2[j][i]) > 0.6:\n",
    "            correlatedFeat.append((features.columns[i], features.columns[j]))\n",
    "\n",
    "correlatedFeat"
   ]
  },
  {
   "cell_type": "code",
   "execution_count": 22,
   "metadata": {},
   "outputs": [],
   "source": [
    "savings_screens = [\n",
    "    \"Saving1\",\n",
    "    \"Saving4\",\n",
    "    \"Saving5\",\n",
    "    \"Saving6\",\n",
    "    \"Saving7\",\n",
    "    \"Saving8\",\n",
    "    \"Saving9\",\n",
    "    \"Saving10\",\n",
    "]\n",
    "# Sum all the fields in savings_count by column\n",
    "features['savings_count'] = features[savings_screens].sum(axis=1)\n",
    "# Drop the other savings fields\n",
    "features.drop(columns=savings_screens, axis=1, inplace=True)"
   ]
  },
  {
   "cell_type": "markdown",
   "metadata": {},
   "source": [
    "We removed all the savings because they are highligh correlated and we aggregated them all into a big saving's column.\n",
    "\n",
    "Lets funnel other groups."
   ]
  },
  {
   "cell_type": "code",
   "execution_count": 23,
   "metadata": {},
   "outputs": [],
   "source": [
    "cm_screens = [\n",
    "    \"Credit3\",\n",
    "    \"Credit3Container\",\n",
    "    \"Credit3Dashboard\",\n",
    "    \"Credit2\",\n",
    "    \"Credit1\"\n",
    "]\n",
    "\n",
    "# sum by column\n",
    "features['cm_screens'] = features[cm_screens].sum(axis=1)\n",
    "features.drop(columns=cm_screens, axis=1, inplace=True)"
   ]
  },
  {
   "cell_type": "code",
   "execution_count": 24,
   "metadata": {},
   "outputs": [],
   "source": [
    "cc_screens = [\n",
    "    \"CC1\",\n",
    "    \"CC1Category\",\n",
    "    \"CC3\"\n",
    "]\n",
    "features[\"cc_screens\"] = features[cc_screens].sum(axis=1)\n",
    "features.drop(columns=cc_screens, axis=1, inplace=True)"
   ]
  },
  {
   "cell_type": "code",
   "execution_count": 25,
   "metadata": {},
   "outputs": [],
   "source": [
    "loan_screens=[\n",
    "    \"Loan\",\n",
    "    \"Loan2\",\n",
    "    \"Loan3\",\n",
    "    \"Loan4\",\n",
    "]\n",
    "features['loan_screens'] = features[loan_screens].sum(axis=1)\n",
    "features.drop(columns=loan_screens, axis=1, inplace=True)"
   ]
  },
  {
   "cell_type": "code",
   "execution_count": 26,
   "metadata": {},
   "outputs": [
    {
     "data": {
      "text/plain": [
       "Index(['user', 'dayofweek', 'hour', 'age', 'numscreens', 'minigame',\n",
       "       'used_premium_feature', 'enrolled', 'liked', 'product_review', 'Home',\n",
       "       'ScanPreview', 'VerifyPhone', 'location', 'VerifyDateOfBirth',\n",
       "       'VerifySSN', 'VerifyCountry', 'VerifyToken', 'product_review3',\n",
       "       'SelectInstitution', 'Cycle', 'idscreen', 'product_review2',\n",
       "       'BankVerification', 'Institutions', 'joinscreen', 'Splash',\n",
       "       'ReferralContainer', 'ProfilePage', 'Loan1', 'RewardsContainer',\n",
       "       'Finances', 'MLWebView', 'CommunityAndInvites', 'Settings', 'Alerts',\n",
       "       'VerifyMobile', 'Leaderboard', 'EditProfile', 'ProfileMaritalStatus',\n",
       "       'ProfileChildren', 'VerifyHousing', 'ProfileEducation',\n",
       "       'VerifyHousingAmount', 'ProfileEducationMajor', 'ProfileVerifySSN',\n",
       "       'GroupedInstitutions', 'History', 'RewardDetail', 'AccountView',\n",
       "       'Rewards', 'Rewardjoinscreen', 'LoginForm', 'VerifyIncomeType',\n",
       "       'VerifyAnnualIncome', 'WebView', 'ProfileJobTitle',\n",
       "       'ProfileCompanyName', 'ProfileEmploymentLength', 'Login',\n",
       "       'FindFriendsCycle', 'Saving2', 'VerifyBankInfo', 'ResendToken',\n",
       "       'Saving2Amount', 'SecurityModal', 'TransactionList',\n",
       "       'NewContactListInvite', 'product_review4', 'other_screens',\n",
       "       'savings_count', 'cm_screens', 'cc_screens', 'loan_screens'],\n",
       "      dtype='object')"
      ]
     },
     "execution_count": 26,
     "metadata": {},
     "output_type": "execute_result"
    }
   ],
   "source": [
    "features.columns"
   ]
  },
  {
   "cell_type": "code",
   "execution_count": 27,
   "metadata": {},
   "outputs": [
    {
     "name": "stdout",
     "output_type": "stream",
     "text": [
      "Final shape of dataset (43713, 74)\n"
     ]
    }
   ],
   "source": [
    "print(\"Final shape of dataset\", features.shape)"
   ]
  },
  {
   "cell_type": "markdown",
   "metadata": {},
   "source": [
    "## Separate class from features\n",
    "Our predicted class and the independent variables should be distinct"
   ]
  },
  {
   "cell_type": "code",
   "execution_count": 28,
   "metadata": {},
   "outputs": [],
   "source": [
    "labels = features['enrolled']\n",
    "features.drop('enrolled', axis=1, inplace=True)"
   ]
  },
  {
   "cell_type": "markdown",
   "metadata": {},
   "source": [
    "## Split into Train-Test"
   ]
  },
  {
   "cell_type": "code",
   "execution_count": 29,
   "metadata": {},
   "outputs": [],
   "source": [
    "train_features, test_features, train_labels, test_labels = train_test_split(features, labels, test_size=0.25,\n",
    "                                                                           random_state=0)"
   ]
  },
  {
   "cell_type": "code",
   "execution_count": 30,
   "metadata": {},
   "outputs": [
    {
     "name": "stdout",
     "output_type": "stream",
     "text": [
      "(32784, 73)\n",
      "(10929, 73)\n",
      "(32784,)\n",
      "(10929,)\n"
     ]
    }
   ],
   "source": [
    "print(train_features.shape)\n",
    "print(test_features.shape)\n",
    "print(train_labels.shape)\n",
    "print(test_labels.shape)"
   ]
  },
  {
   "cell_type": "markdown",
   "metadata": {},
   "source": [
    "Lets remove the user id for now and store it somewhere for later use"
   ]
  },
  {
   "cell_type": "code",
   "execution_count": 31,
   "metadata": {},
   "outputs": [
    {
     "name": "stderr",
     "output_type": "stream",
     "text": [
      "C:\\Users\\rejna\\Anaconda3\\lib\\site-packages\\pandas\\core\\frame.py:3997: SettingWithCopyWarning: \n",
      "A value is trying to be set on a copy of a slice from a DataFrame\n",
      "\n",
      "See the caveats in the documentation: https://pandas.pydata.org/pandas-docs/stable/user_guide/indexing.html#returning-a-view-versus-a-copy\n",
      "  errors=errors,\n"
     ]
    }
   ],
   "source": [
    "train_uid=train_features['user']\n",
    "train_features.drop('user', axis=1, inplace=True)\n",
    "\n",
    "test_uid=test_features['user']\n",
    "test_features.drop('user', axis=1, inplace=True)"
   ]
  },
  {
   "cell_type": "markdown",
   "metadata": {},
   "source": [
    "## Feature scaling\n",
    "Feature scaling is a very important component of machine learning algorithms that are dependent on distance measures (euclidean, [chebyshev](https://en.wikipedia.org/wiki/Chebyshev_distance), Manhattan distance etc). Such algorithms include Linear and Logistic Regression, SVN and Neural Networks. Other algorithms like Naive Bayes or Decision Trees can do without it.\n",
    "\n",
    "The reason is that unless normalization occurs, then the whole distance measure will be dominated by the greatest feature. Suppose for instance that you have a feature vector of two features, namely age and salary. Because age will be in the values raging from 15-80 and salary from 5k-10M the whole distance will be totally dominated by the salary. \n",
    "\n",
    "To avoid this we perform feature scaling.\n"
   ]
  },
  {
   "cell_type": "code",
   "execution_count": 32,
   "metadata": {},
   "outputs": [],
   "source": [
    "# The standard scaler will return numpy arrays but this will not have the columns or any index\n",
    "# which we need for our model! We will therefore use some intermediatte variables.\n",
    "scaler = StandardScaler()\n",
    "\n",
    "train_features2 = pd.DataFrame(scaler.fit_transform(train_features))\n",
    "# Set column names\n",
    "train_features2.columns = train_features.columns\n",
    "# Set indices\n",
    "train_features2.index = train_features.index.values\n",
    "\n",
    "test_features2 = pd.DataFrame(scaler.transform(test_features))\n",
    "test_features2.columns = test_features.columns\n",
    "test_features2.index = test_features.index.values"
   ]
  },
  {
   "cell_type": "code",
   "execution_count": 33,
   "metadata": {},
   "outputs": [],
   "source": [
    "train_features = train_features2\n",
    "test_features = test_features2"
   ]
  },
  {
   "cell_type": "markdown",
   "metadata": {},
   "source": [
    "# 5. Training The Model\n",
    "\n",
    "We will set the model to be a lasso regularization. We have too many features that came up as a result of the one-hot encoding of the screen's feature. Lasso regularization will ensure that any features that are redundant are discarded."
   ]
  },
  {
   "cell_type": "code",
   "execution_count": 34,
   "metadata": {},
   "outputs": [
    {
     "data": {
      "text/plain": [
       "LogisticRegression(C=1.0, class_weight=None, dual=False, fit_intercept=True,\n",
       "                   intercept_scaling=1, l1_ratio=None, max_iter=100,\n",
       "                   multi_class='auto', n_jobs=None, penalty='l1',\n",
       "                   random_state=3, solver='liblinear', tol=0.0001, verbose=0,\n",
       "                   warm_start=False)"
      ]
     },
     "execution_count": 34,
     "metadata": {},
     "output_type": "execute_result"
    }
   ],
   "source": [
    "# A random state ensures that our results are replicable\n",
    "classifier = LogisticRegression(random_state=3, penalty='l1', solver='liblinear')\n",
    "classifier.fit(train_features, train_labels)"
   ]
  },
  {
   "cell_type": "markdown",
   "metadata": {},
   "source": [
    "# 6. Make predictions on the test data"
   ]
  },
  {
   "cell_type": "code",
   "execution_count": 35,
   "metadata": {},
   "outputs": [
    {
     "data": {
      "text/plain": [
       "array([0, 0, 0, ..., 1, 0, 0], dtype=int64)"
      ]
     },
     "execution_count": 35,
     "metadata": {},
     "output_type": "execute_result"
    }
   ],
   "source": [
    "predictions = classifier.predict(test_features)\n",
    "predictions"
   ]
  },
  {
   "cell_type": "markdown",
   "metadata": {},
   "source": [
    "# 7. Evaluating the Model\n",
    "One great way to do this is using the confusion matirx"
   ]
  },
  {
   "cell_type": "code",
   "execution_count": 36,
   "metadata": {},
   "outputs": [
    {
     "name": "stdout",
     "output_type": "stream",
     "text": [
      "The accuracy of our model is:  0.89\n",
      "Micro precision: 0.89\n",
      "Precision: 0.97\n",
      "Recall: 0.83\n",
      "F1 score: 0.89\n"
     ]
    }
   ],
   "source": [
    "confusionMat = confusion_matrix(y_true=test_labels, y_pred=predictions)\n",
    "print(\"The accuracy of our model is: \", round(accuracy_score(test_labels, predictions), 2))\n",
    "print(\"Micro precision:\", round(sum(np.diag(confusionMat)/sum(sum(confusionMat))), 2))\n",
    "print(\"Precision:\", round(precision_score(test_labels, predictions), 2))\n",
    "print(\"Recall:\", round(recall_score(test_labels, predictions), 2))\n",
    "print(\"F1 score:\", round(f1_score(test_labels, predictions), 2))"
   ]
  },
  {
   "cell_type": "markdown",
   "metadata": {},
   "source": [
    "A precision and accuracy of 89% is pretty good. The other measures also support this."
   ]
  },
  {
   "cell_type": "markdown",
   "metadata": {},
   "source": [
    "## Visualize the Confusion Matrix"
   ]
  },
  {
   "cell_type": "code",
   "execution_count": 37,
   "metadata": {},
   "outputs": [
    {
     "data": {
      "image/png": "[encoded data removed]",
      "text/plain": [
       "<Figure size 648x504 with 2 Axes>"
      ]
     },
     "metadata": {},
     "output_type": "display_data"
    }
   ],
   "source": [
    "plt.figure(figsize=(9,7))\n",
    "sn.heatmap(confusionMat, square=True, annot=True, fmt='d', cbar=True)\n",
    "plt.xlabel(\"Predicted\"); plt.ylabel(\"Ground Truth\"); plt.show()"
   ]
  },
  {
   "cell_type": "markdown",
   "metadata": {},
   "source": [
    "We can indeed tell that our model is doing a good job!"
   ]
  },
  {
   "cell_type": "markdown",
   "metadata": {},
   "source": [
    "# 8. Adjusting the Model\n",
    "Essentially there are three things that we can do\n",
    "1. Acquiring more data: As things stand we already have plenty of data and cannot acquire more\n",
    "2. Playing with Hyperparameters: we already specified lasso regression for our model\n",
    "3. Choosing a different model altogether"
   ]
  },
  {
   "cell_type": "markdown",
   "metadata": {},
   "source": [
    "## K-Fold cross validation\n",
    "\n",
    "[K-fold](https://www.youtube.com/watch?v=fSytzGwwBVw) cross validation partitions our data in k-folds (for instance 10) and it iterates in such a way that each fold is used for testing once with the rest of the folds being testing data."
   ]
  },
  {
   "cell_type": "code",
   "execution_count": 38,
   "metadata": {},
   "outputs": [
    {
     "name": "stdout",
     "output_type": "stream",
     "text": [
      "Accuracy with a 10-fold cross validation: 0.89\n"
     ]
    }
   ],
   "source": [
    "accuracies = cross_val_score(estimator=classifier, X=train_features, y=train_labels, cv=10)\n",
    "print(\"Accuracy with a 10-fold cross validation:\", round(np.mean(accuracies), 2))"
   ]
  },
  {
   "cell_type": "markdown",
   "metadata": {},
   "source": [
    "It looks like the performance is the same!"
   ]
  },
  {
   "cell_type": "markdown",
   "metadata": {},
   "source": [
    "# 9. Interpret the model and report results visually and numerically"
   ]
  },
  {
   "cell_type": "code",
   "execution_count": 39,
   "metadata": {},
   "outputs": [
    {
     "data": {
      "text/html": [
       "<div>\n",
       "<style scoped>\n",
       "    .dataframe tbody tr th:only-of-type {\n",
       "        vertical-align: middle;\n",
       "    }\n",
       "\n",
       "    .dataframe tbody tr th {\n",
       "        vertical-align: top;\n",
       "    }\n",
       "\n",
       "    .dataframe thead th {\n",
       "        text-align: right;\n",
       "    }\n",
       "</style>\n",
       "<table border=\"1\" class=\"dataframe\">\n",
       "  <thead>\n",
       "    <tr style=\"text-align: right;\">\n",
       "      <th></th>\n",
       "      <th>user</th>\n",
       "      <th>enrolled</th>\n",
       "      <th>predicted</th>\n",
       "    </tr>\n",
       "  </thead>\n",
       "  <tbody>\n",
       "    <tr>\n",
       "      <th>0</th>\n",
       "      <td>251410</td>\n",
       "      <td>0</td>\n",
       "      <td>0</td>\n",
       "    </tr>\n",
       "    <tr>\n",
       "      <th>1</th>\n",
       "      <td>132536</td>\n",
       "      <td>1</td>\n",
       "      <td>0</td>\n",
       "    </tr>\n",
       "    <tr>\n",
       "      <th>2</th>\n",
       "      <td>38654</td>\n",
       "      <td>0</td>\n",
       "      <td>0</td>\n",
       "    </tr>\n",
       "    <tr>\n",
       "      <th>3</th>\n",
       "      <td>122925</td>\n",
       "      <td>0</td>\n",
       "      <td>0</td>\n",
       "    </tr>\n",
       "    <tr>\n",
       "      <th>4</th>\n",
       "      <td>122887</td>\n",
       "      <td>1</td>\n",
       "      <td>1</td>\n",
       "    </tr>\n",
       "    <tr>\n",
       "      <th>...</th>\n",
       "      <td>...</td>\n",
       "      <td>...</td>\n",
       "      <td>...</td>\n",
       "    </tr>\n",
       "    <tr>\n",
       "      <th>10924</th>\n",
       "      <td>226556</td>\n",
       "      <td>1</td>\n",
       "      <td>1</td>\n",
       "    </tr>\n",
       "    <tr>\n",
       "      <th>10925</th>\n",
       "      <td>2645</td>\n",
       "      <td>1</td>\n",
       "      <td>1</td>\n",
       "    </tr>\n",
       "    <tr>\n",
       "      <th>10926</th>\n",
       "      <td>42051</td>\n",
       "      <td>1</td>\n",
       "      <td>1</td>\n",
       "    </tr>\n",
       "    <tr>\n",
       "      <th>10927</th>\n",
       "      <td>314895</td>\n",
       "      <td>0</td>\n",
       "      <td>0</td>\n",
       "    </tr>\n",
       "    <tr>\n",
       "      <th>10928</th>\n",
       "      <td>161675</td>\n",
       "      <td>0</td>\n",
       "      <td>0</td>\n",
       "    </tr>\n",
       "  </tbody>\n",
       "</table>\n",
       "<p>10929 rows × 3 columns</p>\n",
       "</div>"
      ],
      "text/plain": [
       "         user  enrolled  predicted\n",
       "0      251410         0          0\n",
       "1      132536         1          0\n",
       "2       38654         0          0\n",
       "3      122925         0          0\n",
       "4      122887         1          1\n",
       "...       ...       ...        ...\n",
       "10924  226556         1          1\n",
       "10925    2645         1          1\n",
       "10926   42051         1          1\n",
       "10927  314895         0          0\n",
       "10928  161675         0          0\n",
       "\n",
       "[10929 rows x 3 columns]"
      ]
     },
     "execution_count": 39,
     "metadata": {},
     "output_type": "execute_result"
    }
   ],
   "source": [
    "# Combine the results into a final data frame\n",
    "final_results = pd.concat([test_uid, test_labels], axis=1).dropna()\n",
    "final_results['predicted'] = predictions\n",
    "# Reset the indices\n",
    "final_results = final_results.reset_index(drop=True)\n",
    "final_results"
   ]
  },
  {
   "cell_type": "markdown",
   "metadata": {},
   "source": [
    "## Conclusion\n",
    "\n",
    "Our model will label every new user as highly likely or unlikely to subscribe (and all this within the first 48h). This will ensure that the company only narrows the marketing efforts on those users who appear to be unlikely to subscribe. \n",
    "\n",
    "In this small project we saw and end-to end-machine learning example! We saw the data analysis pipeline and finally applied a logistic regression model which achieved a very good precision of **89%.**"
   ]
  }
 ],
 "metadata": {
  "kernelspec": {
   "display_name": "Python 3",
   "language": "python",
   "name": "python3"
  },
  "language_info": {
   "codemirror_mode": {
    "name": "ipython",
    "version": 3
   },
   "file_extension": ".py",
   "mimetype": "text/x-python",
   "name": "python",
   "nbconvert_exporter": "python",
   "pygments_lexer": "ipython3",
   "version": "3.7.3"
  }
 },
 "nbformat": 4,
 "nbformat_minor": 4
}
