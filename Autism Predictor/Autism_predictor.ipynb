{
 "cells": [
  {
   "cell_type": "markdown",
   "metadata": {},
   "source": [
    "# The Pipeline\n",
    "\n",
    "1. Question and required data\n",
    "2. Acquire the data\n",
    "3. Data Analysis\n",
    "4. Prepare the data for the ML model\n",
    "5. Building & Training the model\n",
    "6. Testing the model\n",
    "7. Interpreting the model"
   ]
  },
  {
   "cell_type": "markdown",
   "metadata": {},
   "source": [
    "# Problem Introduction: Autistic Spectrum Disorder (ASD) predictive model\n",
    "\n",
    "### Question and the required data\n",
    "\n",
    "Waiting times for an ASD diagnosis and the lengthy procedures related to it are most surely not cost effective. \n",
    "This means that a time-effective and accurate ASD screening is imminent to help health professionals but also individuals in their diagnosis. \n",
    "\n",
    "Current datasets in the field are largely limited. The following is a comprehensive dataset containing 20 features. Half of them are behavioral features (AQ-10-Adult) and the other half are individual characteristics that have proved to be effective in detecting ASD. <br>\n",
    "The dataset can be easily accessed at [this](https://archive.ics.uci.edu/ml/datasets/Autism+Screening+Adult) link. The original format was *arff* with the data types also not being correct. A first preprocessing of the data was therefore already done in the script *arff_to_csv.py*.\n",
    "\n",
    "### ML problem chracteristics\n",
    "1. Task: **Classification**\n",
    "2. Attribute Types: **Categorical, continuous & binary**\n",
    "3. Missing Values: **Yes**\n",
    "4. **20 Attributes**\n",
    "5. **704 Instances**\n",
    "6. ML Model: **Deep Learning**\n",
    "7. Deep Learning library: **Keras (Tensorflow)**\n",
    "8. Hyperparameter tunning: **Talos**\n",
    "\n",
    "\n",
    "#### The feature vector\n",
    "- *A1_Score - A10Score:* 10 behavioral features. The answer code to the question based on the screening method used. A screening method is basically a simple measurement providing a *'yes/no'* response.\n",
    "- *age:* Age in years\n",
    "- *gender:* male or female\n",
    "- *ethnicity:* a list of common ethnicities\n",
    "- *jaundice:* whether the person was born with jaundice\n",
    "- *autism:* whether any immediate family member has autism\n",
    "- *country_of_res:* a list of countries of residence\n",
    "- *result:* the final score based on the score algorithm of the screening method used\n",
    "- *relation:* who is completing the test"
   ]
  },
  {
   "cell_type": "code",
   "execution_count": 1,
   "metadata": {},
   "outputs": [
    {
     "name": "stderr",
     "output_type": "stream",
     "text": [
      "Using TensorFlow backend.\n"
     ]
    },
    {
     "data": {
      "text/plain": [
       "'2.0.0'"
      ]
     },
     "execution_count": 1,
     "metadata": {},
     "output_type": "execute_result"
    }
   ],
   "source": [
    "import numpy as np\n",
    "import pandas as pd\n",
    "import matplotlib.pyplot as plt\n",
    "import seaborn as sns\n",
    "\n",
    "from collections import Counter\n",
    "\n",
    "from sklearn.impute import SimpleImputer\n",
    "from sklearn.model_selection import train_test_split\n",
    "from sklearn.preprocessing import StandardScaler\n",
    "from sklearn.metrics import accuracy_score\n",
    "\n",
    "import tensorflow as tf\n",
    "from tensorflow import keras\n",
    "from keras.models import Sequential\n",
    "from keras.layers import Dropout, Dense\n",
    "import talos\n",
    "\n",
    "sns.set()\n",
    "tf.__version__"
   ]
  },
  {
   "cell_type": "markdown",
   "metadata": {},
   "source": [
    "## Data Analysis\n",
    "1. [Tidy](https://cran.r-project.org/web/packages/tidyr/vignettes/tidy-data.html) Data: by default\n",
    "2. **Acquaintance with the data**\n",
    "3. Missing Data\n",
    "4. Outliers\n",
    "5. Class-Imbalance Problem\n",
    "6. One-Hot Encoding\n",
    "7. Feature Correlation"
   ]
  },
  {
   "cell_type": "code",
   "execution_count": 2,
   "metadata": {},
   "outputs": [
    {
     "name": "stdout",
     "output_type": "stream",
     "text": [
      "The dataset has 704 samples and 21 features (including the label)\n"
     ]
    },
    {
     "data": {
      "text/html": [
       "<div>\n",
       "<style scoped>\n",
       "    .dataframe tbody tr th:only-of-type {\n",
       "        vertical-align: middle;\n",
       "    }\n",
       "\n",
       "    .dataframe tbody tr th {\n",
       "        vertical-align: top;\n",
       "    }\n",
       "\n",
       "    .dataframe thead th {\n",
       "        text-align: right;\n",
       "    }\n",
       "</style>\n",
       "<table border=\"1\" class=\"dataframe\">\n",
       "  <thead>\n",
       "    <tr style=\"text-align: right;\">\n",
       "      <th></th>\n",
       "      <th>A1_Score</th>\n",
       "      <th>A2_Score</th>\n",
       "      <th>A3_Score</th>\n",
       "      <th>A4_Score</th>\n",
       "      <th>A5_Score</th>\n",
       "      <th>A6_Score</th>\n",
       "      <th>A7_Score</th>\n",
       "      <th>A8_Score</th>\n",
       "      <th>A9_Score</th>\n",
       "      <th>A10_Score</th>\n",
       "      <th>...</th>\n",
       "      <th>gender</th>\n",
       "      <th>ethnicity</th>\n",
       "      <th>jundice</th>\n",
       "      <th>austim</th>\n",
       "      <th>contry_of_res</th>\n",
       "      <th>used_app_before</th>\n",
       "      <th>result</th>\n",
       "      <th>age_desc</th>\n",
       "      <th>relation</th>\n",
       "      <th>Class/ASD</th>\n",
       "    </tr>\n",
       "  </thead>\n",
       "  <tbody>\n",
       "    <tr>\n",
       "      <th>0</th>\n",
       "      <td>1.0</td>\n",
       "      <td>1.0</td>\n",
       "      <td>1.0</td>\n",
       "      <td>1.0</td>\n",
       "      <td>0.0</td>\n",
       "      <td>0.0</td>\n",
       "      <td>1.0</td>\n",
       "      <td>1.0</td>\n",
       "      <td>0.0</td>\n",
       "      <td>0.0</td>\n",
       "      <td>...</td>\n",
       "      <td>f</td>\n",
       "      <td>White-European</td>\n",
       "      <td>no</td>\n",
       "      <td>no</td>\n",
       "      <td>United States</td>\n",
       "      <td>no</td>\n",
       "      <td>6.0</td>\n",
       "      <td>18 and more</td>\n",
       "      <td>Self</td>\n",
       "      <td>NO</td>\n",
       "    </tr>\n",
       "    <tr>\n",
       "      <th>1</th>\n",
       "      <td>1.0</td>\n",
       "      <td>1.0</td>\n",
       "      <td>0.0</td>\n",
       "      <td>1.0</td>\n",
       "      <td>0.0</td>\n",
       "      <td>0.0</td>\n",
       "      <td>0.0</td>\n",
       "      <td>1.0</td>\n",
       "      <td>0.0</td>\n",
       "      <td>1.0</td>\n",
       "      <td>...</td>\n",
       "      <td>m</td>\n",
       "      <td>Latino</td>\n",
       "      <td>no</td>\n",
       "      <td>yes</td>\n",
       "      <td>Brazil</td>\n",
       "      <td>no</td>\n",
       "      <td>5.0</td>\n",
       "      <td>18 and more</td>\n",
       "      <td>Self</td>\n",
       "      <td>NO</td>\n",
       "    </tr>\n",
       "    <tr>\n",
       "      <th>2</th>\n",
       "      <td>1.0</td>\n",
       "      <td>1.0</td>\n",
       "      <td>0.0</td>\n",
       "      <td>1.0</td>\n",
       "      <td>1.0</td>\n",
       "      <td>0.0</td>\n",
       "      <td>1.0</td>\n",
       "      <td>1.0</td>\n",
       "      <td>1.0</td>\n",
       "      <td>1.0</td>\n",
       "      <td>...</td>\n",
       "      <td>m</td>\n",
       "      <td>Latino</td>\n",
       "      <td>yes</td>\n",
       "      <td>yes</td>\n",
       "      <td>Spain</td>\n",
       "      <td>no</td>\n",
       "      <td>8.0</td>\n",
       "      <td>18 and more</td>\n",
       "      <td>Parent</td>\n",
       "      <td>YES</td>\n",
       "    </tr>\n",
       "  </tbody>\n",
       "</table>\n",
       "<p>3 rows × 21 columns</p>\n",
       "</div>"
      ],
      "text/plain": [
       "   A1_Score  A2_Score  A3_Score  A4_Score  A5_Score  A6_Score  A7_Score  \\\n",
       "0       1.0       1.0       1.0       1.0       0.0       0.0       1.0   \n",
       "1       1.0       1.0       0.0       1.0       0.0       0.0       0.0   \n",
       "2       1.0       1.0       0.0       1.0       1.0       0.0       1.0   \n",
       "\n",
       "   A8_Score  A9_Score  A10_Score  ...  gender       ethnicity jundice austim  \\\n",
       "0       1.0       0.0        0.0  ...       f  White-European      no     no   \n",
       "1       1.0       0.0        1.0  ...       m          Latino      no    yes   \n",
       "2       1.0       1.0        1.0  ...       m          Latino     yes    yes   \n",
       "\n",
       "   contry_of_res used_app_before result     age_desc relation Class/ASD  \n",
       "0  United States              no    6.0  18 and more     Self        NO  \n",
       "1         Brazil              no    5.0  18 and more     Self        NO  \n",
       "2          Spain              no    8.0  18 and more   Parent       YES  \n",
       "\n",
       "[3 rows x 21 columns]"
      ]
     },
     "execution_count": 2,
     "metadata": {},
     "output_type": "execute_result"
    }
   ],
   "source": [
    "data = pd.read_csv('data/autism_adult.csv')\n",
    "print('The dataset has {} samples and {} features (including the label)'.format(*data.shape))\n",
    "data.head(3)"
   ]
  },
  {
   "cell_type": "markdown",
   "metadata": {},
   "source": [
    "### Outliers\n",
    "\n",
    "It appears that we have an odd value of 383 *@age* which we can drop right away\n",
    "\n",
    "Moreover one sample seems to have an enthnicity of *'others'* where the convention seems to be with a starting upper case letter, *'Others'*. Let's fix that too."
   ]
  },
  {
   "cell_type": "code",
   "execution_count": 3,
   "metadata": {},
   "outputs": [
    {
     "data": {
      "text/html": [
       "<div>\n",
       "<style scoped>\n",
       "    .dataframe tbody tr th:only-of-type {\n",
       "        vertical-align: middle;\n",
       "    }\n",
       "\n",
       "    .dataframe tbody tr th {\n",
       "        vertical-align: top;\n",
       "    }\n",
       "\n",
       "    .dataframe thead th {\n",
       "        text-align: right;\n",
       "    }\n",
       "</style>\n",
       "<table border=\"1\" class=\"dataframe\">\n",
       "  <thead>\n",
       "    <tr style=\"text-align: right;\">\n",
       "      <th></th>\n",
       "      <th>A1_Score</th>\n",
       "      <th>A2_Score</th>\n",
       "      <th>A3_Score</th>\n",
       "      <th>A4_Score</th>\n",
       "      <th>A5_Score</th>\n",
       "      <th>A6_Score</th>\n",
       "      <th>A7_Score</th>\n",
       "      <th>A8_Score</th>\n",
       "      <th>A9_Score</th>\n",
       "      <th>A10_Score</th>\n",
       "      <th>age</th>\n",
       "      <th>result</th>\n",
       "    </tr>\n",
       "  </thead>\n",
       "  <tbody>\n",
       "    <tr>\n",
       "      <th>count</th>\n",
       "      <td>704.000000</td>\n",
       "      <td>704.000000</td>\n",
       "      <td>704.000000</td>\n",
       "      <td>704.000000</td>\n",
       "      <td>704.000000</td>\n",
       "      <td>704.000000</td>\n",
       "      <td>704.000000</td>\n",
       "      <td>704.000000</td>\n",
       "      <td>704.000000</td>\n",
       "      <td>704.000000</td>\n",
       "      <td>702.000000</td>\n",
       "      <td>704.000000</td>\n",
       "    </tr>\n",
       "    <tr>\n",
       "      <th>mean</th>\n",
       "      <td>0.721591</td>\n",
       "      <td>0.453125</td>\n",
       "      <td>0.457386</td>\n",
       "      <td>0.495739</td>\n",
       "      <td>0.498580</td>\n",
       "      <td>0.284091</td>\n",
       "      <td>0.417614</td>\n",
       "      <td>0.649148</td>\n",
       "      <td>0.323864</td>\n",
       "      <td>0.573864</td>\n",
       "      <td>29.698006</td>\n",
       "      <td>4.875000</td>\n",
       "    </tr>\n",
       "    <tr>\n",
       "      <th>std</th>\n",
       "      <td>0.448535</td>\n",
       "      <td>0.498152</td>\n",
       "      <td>0.498535</td>\n",
       "      <td>0.500337</td>\n",
       "      <td>0.500353</td>\n",
       "      <td>0.451301</td>\n",
       "      <td>0.493516</td>\n",
       "      <td>0.477576</td>\n",
       "      <td>0.468281</td>\n",
       "      <td>0.494866</td>\n",
       "      <td>16.507465</td>\n",
       "      <td>2.501493</td>\n",
       "    </tr>\n",
       "    <tr>\n",
       "      <th>min</th>\n",
       "      <td>0.000000</td>\n",
       "      <td>0.000000</td>\n",
       "      <td>0.000000</td>\n",
       "      <td>0.000000</td>\n",
       "      <td>0.000000</td>\n",
       "      <td>0.000000</td>\n",
       "      <td>0.000000</td>\n",
       "      <td>0.000000</td>\n",
       "      <td>0.000000</td>\n",
       "      <td>0.000000</td>\n",
       "      <td>17.000000</td>\n",
       "      <td>0.000000</td>\n",
       "    </tr>\n",
       "    <tr>\n",
       "      <th>25%</th>\n",
       "      <td>0.000000</td>\n",
       "      <td>0.000000</td>\n",
       "      <td>0.000000</td>\n",
       "      <td>0.000000</td>\n",
       "      <td>0.000000</td>\n",
       "      <td>0.000000</td>\n",
       "      <td>0.000000</td>\n",
       "      <td>0.000000</td>\n",
       "      <td>0.000000</td>\n",
       "      <td>0.000000</td>\n",
       "      <td>21.000000</td>\n",
       "      <td>3.000000</td>\n",
       "    </tr>\n",
       "    <tr>\n",
       "      <th>50%</th>\n",
       "      <td>1.000000</td>\n",
       "      <td>0.000000</td>\n",
       "      <td>0.000000</td>\n",
       "      <td>0.000000</td>\n",
       "      <td>0.000000</td>\n",
       "      <td>0.000000</td>\n",
       "      <td>0.000000</td>\n",
       "      <td>1.000000</td>\n",
       "      <td>0.000000</td>\n",
       "      <td>1.000000</td>\n",
       "      <td>27.000000</td>\n",
       "      <td>4.000000</td>\n",
       "    </tr>\n",
       "    <tr>\n",
       "      <th>75%</th>\n",
       "      <td>1.000000</td>\n",
       "      <td>1.000000</td>\n",
       "      <td>1.000000</td>\n",
       "      <td>1.000000</td>\n",
       "      <td>1.000000</td>\n",
       "      <td>1.000000</td>\n",
       "      <td>1.000000</td>\n",
       "      <td>1.000000</td>\n",
       "      <td>1.000000</td>\n",
       "      <td>1.000000</td>\n",
       "      <td>35.000000</td>\n",
       "      <td>7.000000</td>\n",
       "    </tr>\n",
       "    <tr>\n",
       "      <th>max</th>\n",
       "      <td>1.000000</td>\n",
       "      <td>1.000000</td>\n",
       "      <td>1.000000</td>\n",
       "      <td>1.000000</td>\n",
       "      <td>1.000000</td>\n",
       "      <td>1.000000</td>\n",
       "      <td>1.000000</td>\n",
       "      <td>1.000000</td>\n",
       "      <td>1.000000</td>\n",
       "      <td>1.000000</td>\n",
       "      <td>383.000000</td>\n",
       "      <td>10.000000</td>\n",
       "    </tr>\n",
       "  </tbody>\n",
       "</table>\n",
       "</div>"
      ],
      "text/plain": [
       "         A1_Score    A2_Score    A3_Score    A4_Score    A5_Score    A6_Score  \\\n",
       "count  704.000000  704.000000  704.000000  704.000000  704.000000  704.000000   \n",
       "mean     0.721591    0.453125    0.457386    0.495739    0.498580    0.284091   \n",
       "std      0.448535    0.498152    0.498535    0.500337    0.500353    0.451301   \n",
       "min      0.000000    0.000000    0.000000    0.000000    0.000000    0.000000   \n",
       "25%      0.000000    0.000000    0.000000    0.000000    0.000000    0.000000   \n",
       "50%      1.000000    0.000000    0.000000    0.000000    0.000000    0.000000   \n",
       "75%      1.000000    1.000000    1.000000    1.000000    1.000000    1.000000   \n",
       "max      1.000000    1.000000    1.000000    1.000000    1.000000    1.000000   \n",
       "\n",
       "         A7_Score    A8_Score    A9_Score   A10_Score         age      result  \n",
       "count  704.000000  704.000000  704.000000  704.000000  702.000000  704.000000  \n",
       "mean     0.417614    0.649148    0.323864    0.573864   29.698006    4.875000  \n",
       "std      0.493516    0.477576    0.468281    0.494866   16.507465    2.501493  \n",
       "min      0.000000    0.000000    0.000000    0.000000   17.000000    0.000000  \n",
       "25%      0.000000    0.000000    0.000000    0.000000   21.000000    3.000000  \n",
       "50%      0.000000    1.000000    0.000000    1.000000   27.000000    4.000000  \n",
       "75%      1.000000    1.000000    1.000000    1.000000   35.000000    7.000000  \n",
       "max      1.000000    1.000000    1.000000    1.000000  383.000000   10.000000  "
      ]
     },
     "execution_count": 3,
     "metadata": {},
     "output_type": "execute_result"
    }
   ],
   "source": [
    "data.describe()"
   ]
  },
  {
   "cell_type": "code",
   "execution_count": 4,
   "metadata": {},
   "outputs": [],
   "source": [
    "data = data.drop(index=data[data['age'] == 383].index, axis=0)\n",
    "\n",
    "ind = data[data['ethnicity'] == 'others'].index[0]\n",
    "data.at[ind, 'ethnicity'] = 'Others'"
   ]
  },
  {
   "cell_type": "markdown",
   "metadata": {},
   "source": [
    "### Acquaintance with the data"
   ]
  },
  {
   "cell_type": "code",
   "execution_count": 5,
   "metadata": {},
   "outputs": [
    {
     "data": {
      "text/plain": [
       "Index(['A1_Score', 'A2_Score', 'A3_Score', 'A4_Score', 'A5_Score', 'A6_Score',\n",
       "       'A7_Score', 'A8_Score', 'A9_Score', 'A10_Score', 'age', 'gender',\n",
       "       'ethnicity', 'jundice', 'austim', 'contry_of_res', 'used_app_before',\n",
       "       'result', 'age_desc', 'relation', 'Class/ASD'],\n",
       "      dtype='object')"
      ]
     },
     "execution_count": 5,
     "metadata": {},
     "output_type": "execute_result"
    }
   ],
   "source": [
    "# The columns\n",
    "data.columns"
   ]
  },
  {
   "cell_type": "markdown",
   "metadata": {},
   "source": [
    "### Visualise a subset of the feature vector\n",
    "\n",
    "The columns *age_desc* & *used_app_before* seem to be useless since they only take one value. Therefore we can drop them.\n",
    "\n",
    "In addition, 27 countries in the column *contry_of_res* appear only once. This feature should be further processed as when we perform one-hot encoding the number of features would explode."
   ]
  },
  {
   "cell_type": "code",
   "execution_count": 6,
   "metadata": {},
   "outputs": [
    {
     "data": {
      "image/png": "[encoded data removed]",
      "text/plain": [
       "<Figure size 1080x936 with 9 Axes>"
      ]
     },
     "metadata": {},
     "output_type": "display_data"
    }
   ],
   "source": [
    "plt.figure(figsize=(15,13))\n",
    "selected_feat = data.drop(columns=['A1_Score', 'A2_Score', 'A3_Score', 'A4_Score', 'A5_Score', 'A6_Score',\n",
    "       'A7_Score', 'A8_Score', 'A9_Score', 'A10_Score', 'Class/ASD', 'contry_of_res'], axis=1)\n",
    "\n",
    "for i in range(1, selected_feat.shape[1]+1):\n",
    "    plt.subplot(3,3,i)\n",
    "    figure = plt.gca()\n",
    "    figure.set_title(selected_feat.columns[i-1])\n",
    "    \n",
    "    bins = np.size(selected_feat.iloc[:, i-1].unique())\n",
    "    plt.hist(selected_feat.iloc[:,i-1])\n",
    "    if selected_feat.columns[i-1] in ['ethnicity', 'relation']:\n",
    "        plt.xticks(rotation=49)\n",
    "    plt.xlabel(\"Meaure\")\n",
    "    plt.ylabel(\"Count\")\n",
    "    \n",
    "plt.tight_layout(pad=2)"
   ]
  },
  {
   "cell_type": "markdown",
   "metadata": {},
   "source": [
    "**Fix minor issues**"
   ]
  },
  {
   "cell_type": "code",
   "execution_count": 7,
   "metadata": {},
   "outputs": [],
   "source": [
    "# Rename some misspelled columns\n",
    "data = data.rename(columns={'austim': 'autism', 'jundice':'jaundice', 'contry_of_res': 'country_of_res'})\n",
    "\n",
    "# Drop useless features\n",
    "data.drop(['used_app_before', 'age_desc', 'relation', 'country_of_res'], axis=1, inplace=True)\n",
    "\n",
    "# For ethnicity, the values Turkish, Pasifika, Hispanic & Latino account for 7% of the data taken together\n",
    "# We will stash these values with the column \"Others\" in order to reduce the number of features after \n",
    "# one-hot encoding\n",
    "to_stash = ['Turkish', 'Pasifika', 'Hispanic', 'Latino']\n",
    "for att in to_stash:\n",
    "    \n",
    "    indices = data[data['ethnicity'] == att].index\n",
    "    for i in indices:\n",
    "        data.at[i, 'ethnicity'] = 'Others'"
   ]
  },
  {
   "cell_type": "markdown",
   "metadata": {},
   "source": [
    "### Missing Data\n",
    "\n",
    "First of all, as we noticed earlier our dataset has missing values in the *ethnicity* attribute (denoted by *?*). This is the case for about 95 records.\n",
    "\n",
    "Additionally we can see that our dataset has two other missing values.\n",
    "\n",
    "Moreover, we perform a check in case the missing value are simply holding the value *0*. There seems to be none"
   ]
  },
  {
   "cell_type": "code",
   "execution_count": 8,
   "metadata": {},
   "outputs": [
    {
     "name": "stdout",
     "output_type": "stream",
     "text": [
      "Does our dataset contain missing values? True\n",
      "How many missing values are there? 2 \n",
      "\n",
      "Number of potentially missing values for each attribute:\n",
      "A2_Score    384\n",
      "A3_Score    381\n",
      "A4_Score    354\n",
      "A5_Score    352\n",
      "A6_Score    503\n",
      "dtype: int64\n",
      "\n",
      "Number of missing values for ethnicity:\n",
      "95\n"
     ]
    }
   ],
   "source": [
    "print('Does our dataset contain missing values?', data.isnull().any().any())\n",
    "print('How many missing values are there?', data.isna().sum().sum(), '\\n')\n",
    "\n",
    "print('Number of potentially missing values for each attribute:')\n",
    "print((data[data.columns[1:6]] == 0).sum()); print()\n",
    "\n",
    "print('Number of missing values for ethnicity:')\n",
    "print(len(data[data['ethnicity'] == '?']))"
   ]
  },
  {
   "cell_type": "markdown",
   "metadata": {},
   "source": [
    "Lets investigate this more closely. It looks like we are currently missing 2 values for the **age** attribute."
   ]
  },
  {
   "cell_type": "code",
   "execution_count": 9,
   "metadata": {},
   "outputs": [
    {
     "name": "stdout",
     "output_type": "stream",
     "text": [
      "age    True\n",
      "dtype: bool\n"
     ]
    }
   ],
   "source": [
    "print(data.isna().any()[lambda val: val == True])"
   ]
  },
  {
   "cell_type": "markdown",
   "metadata": {},
   "source": [
    "The easiest approach would be to just remove those records and since we only have two we could do that.\n",
    "\n",
    "But lets replace them. We are going to replace them with the mean value of the *age* attribute."
   ]
  },
  {
   "cell_type": "code",
   "execution_count": 10,
   "metadata": {},
   "outputs": [],
   "source": [
    "data.fillna(data.mean(), inplace = True)"
   ]
  },
  {
   "cell_type": "markdown",
   "metadata": {},
   "source": [
    "We can replace the missing ethnicities by assigning them to the most frequent ethnicity"
   ]
  },
  {
   "cell_type": "code",
   "execution_count": 11,
   "metadata": {},
   "outputs": [
    {
     "data": {
      "text/plain": [
       "White-European     233\n",
       "Asian              123\n",
       "?                   95\n",
       "Middle Eastern      92\n",
       "Others              81\n",
       "Black               43\n",
       "South Asian         36\n",
       "Name: ethnicity, dtype: int64"
      ]
     },
     "execution_count": 11,
     "metadata": {},
     "output_type": "execute_result"
    }
   ],
   "source": [
    "data['ethnicity'].value_counts()"
   ]
  },
  {
   "cell_type": "code",
   "execution_count": 12,
   "metadata": {},
   "outputs": [],
   "source": [
    "imputer = SimpleImputer(missing_values='?', strategy='most_frequent')\n",
    "transformed_data = pd.DataFrame(imputer.fit_transform(data.values))\n",
    "transformed_data.columns = data.columns\n",
    "transformed_data.index = data.index.values\n",
    "data = transformed_data"
   ]
  },
  {
   "cell_type": "markdown",
   "metadata": {},
   "source": [
    "**Convert the dataframe columns to suitable data types**"
   ]
  },
  {
   "cell_type": "code",
   "execution_count": 13,
   "metadata": {},
   "outputs": [],
   "source": [
    "data['jaundice'].replace(('yes', 'no'), (1, 0), inplace=True)\n",
    "data['autism'].replace(('yes', 'no'), (1,0), inplace=True)\n",
    "data['Class/ASD'].replace(('YES', 'NO'), (1,0), inplace=True)"
   ]
  },
  {
   "cell_type": "code",
   "execution_count": 14,
   "metadata": {},
   "outputs": [],
   "source": [
    "data = data.astype({'A1_Score':int, 'A2_Score':int, 'A3_Score':int, 'A4_Score':int, 'A5_Score':int, \n",
    "                    'A6_Score':int, 'A7_Score':int, 'A8_Score':int, 'A9_Score':int, 'A10_Score':int,\n",
    "                    'age': float, 'jaundice': int, 'autism': int, 'Class/ASD':int, 'result': float})"
   ]
  },
  {
   "cell_type": "markdown",
   "metadata": {},
   "source": [
    "### Class Imbalance-Problem\n",
    "\n",
    "It seems like we have a class imbalance problem."
   ]
  },
  {
   "cell_type": "code",
   "execution_count": 15,
   "metadata": {},
   "outputs": [
    {
     "name": "stdout",
     "output_type": "stream",
     "text": [
      "0    0.731152\n",
      "1    0.268848\n",
      "Name: Class/ASD, dtype: float64\n"
     ]
    },
    {
     "data": {
      "image/png": "[encoded data removed]",
      "text/plain": [
       "<Figure size 432x288 with 1 Axes>"
      ]
     },
     "metadata": {},
     "output_type": "display_data"
    }
   ],
   "source": [
    "print(data['Class/ASD'].value_counts() / data.shape[0])\n",
    "\n",
    "sns.countplot(x='Class/ASD', data=data, palette='hls'); plt.show()"
   ]
  },
  {
   "cell_type": "markdown",
   "metadata": {},
   "source": [
    "**Are the classes well separated?**\n",
    "\n",
    "If we have separated classes, then the class-imbalance problem is no longer a problem. Although there are tools and techniques to check this we can just simply visualize a couple of attributes for this purpose."
   ]
  },
  {
   "cell_type": "code",
   "execution_count": 16,
   "metadata": {},
   "outputs": [
    {
     "data": {
      "image/png": "[encoded data removed]",
      "text/plain": [
       "<Figure size 1080x360 with 3 Axes>"
      ]
     },
     "metadata": {},
     "output_type": "display_data"
    }
   ],
   "source": [
    "fig, ((ax1, ax2, ax3)) = plt.subplots(nrows=1, ncols=3, figsize=(15,5))\n",
    "\n",
    "att1, att2, att3 = np.random.choice(data.columns.delete(16), 3, replace=False)\n",
    "\n",
    "# Feature: residual sugar\n",
    "att1_data = list(data[att1].groupby(data['Class/ASD']))\n",
    "\n",
    "ax1.plot(att1_data[0][1], 'g^', label=att1_data[0][0])\n",
    "ax1.plot(att1_data[1][1], 'ro', label=att1_data[1][0])\n",
    "ax1.set_xlabel(\"Count\"); ax1.set_ylabel(\"Measure\"); ax1.set_title(att1_data[0][1].name)\n",
    "ax1.legend()\n",
    "\n",
    "att2_data = list(data[att2].groupby(data['Class/ASD']))\n",
    "ax2.plot(att2_data[0][1], 'g^', label=att2_data[0][0])\n",
    "ax2.plot(att2_data[1][1], 'ro', label=att2_data[1][0])\n",
    "ax2.set_xlabel(\"Count\"); ax2.set_ylabel(\"\"); ax2.set_title(att2_data[0][1].name)\n",
    "ax2.legend()\n",
    "\n",
    "att3_data = list(data[att3].groupby(data['Class/ASD']))\n",
    "ax3.plot(att3_data[0][1], 'g^', label=att3_data[0][0])\n",
    "ax3.plot(att3_data[1][1], 'ro', label=att3_data[1][0])\n",
    "ax3.set_xlabel(\"Count\"); ax3.set_ylabel(\"\"); ax3.set_title(att3_data[0][1].name)\n",
    "ax3.legend(); plt.show()"
   ]
  },
  {
   "cell_type": "markdown",
   "metadata": {},
   "source": [
    "The conclusion is that **the classes are not well-separated**.\n",
    "\n",
    "There are techniques to fight this problem but in this case we are just going to continue like this."
   ]
  },
  {
   "cell_type": "markdown",
   "metadata": {},
   "source": [
    "### One-Hot encoding\n",
    "\n",
    "Most ML algorithms do not work so well with categorical attributes. Here we convert them to numerical."
   ]
  },
  {
   "cell_type": "code",
   "execution_count": 17,
   "metadata": {},
   "outputs": [
    {
     "name": "stdout",
     "output_type": "stream",
     "text": [
      "Number of features after one-hot encoding: 22\n"
     ]
    },
    {
     "data": {
      "text/html": [
       "<div>\n",
       "<style scoped>\n",
       "    .dataframe tbody tr th:only-of-type {\n",
       "        vertical-align: middle;\n",
       "    }\n",
       "\n",
       "    .dataframe tbody tr th {\n",
       "        vertical-align: top;\n",
       "    }\n",
       "\n",
       "    .dataframe thead th {\n",
       "        text-align: right;\n",
       "    }\n",
       "</style>\n",
       "<table border=\"1\" class=\"dataframe\">\n",
       "  <thead>\n",
       "    <tr style=\"text-align: right;\">\n",
       "      <th></th>\n",
       "      <th>A1_Score</th>\n",
       "      <th>A2_Score</th>\n",
       "      <th>A3_Score</th>\n",
       "      <th>A4_Score</th>\n",
       "      <th>A5_Score</th>\n",
       "      <th>A6_Score</th>\n",
       "      <th>A7_Score</th>\n",
       "      <th>A8_Score</th>\n",
       "      <th>A9_Score</th>\n",
       "      <th>A10_Score</th>\n",
       "      <th>...</th>\n",
       "      <th>result</th>\n",
       "      <th>Class/ASD</th>\n",
       "      <th>gender_f</th>\n",
       "      <th>gender_m</th>\n",
       "      <th>ethnicity_Asian</th>\n",
       "      <th>ethnicity_Black</th>\n",
       "      <th>ethnicity_Middle Eastern</th>\n",
       "      <th>ethnicity_Others</th>\n",
       "      <th>ethnicity_South Asian</th>\n",
       "      <th>ethnicity_White-European</th>\n",
       "    </tr>\n",
       "  </thead>\n",
       "  <tbody>\n",
       "    <tr>\n",
       "      <th>0</th>\n",
       "      <td>1</td>\n",
       "      <td>1</td>\n",
       "      <td>1</td>\n",
       "      <td>1</td>\n",
       "      <td>0</td>\n",
       "      <td>0</td>\n",
       "      <td>1</td>\n",
       "      <td>1</td>\n",
       "      <td>0</td>\n",
       "      <td>0</td>\n",
       "      <td>...</td>\n",
       "      <td>6.0</td>\n",
       "      <td>0</td>\n",
       "      <td>1</td>\n",
       "      <td>0</td>\n",
       "      <td>0</td>\n",
       "      <td>0</td>\n",
       "      <td>0</td>\n",
       "      <td>0</td>\n",
       "      <td>0</td>\n",
       "      <td>1</td>\n",
       "    </tr>\n",
       "    <tr>\n",
       "      <th>1</th>\n",
       "      <td>1</td>\n",
       "      <td>1</td>\n",
       "      <td>0</td>\n",
       "      <td>1</td>\n",
       "      <td>0</td>\n",
       "      <td>0</td>\n",
       "      <td>0</td>\n",
       "      <td>1</td>\n",
       "      <td>0</td>\n",
       "      <td>1</td>\n",
       "      <td>...</td>\n",
       "      <td>5.0</td>\n",
       "      <td>0</td>\n",
       "      <td>0</td>\n",
       "      <td>1</td>\n",
       "      <td>0</td>\n",
       "      <td>0</td>\n",
       "      <td>0</td>\n",
       "      <td>1</td>\n",
       "      <td>0</td>\n",
       "      <td>0</td>\n",
       "    </tr>\n",
       "    <tr>\n",
       "      <th>2</th>\n",
       "      <td>1</td>\n",
       "      <td>1</td>\n",
       "      <td>0</td>\n",
       "      <td>1</td>\n",
       "      <td>1</td>\n",
       "      <td>0</td>\n",
       "      <td>1</td>\n",
       "      <td>1</td>\n",
       "      <td>1</td>\n",
       "      <td>1</td>\n",
       "      <td>...</td>\n",
       "      <td>8.0</td>\n",
       "      <td>1</td>\n",
       "      <td>0</td>\n",
       "      <td>1</td>\n",
       "      <td>0</td>\n",
       "      <td>0</td>\n",
       "      <td>0</td>\n",
       "      <td>1</td>\n",
       "      <td>0</td>\n",
       "      <td>0</td>\n",
       "    </tr>\n",
       "  </tbody>\n",
       "</table>\n",
       "<p>3 rows × 23 columns</p>\n",
       "</div>"
      ],
      "text/plain": [
       "   A1_Score  A2_Score  A3_Score  A4_Score  A5_Score  A6_Score  A7_Score  \\\n",
       "0         1         1         1         1         0         0         1   \n",
       "1         1         1         0         1         0         0         0   \n",
       "2         1         1         0         1         1         0         1   \n",
       "\n",
       "   A8_Score  A9_Score  A10_Score  ...  result  Class/ASD  gender_f  gender_m  \\\n",
       "0         1         0          0  ...     6.0          0         1         0   \n",
       "1         1         0          1  ...     5.0          0         0         1   \n",
       "2         1         1          1  ...     8.0          1         0         1   \n",
       "\n",
       "   ethnicity_Asian  ethnicity_Black  ethnicity_Middle Eastern   \\\n",
       "0                0                0                          0   \n",
       "1                0                0                          0   \n",
       "2                0                0                          0   \n",
       "\n",
       "   ethnicity_Others  ethnicity_South Asian  ethnicity_White-European  \n",
       "0                 0                      0                         1  \n",
       "1                 1                      0                         0  \n",
       "2                 1                      0                         0  \n",
       "\n",
       "[3 rows x 23 columns]"
      ]
     },
     "execution_count": 17,
     "metadata": {},
     "output_type": "execute_result"
    }
   ],
   "source": [
    "data = pd.get_dummies(data)\n",
    "print('Number of features after one-hot encoding:',len(data.columns)-1)\n",
    "data.head(3)"
   ]
  },
  {
   "cell_type": "markdown",
   "metadata": {},
   "source": [
    "### Feature Correlation\n",
    "\n",
    "Usually we want the features to be independent of each-other. Most ML algorithms assume this by default including Neural Nets."
   ]
  },
  {
   "cell_type": "markdown",
   "metadata": {},
   "source": [
    "#### Correlation of features with the class label\n",
    "\n",
    "Such a correlation gives us a first impression into which variable is the more important for predicting our class label\n",
    "\n",
    "The behavioral features obtained by screening methods seem to be pretty important and the final combination of them, the result is the most important with a correlation higher than 0.8. The rest of the features seem to be weakly correlated with the class label."
   ]
  },
  {
   "cell_type": "code",
   "execution_count": 18,
   "metadata": {},
   "outputs": [
    {
     "data": {
      "image/png": "[encoded data removed]",
      "text/plain": [
       "<Figure size 1080x360 with 1 Axes>"
      ]
     },
     "metadata": {},
     "output_type": "display_data"
    }
   ],
   "source": [
    "data.drop(\"Class/ASD\", axis=1).corrwith(data['Class/ASD']).plot.bar(figsize=(15,5), \n",
    "                                                title='Correlation with the class variable', rot=45, fontsize=11)\n",
    "plt.show()"
   ]
  },
  {
   "cell_type": "markdown",
   "metadata": {},
   "source": [
    "We can also check the influence of the attributes on the class by aggregating the mean values after grouping by the class label.\n",
    "\n",
    "The below results seem to confirm the correlation plot above. Now we have a little bit more confidence in the plot."
   ]
  },
  {
   "cell_type": "code",
   "execution_count": 19,
   "metadata": {},
   "outputs": [
    {
     "name": "stdout",
     "output_type": "stream",
     "text": [
      "           A1_Score  A2_Score  A3_Score  A4_Score  A5_Score  A6_Score  \\\n",
      "Class/ASD                                                               \n",
      "0          0.640078  0.359922  0.324903  0.354086  0.336576  0.122568   \n",
      "1          0.941799  0.708995  0.820106  0.883598  0.941799  0.724868   \n",
      "\n",
      "           A7_Score  A8_Score  A9_Score  A10_Score  ...    autism    result  \\\n",
      "Class/ASD                                           ...                       \n",
      "0          0.313230  0.581712  0.143969   0.459144  ...  0.093385  3.636187   \n",
      "1          0.703704  0.835979  0.814815   0.888889  ...  0.227513  8.264550   \n",
      "\n",
      "           gender_f  gender_m  ethnicity_Asian  ethnicity_Black  \\\n",
      "Class/ASD                                                         \n",
      "0          0.453307  0.546693         0.208171         0.048638   \n",
      "1          0.544974  0.455026         0.084656         0.095238   \n",
      "\n",
      "           ethnicity_Middle Eastern   ethnicity_Others  ethnicity_South Asian  \\\n",
      "Class/ASD                                                                       \n",
      "0                           0.163424          0.107004               0.064202   \n",
      "1                           0.042328          0.137566               0.015873   \n",
      "\n",
      "           ethnicity_White-European  \n",
      "Class/ASD                            \n",
      "0                          0.408560  \n",
      "1                          0.624339  \n",
      "\n",
      "[2 rows x 22 columns]\n"
     ]
    }
   ],
   "source": [
    "class_group = data.groupby('Class/ASD')\n",
    "print(class_group.agg(np.mean))"
   ]
  },
  {
   "cell_type": "markdown",
   "metadata": {},
   "source": [
    "#### Correlation of features with each-other\n",
    "\n",
    "We can nicely represent this using a heatmap"
   ]
  },
  {
   "cell_type": "code",
   "execution_count": 20,
   "metadata": {},
   "outputs": [
    {
     "data": {
      "text/plain": [
       "Index(['A1_Score', 'A2_Score', 'A3_Score', 'A4_Score', 'A5_Score', 'A6_Score',\n",
       "       'A7_Score', 'A8_Score', 'A9_Score', 'A10_Score', 'age', 'jaundice',\n",
       "       'autism', 'result', 'Class/ASD', 'gender_f', 'gender_m',\n",
       "       'ethnicity_Asian', 'ethnicity_Black', 'ethnicity_Middle Eastern ',\n",
       "       'ethnicity_Others', 'ethnicity_South Asian',\n",
       "       'ethnicity_White-European'],\n",
       "      dtype='object')"
      ]
     },
     "execution_count": 20,
     "metadata": {},
     "output_type": "execute_result"
    }
   ],
   "source": [
    "data.columns"
   ]
  },
  {
   "cell_type": "code",
   "execution_count": 21,
   "metadata": {},
   "outputs": [
    {
     "data": {
      "image/png": "[encoded data removed]",
      "text/plain": [
       "<Figure size 864x648 with 2 Axes>"
      ]
     },
     "metadata": {},
     "output_type": "display_data"
    }
   ],
   "source": [
    "sns.set(style='white', font_scale=1.5)\n",
    "\n",
    "# An array where the main diagonal separates two identical triangles\n",
    "corr_matrix = data.drop(['ethnicity_Asian', 'ethnicity_Black', 'ethnicity_Middle Eastern ',\n",
    "                        'ethnicity_Others', 'ethnicity_South Asian', 'ethnicity_White-European'],axis=1).corr()\n",
    "\n",
    "# Create a mask for the upper triangle so that we can ignore it later on when building the map\n",
    "mask = np.zeros_like(corr_matrix, dtype=np.bool)\n",
    "mask[np.triu_indices_from(mask)] = True\n",
    "\n",
    "# Colormap for the different values of the correlation matrix\n",
    "cmap = sns.diverging_palette(220, 10, as_cmap=True)\n",
    "\n",
    "plt.figure(figsize=(12,9))\n",
    "plt.title('Correlation Matrix for Features')\n",
    "\n",
    "sns.heatmap(corr_matrix, square=True, mask=mask, cmap=cmap, center=0, linewidths=2.0, cbar_kws={'shrink':0.8})\n",
    "plt.show()"
   ]
  },
  {
   "cell_type": "markdown",
   "metadata": {},
   "source": [
    "Nothing to worry about. These results also confirm the conclusions that we've drawn so far\n",
    "\n",
    "With this last plot we conclude the data analysis phase."
   ]
  },
  {
   "cell_type": "markdown",
   "metadata": {},
   "source": [
    "## Prepare the data for the Deep Learning Model\n",
    "\n",
    "1. Class and Features Separation\n",
    "2. Tran/Test Split\n",
    "3. Scaling/Standardization if needed"
   ]
  },
  {
   "cell_type": "markdown",
   "metadata": {},
   "source": [
    "### Class/Feature split"
   ]
  },
  {
   "cell_type": "code",
   "execution_count": 22,
   "metadata": {},
   "outputs": [
    {
     "name": "stdout",
     "output_type": "stream",
     "text": [
      "Shape of features (703, 22)\n",
      "Shape of labels (703,)\n"
     ]
    },
    {
     "data": {
      "text/html": [
       "<div>\n",
       "<style scoped>\n",
       "    .dataframe tbody tr th:only-of-type {\n",
       "        vertical-align: middle;\n",
       "    }\n",
       "\n",
       "    .dataframe tbody tr th {\n",
       "        vertical-align: top;\n",
       "    }\n",
       "\n",
       "    .dataframe thead th {\n",
       "        text-align: right;\n",
       "    }\n",
       "</style>\n",
       "<table border=\"1\" class=\"dataframe\">\n",
       "  <thead>\n",
       "    <tr style=\"text-align: right;\">\n",
       "      <th></th>\n",
       "      <th>A1_Score</th>\n",
       "      <th>A2_Score</th>\n",
       "      <th>A3_Score</th>\n",
       "      <th>A4_Score</th>\n",
       "      <th>A5_Score</th>\n",
       "      <th>A6_Score</th>\n",
       "      <th>A7_Score</th>\n",
       "      <th>A8_Score</th>\n",
       "      <th>A9_Score</th>\n",
       "      <th>A10_Score</th>\n",
       "      <th>...</th>\n",
       "      <th>autism</th>\n",
       "      <th>result</th>\n",
       "      <th>gender_f</th>\n",
       "      <th>gender_m</th>\n",
       "      <th>ethnicity_Asian</th>\n",
       "      <th>ethnicity_Black</th>\n",
       "      <th>ethnicity_Middle Eastern</th>\n",
       "      <th>ethnicity_Others</th>\n",
       "      <th>ethnicity_South Asian</th>\n",
       "      <th>ethnicity_White-European</th>\n",
       "    </tr>\n",
       "  </thead>\n",
       "  <tbody>\n",
       "    <tr>\n",
       "      <th>0</th>\n",
       "      <td>1</td>\n",
       "      <td>1</td>\n",
       "      <td>1</td>\n",
       "      <td>1</td>\n",
       "      <td>0</td>\n",
       "      <td>0</td>\n",
       "      <td>1</td>\n",
       "      <td>1</td>\n",
       "      <td>0</td>\n",
       "      <td>0</td>\n",
       "      <td>...</td>\n",
       "      <td>0</td>\n",
       "      <td>6.0</td>\n",
       "      <td>1</td>\n",
       "      <td>0</td>\n",
       "      <td>0</td>\n",
       "      <td>0</td>\n",
       "      <td>0</td>\n",
       "      <td>0</td>\n",
       "      <td>0</td>\n",
       "      <td>1</td>\n",
       "    </tr>\n",
       "    <tr>\n",
       "      <th>1</th>\n",
       "      <td>1</td>\n",
       "      <td>1</td>\n",
       "      <td>0</td>\n",
       "      <td>1</td>\n",
       "      <td>0</td>\n",
       "      <td>0</td>\n",
       "      <td>0</td>\n",
       "      <td>1</td>\n",
       "      <td>0</td>\n",
       "      <td>1</td>\n",
       "      <td>...</td>\n",
       "      <td>1</td>\n",
       "      <td>5.0</td>\n",
       "      <td>0</td>\n",
       "      <td>1</td>\n",
       "      <td>0</td>\n",
       "      <td>0</td>\n",
       "      <td>0</td>\n",
       "      <td>1</td>\n",
       "      <td>0</td>\n",
       "      <td>0</td>\n",
       "    </tr>\n",
       "    <tr>\n",
       "      <th>2</th>\n",
       "      <td>1</td>\n",
       "      <td>1</td>\n",
       "      <td>0</td>\n",
       "      <td>1</td>\n",
       "      <td>1</td>\n",
       "      <td>0</td>\n",
       "      <td>1</td>\n",
       "      <td>1</td>\n",
       "      <td>1</td>\n",
       "      <td>1</td>\n",
       "      <td>...</td>\n",
       "      <td>1</td>\n",
       "      <td>8.0</td>\n",
       "      <td>0</td>\n",
       "      <td>1</td>\n",
       "      <td>0</td>\n",
       "      <td>0</td>\n",
       "      <td>0</td>\n",
       "      <td>1</td>\n",
       "      <td>0</td>\n",
       "      <td>0</td>\n",
       "    </tr>\n",
       "  </tbody>\n",
       "</table>\n",
       "<p>3 rows × 22 columns</p>\n",
       "</div>"
      ],
      "text/plain": [
       "   A1_Score  A2_Score  A3_Score  A4_Score  A5_Score  A6_Score  A7_Score  \\\n",
       "0         1         1         1         1         0         0         1   \n",
       "1         1         1         0         1         0         0         0   \n",
       "2         1         1         0         1         1         0         1   \n",
       "\n",
       "   A8_Score  A9_Score  A10_Score  ...  autism  result  gender_f  gender_m  \\\n",
       "0         1         0          0  ...       0     6.0         1         0   \n",
       "1         1         0          1  ...       1     5.0         0         1   \n",
       "2         1         1          1  ...       1     8.0         0         1   \n",
       "\n",
       "   ethnicity_Asian  ethnicity_Black  ethnicity_Middle Eastern   \\\n",
       "0                0                0                          0   \n",
       "1                0                0                          0   \n",
       "2                0                0                          0   \n",
       "\n",
       "   ethnicity_Others  ethnicity_South Asian  ethnicity_White-European  \n",
       "0                 0                      0                         1  \n",
       "1                 1                      0                         0  \n",
       "2                 1                      0                         0  \n",
       "\n",
       "[3 rows x 22 columns]"
      ]
     },
     "execution_count": 22,
     "metadata": {},
     "output_type": "execute_result"
    }
   ],
   "source": [
    "labels = data.pop('Class/ASD')\n",
    "features = data\n",
    "print('Shape of features', features.shape)\n",
    "print('Shape of labels', labels.shape)\n",
    "features.head(3)"
   ]
  },
  {
   "cell_type": "markdown",
   "metadata": {},
   "source": [
    "### Train/Test split\n",
    "\n",
    "Later when we do hyperparameter tuning, we shall follow another strategy but let us just split a test size of 20% for now. We also stratify the split since the classes are not balanced."
   ]
  },
  {
   "cell_type": "code",
   "execution_count": 23,
   "metadata": {},
   "outputs": [
    {
     "name": "stdout",
     "output_type": "stream",
     "text": [
      "Shape of training set (562, 22)\n",
      "Shape of testing set (141, 22)\n"
     ]
    }
   ],
   "source": [
    "train_features, test_features, train_labels, test_labels = train_test_split(features, labels, test_size=0.2,\n",
    "                                                                                random_state=1, stratify=labels)\n",
    "print('Shape of training set', train_features.shape)\n",
    "print('Shape of testing set', test_features.shape)"
   ]
  },
  {
   "cell_type": "markdown",
   "metadata": {},
   "source": [
    "### Feature Scaling\n",
    "\n",
    "While feature scaling is important for a Neural Network, in our case most of our attributes are binary. With the exception of *result* and *age* they all take binary values. Therefore we shall scale only these two features."
   ]
  },
  {
   "cell_type": "code",
   "execution_count": 24,
   "metadata": {},
   "outputs": [],
   "source": [
    "scaler = StandardScaler()\n",
    "to_scale = ['result', 'age']\n",
    "\n",
    "# Scale training data\n",
    "train_features_scaled = pd.DataFrame(scaler.fit_transform(train_features[to_scale]))\n",
    "train_features_scaled.columns = train_features[to_scale].columns\n",
    "train_features_scaled.index = train_features[to_scale].index.values\n",
    "forest_train = train_features.copy()\n",
    "train_features[to_scale] = train_features_scaled\n",
    "\n",
    "# Scale testing data\n",
    "test_features_scaled = pd.DataFrame(scaler.fit_transform(test_features[to_scale]))\n",
    "test_features_scaled.columns = test_features[to_scale].columns\n",
    "test_features_scaled.index = test_features[to_scale].index.values\n",
    "forest_test = test_features.copy()\n",
    "test_features[to_scale] = test_features_scaled"
   ]
  },
  {
   "cell_type": "markdown",
   "metadata": {},
   "source": [
    "## Building and Training the model\n",
    "\n",
    "We shall build a first go to the Deep Neural Network model. On the next chapter we shall see how to tune the parameters using *talos*.\n"
   ]
  },
  {
   "cell_type": "markdown",
   "metadata": {},
   "source": [
    "### Build the Deep Neural Net\n",
    "\n",
    "We can instantiate different aspects of the neural net either by passing a string identifier (and in this case the default parameters for the optimizer can be used) or by building an object from the class. The latter should be the used way as it gives us the possibility to do more tweaks.\n",
    "\n",
    "[Docs](https://keras.io/api/layers/core_layers/dense/) on the dense layers\n",
    "\n",
    "[Docs](https://keras.io/api/models/model_training_apis/) for the compile method\n",
    "\n",
    "[Docs](https://keras.io/api/optimizers/) on optimizers\n",
    "\n",
    "[Docs](https://keras.io/api/losses/) on the loss function\n",
    "- *from_logits=True*: will significantly boost testing accuracy at a cost of training\n",
    "- *label_smoothing=1*: can be played with in the range of [0,1]\n",
    "- *reduction*: different options include, 'sum', keras.losses.Reduction.NONE, "
   ]
  },
  {
   "cell_type": "code",
   "execution_count": 25,
   "metadata": {},
   "outputs": [],
   "source": [
    "ann = Sequential()\n",
    "ann.add(Dense(units=32, activation='relu', use_bias=True))\n",
    "ann.add(Dense(units=32, activation='relu', use_bias=True))\n",
    "ann.add(Dense(units=32, activation='relu', use_bias=True))\n",
    "ann.add(Dense(units=1, activation='sigmoid', use_bias=False))\n",
    "\n",
    "optimizer = keras.optimizers.Adam(learning_rate=0.001, beta_1=0.9, beta_2=0.999)\n",
    "loss = keras.losses.BinaryCrossentropy(name='binary_crossentropy', from_logits=False,\n",
    "                                        label_smoothing=0.05, reduction='auto')\n",
    "\n",
    "ann.compile(optimizer=optimizer, loss=loss, metrics=['accuracy'])"
   ]
  },
  {
   "cell_type": "markdown",
   "metadata": {},
   "source": [
    "**Shuffle and batch the dataset**\n",
    "\n",
    "[Docs](https://keras.io/api/models/model_training_apis/) on the fit method\n",
    "\n",
    "1. *class_weight*: can be useful to tell the model to \"pay more attention\" to samples from an under-represented class"
   ]
  },
  {
   "cell_type": "code",
   "execution_count": 26,
   "metadata": {},
   "outputs": [],
   "source": [
    "def get_class_weights(y):\n",
    "    counter = Counter(y)\n",
    "    majority = max(counter.values())\n",
    "    return {cls: float(majority/count) for cls, count in counter.items()}"
   ]
  },
  {
   "cell_type": "code",
   "execution_count": 27,
   "metadata": {},
   "outputs": [
    {
     "name": "stdout",
     "output_type": "stream",
     "text": [
      "Epoch 1/100\n",
      " - 0s - loss: 0.6171 - accuracy: 0.7509\n",
      "Epoch 2/100\n",
      " - 0s - loss: 0.4923 - accuracy: 0.8416\n",
      "Epoch 3/100\n",
      " - 0s - loss: 0.3403 - accuracy: 0.9324\n",
      "Epoch 4/100\n",
      " - 0s - loss: 0.2295 - accuracy: 0.9698\n",
      "Epoch 5/100\n",
      " - 0s - loss: 0.1883 - accuracy: 0.9822\n",
      "Epoch 6/100\n",
      " - 0s - loss: 0.1744 - accuracy: 0.9875\n",
      "Epoch 7/100\n",
      " - 0s - loss: 0.1659 - accuracy: 0.9875\n",
      "Epoch 8/100\n",
      " - 0s - loss: 0.1594 - accuracy: 0.9911\n",
      "Epoch 9/100\n",
      " - 0s - loss: 0.1543 - accuracy: 0.9929\n",
      "Epoch 10/100\n",
      " - 0s - loss: 0.1501 - accuracy: 0.9964\n",
      "Epoch 11/100\n",
      " - 0s - loss: 0.1465 - accuracy: 1.0000\n",
      "Epoch 12/100\n",
      " - 0s - loss: 0.1436 - accuracy: 1.0000\n",
      "Epoch 13/100\n",
      " - 0s - loss: 0.1411 - accuracy: 1.0000\n",
      "Epoch 14/100\n",
      " - 0s - loss: 0.1392 - accuracy: 1.0000\n",
      "Epoch 15/100\n",
      " - 0s - loss: 0.1375 - accuracy: 1.0000\n",
      "Epoch 16/100\n",
      " - 0s - loss: 0.1360 - accuracy: 1.0000\n",
      "Epoch 17/100\n",
      " - 0s - loss: 0.1347 - accuracy: 1.0000\n",
      "Epoch 18/100\n",
      " - 0s - loss: 0.1334 - accuracy: 1.0000\n",
      "Epoch 19/100\n",
      " - 0s - loss: 0.1323 - accuracy: 1.0000\n",
      "Epoch 20/100\n",
      " - 0s - loss: 0.1310 - accuracy: 1.0000\n",
      "Epoch 21/100\n",
      " - 0s - loss: 0.1299 - accuracy: 1.0000\n",
      "Epoch 22/100\n",
      " - 0s - loss: 0.1288 - accuracy: 1.0000\n",
      "Epoch 23/100\n",
      " - 0s - loss: 0.1279 - accuracy: 1.0000\n",
      "Epoch 24/100\n",
      " - 0s - loss: 0.1270 - accuracy: 1.0000\n",
      "Epoch 25/100\n",
      " - 0s - loss: 0.1263 - accuracy: 1.0000\n",
      "Epoch 26/100\n",
      " - 0s - loss: 0.1255 - accuracy: 1.0000\n",
      "Epoch 27/100\n",
      " - 0s - loss: 0.1250 - accuracy: 1.0000\n",
      "Epoch 28/100\n",
      " - 0s - loss: 0.1245 - accuracy: 1.0000\n",
      "Epoch 29/100\n",
      " - 0s - loss: 0.1240 - accuracy: 1.0000\n",
      "Epoch 30/100\n",
      " - 0s - loss: 0.1236 - accuracy: 1.0000\n",
      "Epoch 31/100\n",
      " - 0s - loss: 0.1232 - accuracy: 1.0000\n",
      "Epoch 32/100\n",
      " - 0s - loss: 0.1229 - accuracy: 1.0000\n",
      "Epoch 33/100\n",
      " - 0s - loss: 0.1226 - accuracy: 1.0000\n",
      "Epoch 34/100\n",
      " - 0s - loss: 0.1223 - accuracy: 1.0000\n",
      "Epoch 35/100\n",
      " - 0s - loss: 0.1220 - accuracy: 1.0000\n",
      "Epoch 36/100\n",
      " - 0s - loss: 0.1217 - accuracy: 1.0000\n",
      "Epoch 37/100\n",
      " - 0s - loss: 0.1215 - accuracy: 1.0000\n",
      "Epoch 38/100\n",
      " - 0s - loss: 0.1213 - accuracy: 1.0000\n",
      "Epoch 39/100\n",
      " - 0s - loss: 0.1211 - accuracy: 1.0000\n",
      "Epoch 40/100\n",
      " - 0s - loss: 0.1209 - accuracy: 1.0000\n",
      "Epoch 41/100\n",
      " - 0s - loss: 0.1207 - accuracy: 1.0000\n",
      "Epoch 42/100\n",
      " - 0s - loss: 0.1205 - accuracy: 1.0000\n",
      "Epoch 43/100\n",
      " - 0s - loss: 0.1203 - accuracy: 1.0000\n",
      "Epoch 44/100\n",
      " - 0s - loss: 0.1202 - accuracy: 1.0000\n",
      "Epoch 45/100\n",
      " - 0s - loss: 0.1200 - accuracy: 1.0000\n",
      "Epoch 46/100\n",
      " - 0s - loss: 0.1199 - accuracy: 1.0000\n",
      "Epoch 47/100\n",
      " - 0s - loss: 0.1197 - accuracy: 1.0000\n",
      "Epoch 48/100\n",
      " - 0s - loss: 0.1196 - accuracy: 1.0000\n",
      "Epoch 49/100\n",
      " - 0s - loss: 0.1195 - accuracy: 1.0000\n",
      "Epoch 50/100\n",
      " - 0s - loss: 0.1194 - accuracy: 1.0000\n",
      "Epoch 51/100\n",
      " - 0s - loss: 0.1192 - accuracy: 1.0000\n",
      "Epoch 52/100\n",
      " - 0s - loss: 0.1191 - accuracy: 1.0000\n",
      "Epoch 53/100\n",
      " - 0s - loss: 0.1190 - accuracy: 1.0000\n",
      "Epoch 54/100\n",
      " - 0s - loss: 0.1189 - accuracy: 1.0000\n",
      "Epoch 55/100\n",
      " - 0s - loss: 0.1188 - accuracy: 1.0000\n",
      "Epoch 56/100\n",
      " - 0s - loss: 0.1187 - accuracy: 1.0000\n",
      "Epoch 57/100\n",
      " - 0s - loss: 0.1186 - accuracy: 1.0000\n",
      "Epoch 58/100\n",
      " - 0s - loss: 0.1185 - accuracy: 1.0000\n",
      "Epoch 59/100\n",
      " - 0s - loss: 0.1184 - accuracy: 1.0000\n",
      "Epoch 60/100\n",
      " - 0s - loss: 0.1184 - accuracy: 1.0000\n",
      "Epoch 61/100\n",
      " - 0s - loss: 0.1183 - accuracy: 1.0000\n",
      "Epoch 62/100\n",
      " - 0s - loss: 0.1182 - accuracy: 1.0000\n",
      "Epoch 63/100\n",
      " - 0s - loss: 0.1181 - accuracy: 1.0000\n",
      "Epoch 64/100\n",
      " - 0s - loss: 0.1181 - accuracy: 1.0000\n",
      "Epoch 65/100\n",
      " - 0s - loss: 0.1180 - accuracy: 1.0000\n",
      "Epoch 66/100\n",
      " - 0s - loss: 0.1179 - accuracy: 1.0000\n",
      "Epoch 67/100\n",
      " - 0s - loss: 0.1179 - accuracy: 1.0000\n",
      "Epoch 68/100\n",
      " - 0s - loss: 0.1178 - accuracy: 1.0000\n",
      "Epoch 69/100\n",
      " - 0s - loss: 0.1178 - accuracy: 1.0000\n",
      "Epoch 70/100\n",
      " - 0s - loss: 0.1177 - accuracy: 1.0000\n",
      "Epoch 71/100\n",
      " - 0s - loss: 0.1177 - accuracy: 1.0000\n",
      "Epoch 72/100\n",
      " - 0s - loss: 0.1176 - accuracy: 1.0000\n",
      "Epoch 73/100\n",
      " - 0s - loss: 0.1176 - accuracy: 1.0000\n",
      "Epoch 74/100\n",
      " - 0s - loss: 0.1175 - accuracy: 1.0000\n",
      "Epoch 75/100\n",
      " - 0s - loss: 0.1175 - accuracy: 1.0000\n",
      "Epoch 76/100\n",
      " - 0s - loss: 0.1175 - accuracy: 1.0000\n",
      "Epoch 77/100\n",
      " - 0s - loss: 0.1174 - accuracy: 1.0000\n",
      "Epoch 78/100\n",
      " - 0s - loss: 0.1174 - accuracy: 1.0000\n",
      "Epoch 79/100\n",
      " - 0s - loss: 0.1174 - accuracy: 1.0000\n",
      "Epoch 80/100\n",
      " - 0s - loss: 0.1174 - accuracy: 1.0000\n",
      "Epoch 81/100\n",
      " - 0s - loss: 0.1173 - accuracy: 1.0000\n",
      "Epoch 82/100\n",
      " - 0s - loss: 0.1173 - accuracy: 1.0000\n",
      "Epoch 83/100\n",
      " - 0s - loss: 0.1173 - accuracy: 1.0000\n",
      "Epoch 84/100\n",
      " - 0s - loss: 0.1173 - accuracy: 1.0000\n",
      "Epoch 85/100\n",
      " - 0s - loss: 0.1172 - accuracy: 1.0000\n",
      "Epoch 86/100\n",
      " - 0s - loss: 0.1172 - accuracy: 1.0000\n",
      "Epoch 87/100\n",
      " - 0s - loss: 0.1172 - accuracy: 1.0000\n",
      "Epoch 88/100\n",
      " - 0s - loss: 0.1172 - accuracy: 1.0000\n",
      "Epoch 89/100\n",
      " - 0s - loss: 0.1172 - accuracy: 1.0000\n",
      "Epoch 90/100\n",
      " - 0s - loss: 0.1172 - accuracy: 1.0000\n",
      "Epoch 91/100\n",
      " - 0s - loss: 0.1172 - accuracy: 1.0000\n",
      "Epoch 92/100\n",
      " - 0s - loss: 0.1172 - accuracy: 1.0000\n",
      "Epoch 93/100\n",
      " - 0s - loss: 0.1171 - accuracy: 1.0000\n",
      "Epoch 94/100\n",
      " - 0s - loss: 0.1171 - accuracy: 1.0000\n",
      "Epoch 95/100\n",
      " - 0s - loss: 0.1171 - accuracy: 1.0000\n",
      "Epoch 96/100\n",
      " - 0s - loss: 0.1171 - accuracy: 1.0000\n",
      "Epoch 97/100\n",
      " - 0s - loss: 0.1171 - accuracy: 1.0000\n",
      "Epoch 98/100\n",
      " - 0s - loss: 0.1171 - accuracy: 1.0000\n",
      "Epoch 99/100\n",
      " - 0s - loss: 0.1171 - accuracy: 1.0000\n",
      "Epoch 100/100\n",
      " - 0s - loss: 0.1171 - accuracy: 1.0000\n"
     ]
    },
    {
     "data": {
      "text/plain": [
       "<keras.callbacks.callbacks.History at 0x20ff99d2208>"
      ]
     },
     "execution_count": 27,
     "metadata": {},
     "output_type": "execute_result"
    }
   ],
   "source": [
    "ann.fit(x=train_features.values, y=train_labels.values, epochs=100, verbose=2, shuffle=False, \n",
    "                            use_multiprocessing=True)"
   ]
  },
  {
   "cell_type": "markdown",
   "metadata": {},
   "source": [
    "## Test the model"
   ]
  },
  {
   "cell_type": "code",
   "execution_count": 28,
   "metadata": {},
   "outputs": [
    {
     "name": "stdout",
     "output_type": "stream",
     "text": [
      "99.29\n"
     ]
    }
   ],
   "source": [
    "predictions = ann.predict(test_features)\n",
    "predictions = (predictions>0.5)\n",
    "\n",
    "print(round(100*accuracy_score(test_labels, predictions), 2))"
   ]
  },
  {
   "cell_type": "markdown",
   "metadata": {},
   "source": [
    "## Interpreting the model\n",
    "\n",
    "This model performed so good (which I wasn't expecting) so that we don't even need to perform hyperparameter tunning.\n",
    "\n",
    "Our model classifies whether a person will have autism or not with a 99% accuracy."
   ]
  }
 ],
 "metadata": {
  "kernelspec": {
   "display_name": "Python 3",
   "language": "python",
   "name": "python3"
  },
  "language_info": {
   "codemirror_mode": {
    "name": "ipython",
    "version": 3
   },
   "file_extension": ".py",
   "mimetype": "text/x-python",
   "name": "python",
   "nbconvert_exporter": "python",
   "pygments_lexer": "ipython3",
   "version": "3.7.7"
  }
 },
 "nbformat": 4,
 "nbformat_minor": 4
}
