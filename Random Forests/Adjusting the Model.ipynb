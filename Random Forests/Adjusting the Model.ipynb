{
 "cells": [
  {
   "cell_type": "markdown",
   "metadata": {},
   "source": [
    "# Predicting human wine taste preferences, Part 2"
   ]
  },
  {
   "cell_type": "markdown",
   "metadata": {},
   "source": [
    "# Adjusting the Model\n",
    "\n",
    "To recap, our model has a micro precission of 96.98%. In this part we will see if we can make it better.\n",
    "\n",
    "Improving a Machine Learning model means doing one of these three things:\n",
    "\n",
    "- Gathering more data: This should be the default solution to every improvement. Gathering more data is almost always much more time efficient than the two other options.\n",
    "- Adjusting Hyperparameters (we investigate in this post)\n",
    "- Building a new model altogether"
   ]
  },
  {
   "cell_type": "code",
   "execution_count": 1,
   "metadata": {},
   "outputs": [],
   "source": [
    "import pandas as pd\n",
    "import numpy as np\n",
    "import matplotlib.pyplot as plt\n",
    "import seaborn as sns\n",
    "from pprint import pprint\n",
    "import time\n",
    "\n",
    "from sklearn.model_selection import train_test_split\n",
    "from sklearn.metrics import confusion_matrix\n",
    "from sklearn.ensemble import RandomForestClassifier\n",
    "from sklearn.model_selection import RandomizedSearchCV\n",
    "from sklearn.model_selection import GridSearchCV\n",
    "\n",
    "sns.set()"
   ]
  },
  {
   "cell_type": "markdown",
   "metadata": {},
   "source": [
    "# From previous Notebook\n",
    "\n",
    "Data preprocessing has already been taken care of."
   ]
  },
  {
   "cell_type": "code",
   "execution_count": 2,
   "metadata": {},
   "outputs": [
    {
     "name": "stdout",
     "output_type": "stream",
     "text": [
      "We have 4898 samples and 12 features\n",
      "Shape of Train features: (3673, 11)\n",
      "Shape of Train labels: (3673,)\n",
      "Shape of Test features: (1225, 11)\n",
      "Shape of Test labels: (1225,)\n"
     ]
    }
   ],
   "source": [
    "features = pd.read_csv(\"data\\winequality.csv\")\n",
    "print(\"We have {} samples and {} features\".format(*features.shape))\n",
    "\n",
    "# Split the data into features and classes\n",
    "labels = features['quality']\n",
    "features.drop('quality', axis=1, inplace=True)\n",
    "\n",
    "# Train-Test data for the ML algorithm\n",
    "train_features, test_features, train_labels, test_labels = train_test_split(features, labels, \n",
    "                                                                        test_size=0.25, random_state=1)\n",
    "print(\"Shape of Train features:\", train_features.shape)\n",
    "print(\"Shape of Train labels:\", train_labels.shape)\n",
    "print(\"Shape of Test features:\", test_features.shape)\n",
    "print(\"Shape of Test labels:\", test_labels.shape)\n",
    "\n",
    "# Train the model\n",
    "rf = RandomForestClassifier(n_estimators=100, random_state=1)\n",
    "rf.fit(train_features, train_labels);"
   ]
  },
  {
   "cell_type": "markdown",
   "metadata": {},
   "source": [
    "As an evaluation metric we will use confusion matrix on which we will compute the tolerance micro precision.\n",
    "Tolerance precision means that we accept responses that are correct within one of the two nearest classes. \n",
    "\n",
    "$ MicroP = \\frac{TP}{(TP+FP)} $"
   ]
  },
  {
   "cell_type": "code",
   "execution_count": 3,
   "metadata": {},
   "outputs": [],
   "source": [
    "def evaluate_model(model, test_features, test_labels):\n",
    "    \"\"\" Evaluate the model using the test features and test labels and then calculate\n",
    "        tolerance precision as defined on the paper. \n",
    "        \n",
    "        Arguments:\n",
    "            model: the model to evaluate\n",
    "            test_features: the test features\n",
    "            test_labels: the test labels\n",
    "    \"\"\"\n",
    "    \n",
    "    # Test the model\n",
    "    predictions = model.predict(test_features)\n",
    "    \n",
    "    # Evaluate the model\n",
    "    confusion_mat = confusion_matrix(test_labels, predictions)\n",
    "    \n",
    "    # Calculate tolerance micro precision\n",
    "    sumTp = 0\n",
    "    sumTpFp = sum(sum(confusion_mat))\n",
    "\n",
    "    for i in range(len(confusion_mat)):\n",
    "        for j in range(len(confusion_mat)):\n",
    "        \n",
    "            # element in main diagonal\n",
    "            if (i == j):\n",
    "                sumTp += confusion_mat[i][j]\n",
    "\n",
    "            # element around main diagonal\n",
    "            elif (j == i+1) & (i<5):\n",
    "                sumTp += confusion_mat[i][j]\n",
    "\n",
    "            elif (j == i-1) & (i>0):\n",
    "                sumTp += confusion_mat[i][j]\n",
    "                \n",
    "    microP = sumTp/sumTpFp\n",
    "    print(\"Tolerance precision:\", round(100*microP, 2))"
   ]
  },
  {
   "cell_type": "markdown",
   "metadata": {},
   "source": [
    "### Feature Importances"
   ]
  },
  {
   "cell_type": "code",
   "execution_count": 4,
   "metadata": {},
   "outputs": [
    {
     "name": "stdout",
     "output_type": "stream",
     "text": [
      "Tolerance precision: 96.98\n"
     ]
    },
    {
     "data": {
      "image/png": "[encoded data removed]",
      "text/plain": [
       "<Figure size 432x288 with 1 Axes>"
      ]
     },
     "metadata": {},
     "output_type": "display_data"
    }
   ],
   "source": [
    "# Base model precision\n",
    "evaluate_model(rf, test_features, test_labels)\n",
    "\n",
    "# Calulate variable importances\n",
    "importances = list(rf.feature_importances_)\n",
    "\n",
    "# plot\n",
    "plt.bar(list(features.columns), importances)\n",
    "plt.xticks(rotation='vertical')\n",
    "plt.xlabel(\"Features\"); plt.ylabel(\"Importances\"); plt.title(\"Variable Importances\"); plt.show()"
   ]
  },
  {
   "cell_type": "markdown",
   "metadata": {},
   "source": [
    "Again, we can see that these features are pretty much on the same level and there are little differences. Let's confirm this for sure."
   ]
  },
  {
   "cell_type": "markdown",
   "metadata": {},
   "source": [
    "# Exploring possible model improvement: Build a model with the top 5 features.\n",
    "\n",
    "We already saw that the variables have equal importance but lets try to build a model only with the 5 most important features and lets see how it fares"
   ]
  },
  {
   "cell_type": "code",
   "execution_count": 5,
   "metadata": {},
   "outputs": [
    {
     "name": "stdout",
     "output_type": "stream",
     "text": [
      "Tolerance precision: 96.9\n"
     ]
    }
   ],
   "source": [
    "# Pick the top 4 features\n",
    "best_feat_train = train_features[['alcohol', 'volatile acidity', 'density', 'free sulfur dioxide', \n",
    "                                                                                      'residual sugar']]\n",
    "best_feat_test = test_features[['alcohol', 'volatile acidity', 'density', 'free sulfur dioxide', \n",
    "                                                                       'residual sugar']]\n",
    "best_feat_rf = RandomForestClassifier(n_estimators=100, random_state=1)\n",
    "\n",
    "# Train the model\n",
    "best_feat_rf.fit(best_feat_train, train_labels)\n",
    "\n",
    "# Test the model\n",
    "evaluate_model(best_feat_rf, best_feat_test, test_labels)"
   ]
  },
  {
   "cell_type": "markdown",
   "metadata": {},
   "source": [
    "We can see that all our features are important for the model because our precision decreased (although very slightly). However, **ML is a field of trade-offs** (bias-variance most notably) and one such trade off is the performance-time trade-off. Often a small decrease in performance leads to an disproportionate improvement in run-time which might be crucial for production. We now investigate this trade-off."
   ]
  },
  {
   "cell_type": "markdown",
   "metadata": {},
   "source": [
    "## Compare run-time and performance trade-off"
   ]
  },
  {
   "cell_type": "code",
   "execution_count": 6,
   "metadata": {},
   "outputs": [
    {
     "name": "stdout",
     "output_type": "stream",
     "text": [
      "All features run-time: 0.7\n",
      "Best features run-time: 0.58\n"
     ]
    }
   ],
   "source": [
    "# Run time for all features model\n",
    "all_features_time = []\n",
    "\n",
    "# Do 20 iterations and take the average of all features\n",
    "temp_rf = RandomForestClassifier(n_estimators=100, random_state=1)\n",
    "for _ in range(20):\n",
    "    start_time = time.time()\n",
    "    temp_rf.fit(train_features, train_labels)\n",
    "    predictions = temp_rf.predict(test_features)\n",
    "    all_features_time.append(time.time()-start_time)\n",
    "    \n",
    "print(\"All features run-time:\", round(np.mean(all_features_time), 2))\n",
    "\n",
    "# Run time for best features model\n",
    "best_features_time = []\n",
    "\n",
    "for _ in range(20):\n",
    "    start_time = time.time()\n",
    "    temp_rf.fit(best_feat_train, train_labels)\n",
    "    predictions = temp_rf.predict(best_feat_test)\n",
    "    best_features_time.append(time.time()-start_time)\n",
    "    \n",
    "print(\"Best features run-time:\", round(np.mean(best_features_time), 2))"
   ]
  },
  {
   "cell_type": "markdown",
   "metadata": {},
   "source": [
    "### Accuracy vs Run-time"
   ]
  },
  {
   "cell_type": "code",
   "execution_count": 7,
   "metadata": {},
   "outputs": [
    {
     "data": {
      "text/html": [
       "<div>\n",
       "<style scoped>\n",
       "    .dataframe tbody tr th:only-of-type {\n",
       "        vertical-align: middle;\n",
       "    }\n",
       "\n",
       "    .dataframe tbody tr th {\n",
       "        vertical-align: top;\n",
       "    }\n",
       "\n",
       "    .dataframe thead th {\n",
       "        text-align: right;\n",
       "    }\n",
       "</style>\n",
       "<table border=\"1\" class=\"dataframe\">\n",
       "  <thead>\n",
       "    <tr style=\"text-align: right;\">\n",
       "      <th></th>\n",
       "      <th>features</th>\n",
       "      <th>accuracy</th>\n",
       "      <th>run_time</th>\n",
       "    </tr>\n",
       "  </thead>\n",
       "  <tbody>\n",
       "    <tr>\n",
       "      <th>0</th>\n",
       "      <td>all (11)</td>\n",
       "      <td>96.98%</td>\n",
       "      <td>0.72</td>\n",
       "    </tr>\n",
       "    <tr>\n",
       "      <th>1</th>\n",
       "      <td>reduced(5)</td>\n",
       "      <td>96.90%</td>\n",
       "      <td>0.57</td>\n",
       "    </tr>\n",
       "  </tbody>\n",
       "</table>\n",
       "</div>"
      ],
      "text/plain": [
       "     features accuracy run_time\n",
       "0    all (11)   96.98%     0.72\n",
       "1  reduced(5)   96.90%     0.57"
      ]
     },
     "execution_count": 7,
     "metadata": {},
     "output_type": "execute_result"
    }
   ],
   "source": [
    "comparison = pd.DataFrame({\n",
    "    'features': ['all (11)', 'reduced(5)'],\n",
    "    'accuracy': ['96.98%', '96.90%'],\n",
    "    'run_time': ['0.72', '0.57']\n",
    "})\n",
    "comparison"
   ]
  },
  {
   "cell_type": "code",
   "execution_count": 8,
   "metadata": {},
   "outputs": [
    {
     "name": "stdout",
     "output_type": "stream",
     "text": [
      "Decrease in accuracy:  0.08 %\n",
      "Decrease in runtime:  20.83 %\n"
     ]
    }
   ],
   "source": [
    "print(\"Decrease in accuracy: \", round(100*(1- 96.9/96.98), 2), \"%\")\n",
    "print(\"Decrease in runtime: \", round(100*(1- 0.57/0.72),2), \"%\")"
   ]
  },
  {
   "cell_type": "markdown",
   "metadata": {},
   "source": [
    "Now, obviously a run time of *0.72s* and *0.57s* is inconsequential in our case but in a real world scenario, a decrease of *0.08%* in accuracy can be worthwhile when compared with a disporpotenate decrease of *20.83%* in run-time."
   ]
  },
  {
   "cell_type": "markdown",
   "metadata": {},
   "source": [
    "# Hyperparameter tuning\n",
    "\n",
    "Now we turn to the nitty-gritty aspect of this notebook, *hyperparameter tuning*. If we cannot get any more data and no feature engineering is possible then we can turn to hyperparameter tuning in order to boost our model.\n",
    "\n",
    "At this point in time, the implementations of popular ML algorithms by scikit-learn are state-of-the-art. Thus they come with a whole bunch of settings to adjust, which have a whole theory behind them (another reason to study the ML algorithms themself in addition to the fact that you also won't take them for black magic!). Hyperparameters are set by the Machine Learning engineer before training. Tuning hyperparameters essentially is a trial-and-error process.\n",
    "\n",
    "They rely more on experimental results than theory and thus the best method to determine the optimal settings is to try many different combinations. One way to realize this is to use Cross Validation (CV). \n",
    "\n",
    "In CV we further split the training set into K number of subsets called folds. We then iteratively fit the model K times, each time training the data on K-1 folds and evaluating it on the K-th fold. For hyperparameter tunning we perform many iterations of the entire K-fold CV process, using each time different model settings. Finally, we pick the best model, train it on the full training set and then evaluate on the testing set (as usual). "
   ]
  },
  {
   "cell_type": "code",
   "execution_count": 9,
   "metadata": {},
   "outputs": [
    {
     "name": "stdout",
     "output_type": "stream",
     "text": [
      "{'bootstrap': True,\n",
      " 'ccp_alpha': 0.0,\n",
      " 'class_weight': None,\n",
      " 'criterion': 'gini',\n",
      " 'max_depth': None,\n",
      " 'max_features': 'auto',\n",
      " 'max_leaf_nodes': None,\n",
      " 'max_samples': None,\n",
      " 'min_impurity_decrease': 0.0,\n",
      " 'min_impurity_split': None,\n",
      " 'min_samples_leaf': 1,\n",
      " 'min_samples_split': 2,\n",
      " 'min_weight_fraction_leaf': 0.0,\n",
      " 'n_estimators': 100,\n",
      " 'n_jobs': None,\n",
      " 'oob_score': False,\n",
      " 'random_state': 1,\n",
      " 'verbose': 0,\n",
      " 'warm_start': False}\n"
     ]
    }
   ],
   "source": [
    "# Hyperparameters as they are currently in use by the forest\n",
    "pprint(rf.get_params())"
   ]
  },
  {
   "cell_type": "markdown",
   "metadata": {},
   "source": [
    "[Docs](https://scikit-learn.org/stable/modules/generated/sklearn.ensemble.RandomForestClassifier.html) explaining it\n",
    "\n",
    "There are many different hyperparameters. We shall work with the following:\n",
    "\n",
    "- n_estimators: number trees in the forest\n",
    "- max_features: the number of features to consider when looking for the best split\n",
    "- max_depth: max depth of the tree\n",
    "- min_samples_split: the minimum number of samples required for the node to be split\n",
    "- min_samples_leaf: min number of samples required to be at a leaf node\n",
    "- bootstrap: random forests consist of two randomizing processes. If this is False, then the whole dataset is used to build each tree.\n",
    "\n",
    "Following: Hyperparameter tuning using Scikit-Learn's [RandomizedSearchCV](https://scikit-learn.org/stable/modules/generated/sklearn.model_selection.RandomizedSearchCV.html). We define a grid of hyperparameter ranges, and randomly sample from the grid, performing K-Fold CV with each combination of values."
   ]
  },
  {
   "cell_type": "code",
   "execution_count": 10,
   "metadata": {},
   "outputs": [
    {
     "name": "stdout",
     "output_type": "stream",
     "text": [
      "{'bootstrap': [True, False],\n",
      " 'max_depth': [10, 20, 30, 40, 50, 60, 70, 80, 90, 100, None],\n",
      " 'max_features': ['auto', 'log2'],\n",
      " 'min_samples_leaf': [1, 2, 4],\n",
      " 'min_samples_split': [2, 4, 9],\n",
      " 'n_estimators': [200, 400, 600, 800, 1000, 1200, 1400, 1600, 1800, 2000]}\n"
     ]
    }
   ],
   "source": [
    "# Number of trees in our forest\n",
    "n_estimators = [int(x) for x in np.linspace(start=200, stop=2000, num=10)]\n",
    "\n",
    "# Number of features to consider when looking for the best split\n",
    "max_features = ['auto', 'log2']\n",
    "\n",
    "# max_depth\n",
    "max_depth = [int(x) for x in np.linspace(start=10, stop=100, num=10)]\n",
    "max_depth.append(None)\n",
    "\n",
    "# min_samples split\n",
    "min_samples_split = [2, 4, 9]\n",
    "\n",
    "# min_samples leaf\n",
    "min_samples_leaf = [1, 2, 4]\n",
    "\n",
    "bootstrap = [True, False]\n",
    "\n",
    "# Create the random grid\n",
    "random_grid = {\n",
    "    'n_estimators': n_estimators,\n",
    "    'max_features': max_features,\n",
    "    'max_depth': max_depth,\n",
    "    'min_samples_split': min_samples_split,\n",
    "    'min_samples_leaf': min_samples_leaf,\n",
    "    'bootstrap': bootstrap\n",
    "}\n",
    "\n",
    "pprint(random_grid)"
   ]
  },
  {
   "cell_type": "markdown",
   "metadata": {},
   "source": [
    "So the algorithm will choose a different set of features out of a total pool of 3600 different settings."
   ]
  },
  {
   "cell_type": "code",
   "execution_count": 11,
   "metadata": {},
   "outputs": [
    {
     "name": "stdout",
     "output_type": "stream",
     "text": [
      "Fitting 3 folds for each of 100 candidates, totalling 300 fits\n"
     ]
    },
    {
     "name": "stderr",
     "output_type": "stream",
     "text": [
      "[Parallel(n_jobs=-1)]: Using backend LokyBackend with 4 concurrent workers.\n",
      "[Parallel(n_jobs=-1)]: Done  33 tasks      | elapsed:  1.9min\n",
      "[Parallel(n_jobs=-1)]: Done 154 tasks      | elapsed:  8.6min\n",
      "[Parallel(n_jobs=-1)]: Done 300 out of 300 | elapsed: 17.9min finished\n"
     ]
    }
   ],
   "source": [
    "rf2 = RandomForestClassifier()\n",
    "\n",
    "# n_iter: number of parameter settings that are sampled, in this case 100 out of 3600\n",
    "# scoring: method of evaluating the predictions on the test set\n",
    "# cv: the cross-validation splitting strategy. 10 for a 10-fold cross validation\n",
    "# verbose: the higher the more messages\n",
    "# n_jobs: -1 use all processors to run in paralel\n",
    "rf2_random = RandomizedSearchCV(estimator=rf2, param_distributions=random_grid,\n",
    "                               n_iter=100, scoring='neg_mean_absolute_error',\n",
    "                               cv=3, verbose=2, random_state=3, n_jobs=-1)\n",
    "\n",
    "rf2_random.fit(train_features, train_labels);"
   ]
  },
  {
   "cell_type": "code",
   "execution_count": 12,
   "metadata": {},
   "outputs": [
    {
     "data": {
      "text/plain": [
       "{'n_estimators': 400,\n",
       " 'min_samples_split': 4,\n",
       " 'min_samples_leaf': 1,\n",
       " 'max_features': 'log2',\n",
       " 'max_depth': 60,\n",
       " 'bootstrap': True}"
      ]
     },
     "execution_count": 12,
     "metadata": {},
     "output_type": "execute_result"
    }
   ],
   "source": [
    "rf2_random.best_params_"
   ]
  },
  {
   "cell_type": "code",
   "execution_count": 13,
   "metadata": {},
   "outputs": [
    {
     "name": "stdout",
     "output_type": "stream",
     "text": [
      "Tolerance precision: 96.98\n",
      "Tolerance precision: 97.14\n"
     ]
    }
   ],
   "source": [
    "# Evaluate current model\n",
    "evaluate_model(rf, test_features, test_labels)\n",
    "\n",
    "# Evaluate best random method by RandomizedSearchCV\n",
    "evaluate_model(rf2_random.best_estimator_, test_features, test_labels)"
   ]
  },
  {
   "cell_type": "markdown",
   "metadata": {},
   "source": [
    "Use [grid search](https://scikit-learn.org/stable/modules/generated/sklearn.model_selection.GridSearchCV.html?highlight=gridsearchcv#sklearn.model_selection.GridSearchCV) to further check the best model. Unlike RandomisedSearch, grid search will try out all combinations."
   ]
  },
  {
   "cell_type": "code",
   "execution_count": 14,
   "metadata": {},
   "outputs": [
    {
     "name": "stdout",
     "output_type": "stream",
     "text": [
      "Fitting 3 folds for each of 432 candidates, totalling 1296 fits\n"
     ]
    },
    {
     "name": "stderr",
     "output_type": "stream",
     "text": [
      "[Parallel(n_jobs=-1)]: Using backend LokyBackend with 4 concurrent workers.\n",
      "[Parallel(n_jobs=-1)]: Done  24 tasks      | elapsed:   51.7s\n",
      "[Parallel(n_jobs=-1)]: Done 120 tasks      | elapsed:  9.2min\n",
      "[Parallel(n_jobs=-1)]: Done 280 tasks      | elapsed: 23.1min\n",
      "[Parallel(n_jobs=-1)]: Done 504 tasks      | elapsed: 42.3min\n",
      "[Parallel(n_jobs=-1)]: Done 792 tasks      | elapsed: 66.5min\n",
      "[Parallel(n_jobs=-1)]: Done 1144 tasks      | elapsed: 97.1min\n",
      "[Parallel(n_jobs=-1)]: Done 1296 out of 1296 | elapsed: 110.2min finished\n"
     ]
    },
    {
     "data": {
      "text/plain": [
       "GridSearchCV(cv=3, error_score=nan,\n",
       "             estimator=RandomForestClassifier(bootstrap=True, ccp_alpha=0.0,\n",
       "                                              class_weight=None,\n",
       "                                              criterion='gini', max_depth=None,\n",
       "                                              max_features='auto',\n",
       "                                              max_leaf_nodes=None,\n",
       "                                              max_samples=None,\n",
       "                                              min_impurity_decrease=0.0,\n",
       "                                              min_impurity_split=None,\n",
       "                                              min_samples_leaf=1,\n",
       "                                              min_samples_split=2,\n",
       "                                              min_weight_fraction_leaf=0.0,\n",
       "                                              n_estimators=100, n_jobs=None,\n",
       "                                              oob_score=False,\n",
       "                                              random_state=None, verbose=0,\n",
       "                                              warm_start=False),\n",
       "             iid='deprecated', n_jobs=-1,\n",
       "             param_grid={'bootstrap': [True],\n",
       "                         'max_depth': [50, 60, 70, 80, 90, 120],\n",
       "                         'max_features': ['log2'],\n",
       "                         'min_samples_leaf': [1, 2, 3],\n",
       "                         'min_samples_split': [1, 2, 3, 4],\n",
       "                         'n_estimators': [1500, 1600, 1700, 2000, 2300, 2500]},\n",
       "             pre_dispatch='2*n_jobs', refit=True, return_train_score=False,\n",
       "             scoring=None, verbose=3)"
      ]
     },
     "execution_count": 14,
     "metadata": {},
     "output_type": "execute_result"
    }
   ],
   "source": [
    "# Trying out 432 more setting combinations\n",
    "param_grid = {\n",
    "    'bootstrap': [True],\n",
    "    'max_depth': [50, 60, 70, 80, 90, 120],\n",
    "    'max_features': ['log2'],\n",
    "    'min_samples_leaf': [1, 2, 3],\n",
    "    'min_samples_split': [1, 2, 3, 4],\n",
    "    'n_estimators': [1500, 1600, 1700, 2000, 2300, 2500]\n",
    "}\n",
    "\n",
    "rf3 = RandomForestClassifier()\n",
    "\n",
    "rf3_grid = GridSearchCV(estimator=rf3, param_grid=param_grid, cv=3, n_jobs=-1, verbose=3)\n",
    "rf3_grid.fit(train_features, train_labels)"
   ]
  },
  {
   "cell_type": "code",
   "execution_count": 15,
   "metadata": {},
   "outputs": [
    {
     "data": {
      "text/plain": [
       "{'bootstrap': True,\n",
       " 'max_depth': 70,\n",
       " 'max_features': 'log2',\n",
       " 'min_samples_leaf': 1,\n",
       " 'min_samples_split': 3,\n",
       " 'n_estimators': 2000}"
      ]
     },
     "execution_count": 15,
     "metadata": {},
     "output_type": "execute_result"
    }
   ],
   "source": [
    "rf3_grid.best_params_"
   ]
  },
  {
   "cell_type": "code",
   "execution_count": 16,
   "metadata": {},
   "outputs": [
    {
     "name": "stdout",
     "output_type": "stream",
     "text": [
      "Tolerance precision: 96.98\n",
      "Tolerance precision: 97.14\n",
      "Tolerance precision: 97.31\n"
     ]
    }
   ],
   "source": [
    "# Evaluate current model\n",
    "evaluate_model(rf, test_features, test_labels)\n",
    "\n",
    "# Evaluate best random method by RandomizedSearchCV\n",
    "evaluate_model(rf2_random.best_estimator_, test_features, test_labels)\n",
    "\n",
    "# Evaluate best method by GridSearchCV\n",
    "evaluate_model(rf3_grid.best_estimator_, test_features, test_labels)"
   ]
  },
  {
   "cell_type": "markdown",
   "metadata": {},
   "source": [
    "We could continue to further refine our grid search until we get diminishing returns.\n",
    "\n",
    "We took our model from a *96.98%* accuracy to *97.14%* and finally to *97.31* which is unimpressive and a very slight improvement but it is something nonetheless."
   ]
  },
  {
   "cell_type": "markdown",
   "metadata": {},
   "source": [
    "# Conclusion"
   ]
  },
  {
   "cell_type": "markdown",
   "metadata": {},
   "source": [
    "We build a complete end-to-end Machine Learning example going through the process of analysing the data, preparing it for the ML model and then performance evaluation where we even managed to boost it up a little bit!"
   ]
  }
 ],
 "metadata": {
  "kernelspec": {
   "display_name": "Python 3",
   "language": "python",
   "name": "python3"
  },
  "language_info": {
   "codemirror_mode": {
    "name": "ipython",
    "version": 3
   },
   "file_extension": ".py",
   "mimetype": "text/x-python",
   "name": "python",
   "nbconvert_exporter": "python",
   "pygments_lexer": "ipython3",
   "version": "3.7.3"
  }
 },
 "nbformat": 4,
 "nbformat_minor": 4
}
