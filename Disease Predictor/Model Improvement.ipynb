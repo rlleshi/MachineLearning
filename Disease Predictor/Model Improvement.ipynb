{
 "cells": [
  {
   "cell_type": "markdown",
   "metadata": {},
   "source": [
    "# Adjusting the model\n",
    "\n",
    "In the previous notebook we tweaked hyperparameters for SVM in order to boost its accuracy. \n",
    "\n",
    "Here we will explore two other models, Random Forests and Logistic Regression in a bid to achieve more accuracy in our disease prediction question."
   ]
  },
  {
   "cell_type": "code",
   "execution_count": 1,
   "metadata": {},
   "outputs": [],
   "source": [
    "import pandas as pd\n",
    "import numpy as np\n",
    "import matplotlib.pyplot as plt\n",
    "import seaborn as sns\n",
    "sns.set()\n",
    "from pprint import pprint\n",
    "\n",
    "from sklearn.datasets import load_breast_cancer\n",
    "from sklearn.model_selection import train_test_split, GridSearchCV, RandomizedSearchCV, cross_val_score\n",
    "from sklearn.metrics import confusion_matrix,accuracy_score,f1_score,precision_score,recall_score\n",
    "from sklearn.preprocessing import MinMaxScaler, StandardScaler\n",
    "from sklearn.svm import SVC\n",
    "from sklearn.ensemble import RandomForestClassifier\n",
    "from sklearn.linear_model import LogisticRegression"
   ]
  },
  {
   "cell_type": "code",
   "execution_count": 2,
   "metadata": {},
   "outputs": [],
   "source": [
    "def evaluate_model(model, model_name, test_features, test_labels):\n",
    "    \"\"\" Evaluate a model using test data. Print the precision. \"\"\"\n",
    "    \n",
    "    predictions = model.predict(test_features)\n",
    "    accuracy = round(100*accuracy_score(test_labels, predictions),2)\n",
    "    print(\"The accuracy of the {} model is {}%\".format(model_name, accuracy))"
   ]
  },
  {
   "cell_type": "markdown",
   "metadata": {},
   "source": [
    "# Prepare data for the ML model"
   ]
  },
  {
   "cell_type": "code",
   "execution_count": 3,
   "metadata": {},
   "outputs": [],
   "source": [
    "# Import the data and build the pandas dataframe\n",
    "# Split into class/features\n",
    "features = load_breast_cancer()\n",
    "labels = features['target']\n",
    "features = pd.DataFrame(data=features['data'], columns=features['feature_names'])\n",
    "\n",
    "# Split into train/test\n",
    "train_features, test_features, train_labels, test_labels = train_test_split(features, labels, test_size=0.2,\n",
    "                                                                           random_state=1)"
   ]
  },
  {
   "cell_type": "markdown",
   "metadata": {},
   "source": [
    "## Feature Scaling, Min-Max Scaler"
   ]
  },
  {
   "cell_type": "code",
   "execution_count": 4,
   "metadata": {},
   "outputs": [],
   "source": [
    "scaler = MinMaxScaler(feature_range=(0,1))\n",
    "train_features_scaled = pd.DataFrame(scaler.fit_transform(train_features))\n",
    "train_features_scaled.columns = train_features.columns\n",
    "train_features_scaled.index = train_features.index.values\n",
    "\n",
    "test_features_scaled = pd.DataFrame(scaler.fit_transform(test_features))\n",
    "test_features_scaled.columns = test_features.columns\n",
    "test_features_scaled.index = test_features.index.values"
   ]
  },
  {
   "cell_type": "markdown",
   "metadata": {},
   "source": [
    "# SVM\n",
    "\n",
    "Lets quickly rebuild what was done in the previous notebook"
   ]
  },
  {
   "cell_type": "code",
   "execution_count": 5,
   "metadata": {},
   "outputs": [
    {
     "name": "stdout",
     "output_type": "stream",
     "text": [
      "The accuracy of the SVM model is 98.25%\n"
     ]
    }
   ],
   "source": [
    "# Train the model using the hyperparameters discovered in the last notebook\n",
    "svm_model = SVC(C=8, kernel='linear', random_state=1)\n",
    "svm_model.fit(train_features_scaled, train_labels)\n",
    "\n",
    "# Test & Evaluate the model\n",
    "evaluate_model(svm_model, 'SVM', test_features_scaled, test_labels)"
   ]
  },
  {
   "cell_type": "markdown",
   "metadata": {},
   "source": [
    "# Random Forests\n",
    "\n",
    "Random Forests do not require data normalizaton."
   ]
  },
  {
   "cell_type": "code",
   "execution_count": 6,
   "metadata": {},
   "outputs": [
    {
     "name": "stdout",
     "output_type": "stream",
     "text": [
      "The accuracy of the RF model is 95.61%\n"
     ]
    }
   ],
   "source": [
    "# Train the model\n",
    "rf_model = RandomForestClassifier(random_state=1)\n",
    "rf_model.fit(train_features, train_labels)\n",
    "\n",
    "# Test & evaluate the model\n",
    "evaluate_model(rf_model, 'RF', test_features, test_labels)"
   ]
  },
  {
   "cell_type": "markdown",
   "metadata": {},
   "source": [
    "## Hyperparameter tunning\n",
    "\n",
    "**95.61%** is not bad for a starter. Lets do some hyperparameter tunning and see what we come up with. \n",
    "\n",
    "We shall work with the following hyperparameters ([docs](https://scikit-learn.org/stable/modules/generated/sklearn.ensemble.RandomForestClassifier.html) explaining them):\n",
    "- n_estimators: number of trees in the forest\n",
    "- max_features: number of features taken into consideration while building the tree\n",
    "- max_depth: the maximum depth that the tree can take\n",
    "- min_samples_split: the minimal number of samples required if a node is to be split further\n",
    "- min_samples_leaf: the minimal number of samples before a node is declared to be a leaf\n",
    "- bootstrap: random forests consist of two randomized processes. If this is False than the whole dataset is used to build each tree\n",
    "\n",
    "Let's first see the current state of hyperparameters."
   ]
  },
  {
   "cell_type": "code",
   "execution_count": 7,
   "metadata": {},
   "outputs": [
    {
     "name": "stdout",
     "output_type": "stream",
     "text": [
      "{'bootstrap': True,\n",
      " 'ccp_alpha': 0.0,\n",
      " 'class_weight': None,\n",
      " 'criterion': 'gini',\n",
      " 'max_depth': None,\n",
      " 'max_features': 'auto',\n",
      " 'max_leaf_nodes': None,\n",
      " 'max_samples': None,\n",
      " 'min_impurity_decrease': 0.0,\n",
      " 'min_impurity_split': None,\n",
      " 'min_samples_leaf': 1,\n",
      " 'min_samples_split': 2,\n",
      " 'min_weight_fraction_leaf': 0.0,\n",
      " 'n_estimators': 100,\n",
      " 'n_jobs': None,\n",
      " 'oob_score': False,\n",
      " 'random_state': 1,\n",
      " 'verbose': 0,\n",
      " 'warm_start': False}\n"
     ]
    }
   ],
   "source": [
    "pprint(rf_model.get_params())"
   ]
  },
  {
   "cell_type": "code",
   "execution_count": 8,
   "metadata": {},
   "outputs": [
    {
     "name": "stdout",
     "output_type": "stream",
     "text": [
      "{'bootstrap': [True, False],\n",
      " 'max_depth': [10, 20, 30, 40, 50, 60, 70, 80, 90, 100, None],\n",
      " 'max_features': ['auto', 'log2'],\n",
      " 'min_samples_leaf': [1, 2, 3, 4],\n",
      " 'min_samples_split': [2, 4, 9],\n",
      " 'n_estimators': [200, 400, 600, 800, 1000, 1200, 1400, 1600, 1800, 2000]}\n"
     ]
    }
   ],
   "source": [
    "n_estimators = [x for x in range(200, 2200, 200)]\n",
    "max_features = ['auto', 'log2']\n",
    "max_depth = [x for x in range(10, 110, 10)]\n",
    "max_depth.append(None)\n",
    "min_samples_split = [2,4,9]\n",
    "min_samples_leaf = [1,2,3,4]\n",
    "bootstrap = [True, False]\n",
    "\n",
    "# Create random grid\n",
    "random_grid = {\n",
    "    'n_estimators': n_estimators,\n",
    "    'max_features': max_features,\n",
    "    'max_depth': max_depth,\n",
    "    'min_samples_split': min_samples_split,\n",
    "    'min_samples_leaf': min_samples_leaf,\n",
    "    'bootstrap': bootstrap\n",
    "}\n",
    "\n",
    "pprint(random_grid)"
   ]
  },
  {
   "cell_type": "markdown",
   "metadata": {},
   "source": [
    "So the RandomizedSearchCV will pick different settings out of a total of 5808 combinations. We will try out 200 out of these."
   ]
  },
  {
   "cell_type": "code",
   "execution_count": 18,
   "metadata": {},
   "outputs": [
    {
     "name": "stdout",
     "output_type": "stream",
     "text": [
      "Fitting 3 folds for each of 200 candidates, totalling 600 fits\n"
     ]
    },
    {
     "name": "stderr",
     "output_type": "stream",
     "text": [
      "[Parallel(n_jobs=-1)]: Using backend LokyBackend with 4 concurrent workers.\n",
      "[Parallel(n_jobs=-1)]: Done  24 tasks      | elapsed:   19.0s\n",
      "[Parallel(n_jobs=-1)]: Done 120 tasks      | elapsed:  2.2min\n",
      "[Parallel(n_jobs=-1)]: Done 280 tasks      | elapsed:  5.9min\n",
      "[Parallel(n_jobs=-1)]: Done 504 tasks      | elapsed: 11.5min\n",
      "[Parallel(n_jobs=-1)]: Done 600 out of 600 | elapsed: 13.9min finished\n"
     ]
    }
   ],
   "source": [
    "rf = RandomForestClassifier()\n",
    "\n",
    "# scoring: method of evaluating the predictions on the test set\n",
    "rf_model_rand = RandomizedSearchCV(estimator=rf, param_distributions=random_grid, n_iter=200, \n",
    "                                  scoring='neg_mean_absolute_error', cv=3, verbose=3, random_state=1,\n",
    "                                  n_jobs=-1)\n",
    "\n",
    "rf_model_rand.fit(train_features, train_labels);"
   ]
  },
  {
   "cell_type": "code",
   "execution_count": 20,
   "metadata": {},
   "outputs": [
    {
     "data": {
      "text/plain": [
       "{'n_estimators': 1200,\n",
       " 'min_samples_split': 4,\n",
       " 'min_samples_leaf': 4,\n",
       " 'max_features': 'log2',\n",
       " 'max_depth': 100,\n",
       " 'bootstrap': False}"
      ]
     },
     "execution_count": 20,
     "metadata": {},
     "output_type": "execute_result"
    }
   ],
   "source": [
    "rf_model_rand.best_params_"
   ]
  },
  {
   "cell_type": "markdown",
   "metadata": {},
   "source": [
    "Test and evaluate the model"
   ]
  },
  {
   "cell_type": "code",
   "execution_count": 42,
   "metadata": {},
   "outputs": [
    {
     "name": "stdout",
     "output_type": "stream",
     "text": [
      "The accuracy of the RF with hyperparameter improvement 1 model is 95.61%\n"
     ]
    }
   ],
   "source": [
    "evaluate_model(rf_model_rand.best_estimator_, \"RF with hyperparameter improvement 1\", test_features, test_labels)"
   ]
  },
  {
   "cell_type": "markdown",
   "metadata": {},
   "source": [
    "Refine search with [GridSearchCV](https://scikit-learn.org/stable/modules/generated/sklearn.model_selection.GridSearchCV.html?highlight=gridsearchcv#sklearn.model_selection.GridSearchCV)"
   ]
  },
  {
   "cell_type": "code",
   "execution_count": 44,
   "metadata": {},
   "outputs": [
    {
     "name": "stdout",
     "output_type": "stream",
     "text": [
      "Fitting 5 folds for each of 720 candidates, totalling 3600 fits\n"
     ]
    },
    {
     "name": "stderr",
     "output_type": "stream",
     "text": [
      "[Parallel(n_jobs=3)]: Using backend LokyBackend with 3 concurrent workers.\n",
      "[Parallel(n_jobs=3)]: Done  26 tasks      | elapsed:   31.1s\n",
      "[Parallel(n_jobs=3)]: Done 122 tasks      | elapsed:  2.8min\n",
      "[Parallel(n_jobs=3)]: Done 282 tasks      | elapsed:  6.6min\n",
      "[Parallel(n_jobs=3)]: Done 506 tasks      | elapsed: 12.3min\n",
      "[Parallel(n_jobs=3)]: Done 794 tasks      | elapsed: 19.6min\n",
      "[Parallel(n_jobs=3)]: Done 1146 tasks      | elapsed: 28.9min\n",
      "[Parallel(n_jobs=3)]: Done 1562 tasks      | elapsed: 39.7min\n",
      "[Parallel(n_jobs=3)]: Done 2042 tasks      | elapsed: 52.2min\n",
      "[Parallel(n_jobs=3)]: Done 2586 tasks      | elapsed: 69.2min\n",
      "[Parallel(n_jobs=3)]: Done 3194 tasks      | elapsed: 86.6min\n",
      "[Parallel(n_jobs=3)]: Done 3600 out of 3600 | elapsed: 98.8min finished\n"
     ]
    }
   ],
   "source": [
    "# Try out 720 different parameter sets\n",
    "grid_param = {\n",
    "    'n_estimators':[1000,1200,1400,1600],\n",
    "    'min_samples_split':[2,3,4,5,6,8],\n",
    "    'min_samples_leaf':[2,3,4,5,6,8],\n",
    "    'max_features': ['log2'],\n",
    "    'max_depth': [80, 100, 120, 140, 200]\n",
    "}\n",
    "\n",
    "rf = RandomForestClassifier()\n",
    "\n",
    "rf_model_grid = GridSearchCV(estimator=rf, param_grid=grid_param, cv=5, n_jobs=3, verbose=3)\n",
    "rf_model_grid.fit(train_features, train_labels);"
   ]
  },
  {
   "cell_type": "code",
   "execution_count": 45,
   "metadata": {},
   "outputs": [
    {
     "data": {
      "text/plain": [
       "{'max_depth': 120,\n",
       " 'max_features': 'log2',\n",
       " 'min_samples_leaf': 2,\n",
       " 'min_samples_split': 4,\n",
       " 'n_estimators': 1200}"
      ]
     },
     "execution_count": 45,
     "metadata": {},
     "output_type": "execute_result"
    }
   ],
   "source": [
    "rf_model_grid.best_params_"
   ]
  },
  {
   "cell_type": "markdown",
   "metadata": {},
   "source": [
    "We can stop here and see the final performance of the RF model as compared to the SVM model."
   ]
  },
  {
   "cell_type": "code",
   "execution_count": 47,
   "metadata": {},
   "outputs": [
    {
     "name": "stdout",
     "output_type": "stream",
     "text": [
      "The accuracy of the RF no hyperparameters model is 95.61%\n",
      "The accuracy of the RF with hyperparameter tuning model is 94.74%\n"
     ]
    }
   ],
   "source": [
    "evaluate_model(rf_model, 'RF no hyperparameters', test_features, test_labels)\n",
    "evaluate_model(rf_model_grid.best_estimator_, \"RF with hyperparameter tuning\", test_features, test_labels)"
   ]
  },
  {
   "cell_type": "markdown",
   "metadata": {},
   "source": [
    "And we got diminishing returns...\n",
    "\n",
    "Our efforts in hyperparameter tuning for RF were not successful"
   ]
  },
  {
   "cell_type": "markdown",
   "metadata": {},
   "source": [
    "## Variable Importances\n",
    "\n",
    "Moreover we can check variable importances and see if we can boost the RF model's performance in this way."
   ]
  },
  {
   "cell_type": "code",
   "execution_count": 9,
   "metadata": {},
   "outputs": [
    {
     "data": {
      "image/png": "[encoded data removed]",
      "text/plain": [
       "<Figure size 720x576 with 1 Axes>"
      ]
     },
     "metadata": {},
     "output_type": "display_data"
    }
   ],
   "source": [
    "importances = list(rf_model.feature_importances_)\n",
    "\n",
    "# plot\n",
    "plt.figure(figsize=(10,8))\n",
    "plt.bar(list(features.columns), importances)\n",
    "plt.xticks(rotation='vertical')\n",
    "plt.xlabel(\"Features\"); plt.ylabel(\"Importances\"); plt.title(\"Variable Importances\"); plt.show()"
   ]
  },
  {
   "cell_type": "markdown",
   "metadata": {},
   "source": [
    "### Build a model with the top 8 most important variables\n",
    "\n",
    "Since we see that not all variables are equally important, lets pick the top 8 most important and build a model out of that."
   ]
  },
  {
   "cell_type": "code",
   "execution_count": 10,
   "metadata": {},
   "outputs": [
    {
     "data": {
      "text/plain": [
       "['worst perimeter',\n",
       " 'worst concave points',\n",
       " 'worst area',\n",
       " 'mean concave points',\n",
       " 'worst radius',\n",
       " 'mean radius',\n",
       " 'mean perimeter',\n",
       " 'mean concavity']"
      ]
     },
     "execution_count": 10,
     "metadata": {},
     "output_type": "execute_result"
    }
   ],
   "source": [
    "n_features = 8\n",
    "\n",
    "# Sort importances and pick the top 8\n",
    "importances = [(name, imp) for imp, name in zip(importances,features.columns)]\n",
    "importances.sort(key=lambda tup: tup[1], reverse=True)\n",
    "top_feat = [importances[i][0] for i in range(n_features)]\n",
    "top_feat"
   ]
  },
  {
   "cell_type": "code",
   "execution_count": 11,
   "metadata": {},
   "outputs": [
    {
     "name": "stdout",
     "output_type": "stream",
     "text": [
      "The accuracy of the RF only with important features model is 95.61%\n"
     ]
    }
   ],
   "source": [
    "important_features_train = train_features[top_feat]\n",
    "important_features_test = test_features[top_feat]\n",
    "\n",
    "# Train the new model\n",
    "rf_impt_feat = RandomForestClassifier(random_state=1)\n",
    "rf_impt_feat.fit(important_features_train, train_labels)\n",
    "\n",
    "evaluate_model(rf_impt_feat, \"RF only with important features\", important_features_test, test_labels)"
   ]
  },
  {
   "cell_type": "markdown",
   "metadata": {},
   "source": [
    "The accuracy does not increase. Despite our efforts it seems that we cannot further boost this model. We now move to logistic regressions."
   ]
  },
  {
   "cell_type": "markdown",
   "metadata": {},
   "source": [
    "# [Logistic Regression](https://scikit-learn.org/stable/modules/generated/sklearn.linear_model.LogisticRegression.html)\n",
    "\n",
    "We saw a little bit in the Random Forest model that not all features are equally important. Some are much more important than others. Therefore we shall use Lasso Regression so that the algorithm discards potentially useless features. Lasso Regression can shrink the slope all the way to 0 thereby removing redundant features."
   ]
  },
  {
   "cell_type": "markdown",
   "metadata": {},
   "source": [
    "## Scaling\n",
    "### Min-Max"
   ]
  },
  {
   "cell_type": "code",
   "execution_count": 28,
   "metadata": {},
   "outputs": [
    {
     "name": "stdout",
     "output_type": "stream",
     "text": [
      "The accuracy of the Logistic Regression model is 95.61%\n"
     ]
    }
   ],
   "source": [
    "# Train\n",
    "lr1 = LogisticRegression(random_state=1, penalty='l1', solver='liblinear')\n",
    "lr1.fit(train_features_scaled, train_labels)\n",
    "\n",
    "# Test & Evaluate\n",
    "evaluate_model(lr1, \"Logistic Regression\", test_features_scaled, test_labels)"
   ]
  },
  {
   "cell_type": "markdown",
   "metadata": {},
   "source": [
    "### Standard Scaler"
   ]
  },
  {
   "cell_type": "code",
   "execution_count": 12,
   "metadata": {},
   "outputs": [
    {
     "name": "stdout",
     "output_type": "stream",
     "text": [
      "The accuracy of the Logistic Regression model is 97.37%\n"
     ]
    }
   ],
   "source": [
    "scaler2 = StandardScaler()\n",
    "\n",
    "train_features_scaled2 = pd.DataFrame(scaler2.fit_transform(train_features))\n",
    "train_features_scaled2.columns = train_features.columns\n",
    "train_features_scaled2.index = train_features.index.values\n",
    "\n",
    "test_features_scaled2 = pd.DataFrame(scaler2.fit_transform(test_features))\n",
    "test_features_scaled2.columns = test_features.columns\n",
    "test_features_scaled2.index = test_features.index.values\n",
    "\n",
    "# Train model\n",
    "lr2 = LogisticRegression(random_state=1, penalty='l1', solver='liblinear')\n",
    "lr2.fit(train_features_scaled2, train_labels)\n",
    "\n",
    "# Test & Evaluate\n",
    "evaluate_model(lr2, \"Logistic Regression\", test_features_scaled2, test_labels)"
   ]
  },
  {
   "cell_type": "markdown",
   "metadata": {},
   "source": [
    "So, Standard Scaler seems to perform much better for logistic regression, namely **97.37%** as opposed to the **95.61%** of the Min-Max Scaler."
   ]
  },
  {
   "cell_type": "markdown",
   "metadata": {},
   "source": [
    "## Evaluation of the Model using Cross Validation"
   ]
  },
  {
   "cell_type": "code",
   "execution_count": 13,
   "metadata": {},
   "outputs": [
    {
     "name": "stdout",
     "output_type": "stream",
     "text": [
      "Accuracy of the Linear Regression model with a 10-fold CV: 96.94\n"
     ]
    }
   ],
   "source": [
    "lr_accuracy = cross_val_score(estimator=lr2, X=train_features_scaled2, y=train_labels, cv=10)\n",
    "print(\"Accuracy of the Linear Regression model with a 10-fold CV:\", round(100*np.mean(lr_accuracy), 2))"
   ]
  },
  {
   "cell_type": "markdown",
   "metadata": {},
   "source": [
    "We do not notice any improvement..."
   ]
  },
  {
   "cell_type": "markdown",
   "metadata": {},
   "source": [
    "# Conclusions"
   ]
  },
  {
   "cell_type": "code",
   "execution_count": 14,
   "metadata": {},
   "outputs": [
    {
     "name": "stdout",
     "output_type": "stream",
     "text": [
      "The accuracy of the SVM model is 98.25%\n",
      "The accuracy of the Logistic Regression model is 97.37%\n",
      "The accuracy of the RF model is 95.61%\n"
     ]
    }
   ],
   "source": [
    "evaluate_model(svm_model, 'SVM', test_features_scaled, test_labels)\n",
    "evaluate_model(lr2, \"Logistic Regression\", test_features_scaled2, test_labels)\n",
    "evaluate_model(rf_model, 'RF', test_features, test_labels)"
   ]
  },
  {
   "cell_type": "markdown",
   "metadata": {},
   "source": [
    "We saw 3 models applied on our dataset on a bid to increase the accuracy. The scoring is as follows:\n",
    "\n",
    "1. SVM: **98.25%**\n",
    "2. Logistic Regression: **97.37%**\n",
    "3. Random Forests: **95.61%**\n",
    "\n",
    "The referenced [paper](https://www.sciencedirect.com/science/article/pii/S1877050916302575) has these results:\n",
    "1. SVM: **97.13%**\n",
    "2. Naive Bayes: **95.99%**\n",
    "3. k-NN: **95.27%**\n",
    "4. Decision Trees: **95.13%**\n",
    "\n",
    "As can be seen our SVM model performs better than the papers and this can be probably credited to the kernel choice resulting from the hyperparameter tuning, as we saw in the last notebook (we use a linear instead of a rbf kernel). \n",
    "\n",
    "Moreover, the Logistic Regression model also performs better than the paper's SVM.\n",
    "\n",
    "Random Forests have a disappointing performance when compared to SVM.\n"
   ]
  }
 ],
 "metadata": {
  "kernelspec": {
   "display_name": "Python 3",
   "language": "python",
   "name": "python3"
  },
  "language_info": {
   "codemirror_mode": {
    "name": "ipython",
    "version": 3
   },
   "file_extension": ".py",
   "mimetype": "text/x-python",
   "name": "python",
   "nbconvert_exporter": "python",
   "pygments_lexer": "ipython3",
   "version": "3.7.3"
  }
 },
 "nbformat": 4,
 "nbformat_minor": 4
}
