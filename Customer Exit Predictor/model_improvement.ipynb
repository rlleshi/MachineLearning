{
 "cells": [
  {
   "cell_type": "markdown",
   "metadata": {},
   "source": [
    "# Improving the model: Hyperparameter tuning with [Talos](https://autonomio.github.io/docs_talos/#scan)"
   ]
  },
  {
   "cell_type": "code",
   "execution_count": 192,
   "metadata": {},
   "outputs": [
    {
     "data": {
      "text/plain": [
       "'2.0.0'"
      ]
     },
     "execution_count": 192,
     "metadata": {},
     "output_type": "execute_result"
    }
   ],
   "source": [
    "import pandas as pd\n",
    "import numpy as np\n",
    "import matplotlib.pyplot as plt\n",
    "import seaborn as sns\n",
    "import os\n",
    "\n",
    "from collections import Counter\n",
    "\n",
    "from sklearn.model_selection import train_test_split\n",
    "from sklearn.preprocessing import StandardScaler\n",
    "from sklearn.metrics import accuracy_score\n",
    "\n",
    "import tensorflow as tf\n",
    "from tensorflow.keras.models import Sequential\n",
    "from tensorflow.keras.layers import Dropout, Dense\n",
    "from tensorflow.keras.losses import LogCosh, BinaryCrossentropy\n",
    "from tensorflow.keras.activations import relu, elu, sigmoid\n",
    "from tensorflow.keras.optimizers import SGD, Adam, Nadam, RMSprop\n",
    "\n",
    "import talos\n",
    "from talos.model.normalizers import lr_normalizer\n",
    "from talos.utils.load_model import load_model\n",
    "\n",
    "sns.set()\n",
    "tf.__version__"
   ]
  },
  {
   "cell_type": "code",
   "execution_count": 2,
   "metadata": {},
   "outputs": [
    {
     "data": {
      "text/html": [
       "<div>\n",
       "<style scoped>\n",
       "    .dataframe tbody tr th:only-of-type {\n",
       "        vertical-align: middle;\n",
       "    }\n",
       "\n",
       "    .dataframe tbody tr th {\n",
       "        vertical-align: top;\n",
       "    }\n",
       "\n",
       "    .dataframe thead th {\n",
       "        text-align: right;\n",
       "    }\n",
       "</style>\n",
       "<table border=\"1\" class=\"dataframe\">\n",
       "  <thead>\n",
       "    <tr style=\"text-align: right;\">\n",
       "      <th></th>\n",
       "      <th>CreditScore</th>\n",
       "      <th>Age</th>\n",
       "      <th>Tenure</th>\n",
       "      <th>Balance</th>\n",
       "      <th>NumOfProducts</th>\n",
       "      <th>HasCrCard</th>\n",
       "      <th>IsActiveMember</th>\n",
       "      <th>EstimatedSalary</th>\n",
       "      <th>Geography_France</th>\n",
       "      <th>Geography_Germany</th>\n",
       "      <th>Geography_Spain</th>\n",
       "      <th>Gender_Female</th>\n",
       "      <th>Gender_Male</th>\n",
       "    </tr>\n",
       "  </thead>\n",
       "  <tbody>\n",
       "    <tr>\n",
       "      <th>0</th>\n",
       "      <td>619</td>\n",
       "      <td>42</td>\n",
       "      <td>2</td>\n",
       "      <td>0.00</td>\n",
       "      <td>1</td>\n",
       "      <td>1</td>\n",
       "      <td>1</td>\n",
       "      <td>101348.88</td>\n",
       "      <td>1</td>\n",
       "      <td>0</td>\n",
       "      <td>0</td>\n",
       "      <td>1</td>\n",
       "      <td>0</td>\n",
       "    </tr>\n",
       "    <tr>\n",
       "      <th>1</th>\n",
       "      <td>608</td>\n",
       "      <td>41</td>\n",
       "      <td>1</td>\n",
       "      <td>83807.86</td>\n",
       "      <td>1</td>\n",
       "      <td>0</td>\n",
       "      <td>1</td>\n",
       "      <td>112542.58</td>\n",
       "      <td>0</td>\n",
       "      <td>0</td>\n",
       "      <td>1</td>\n",
       "      <td>1</td>\n",
       "      <td>0</td>\n",
       "    </tr>\n",
       "  </tbody>\n",
       "</table>\n",
       "</div>"
      ],
      "text/plain": [
       "   CreditScore  Age  Tenure   Balance  NumOfProducts  HasCrCard  \\\n",
       "0          619   42       2      0.00              1          1   \n",
       "1          608   41       1  83807.86              1          0   \n",
       "\n",
       "   IsActiveMember  EstimatedSalary  Geography_France  Geography_Germany  \\\n",
       "0               1        101348.88                 1                  0   \n",
       "1               1        112542.58                 0                  0   \n",
       "\n",
       "   Geography_Spain  Gender_Female  Gender_Male  \n",
       "0                0              1            0  \n",
       "1                1              1            0  "
      ]
     },
     "execution_count": 2,
     "metadata": {},
     "output_type": "execute_result"
    }
   ],
   "source": [
    "data = pd.read_csv('dataset/exit_prediction.csv')\n",
    "data.drop(labels=['RowNumber', 'CustomerId', 'Surname'], axis=1, inplace=True)\n",
    "\n",
    "# label/features\n",
    "labels = data.pop('Exited')\n",
    "\n",
    "# one-hot encoding\n",
    "features = pd.get_dummies(data)\n",
    "features.head(2)"
   ]
  },
  {
   "cell_type": "markdown",
   "metadata": {},
   "source": [
    "### Train/Test split\n",
    "\n",
    "We will use 50% of the data for pure testing. The rest 50% we shall split into train/test."
   ]
  },
  {
   "cell_type": "code",
   "execution_count": 3,
   "metadata": {},
   "outputs": [],
   "source": [
    "train_features, pure_testing_features, train_labels, pure_testing_labels = train_test_split(features, labels,\n",
    "                                                                    test_size=0.5, random_state=1, stratify=labels)\n",
    "\n",
    "# Convert to numpy arrays and standardize\n",
    "train_labels = train_labels.values\n",
    "train_features = talos.utils.rescale_meanzero(train_features.values)"
   ]
  },
  {
   "cell_type": "markdown",
   "metadata": {},
   "source": [
    "### Some useful documentations\n",
    "\n",
    "1. **Talos**\n",
    "    - The [Scan](https://autonomio.github.io/docs_talos/#scan) method: All of the options affecting the experiment, except for the hyperparameters, are defined here\n",
    "    - [lr_optimizers](https://autonomio.github.io/docs_talos/#lr-normalizer): Allows one to define different learning rates for different kinds of optimizers\n",
    "    - One can utilize 3 kinds of optimization strategies with Talos\n",
    "        - Grid Search: by default Talos will try out every possible parameter specified. Not recommended ofc.\n",
    "        - Random Search: use *grid_downsample=0.01* to use 1% of the data for instance.\n",
    "        - [Probabilistic reduction](https://autonomio.github.io/docs_talos/#probabilistic-reduction): make a stop between the rounds, evaluate the worst performing parameter and then eliminate it from the remaining search space\n",
    "    \n",
    "    - Early Stopping: If gotten correctly (which is tricky) can dramatically improve run-time\n",
    "2. **Keras** Sequential model\n",
    "    - [Docs](https://keras.io/guides/sequential_model/)\n",
    "    - Appropriate for a plain stack of layers. A rather straightforward NN\n",
    "    - Each layer has exactly one input & output tensor\n",
    "3. Dense Layer\n",
    "    - [Docs](https://keras.io/api/layers/core_layers/dense/)\n",
    "    - [Docs](https://keras.io/api/layers/initializers/) on kernel initializers. Define the way to set the initial random weights of Keras layers.\n",
    "    - [Docs](https://keras.io/api/layers/activations/) on activation functions\n",
    "4. Dropout Layer\n",
    "    - [Docs](https://keras.io/api/layers/regularization_layers/dropout/)\n",
    "5. Loss Functions\n",
    "    - [Docs](https://keras.io/api/losses/)\n",
    "6. Optimizers\n",
    "    - [Docs](https://keras.io/api/optimizers/)\n",
    "7. compile\n",
    "    - [Docs](https://keras.io/api/models/model_training_apis/)\n",
    "8. fit\n",
    "    - [Docs](https://keras.io/api/models/model_training_apis/)"
   ]
  },
  {
   "cell_type": "code",
   "execution_count": 44,
   "metadata": {},
   "outputs": [
    {
     "data": {
      "text/plain": [
       "{1: 3.9091801669121256, 0: 1.0}"
      ]
     },
     "execution_count": 44,
     "metadata": {},
     "output_type": "execute_result"
    }
   ],
   "source": [
    "def get_class_weights(labels):\n",
    "    counter = Counter(labels)\n",
    "    majority = max(counter.values())\n",
    "    return {cls: float(majority/count) for cls, count in counter.items()}\n",
    "\n",
    "get_class_weights(labels)"
   ]
  },
  {
   "cell_type": "markdown",
   "metadata": {},
   "source": [
    "## First run of experiment"
   ]
  },
  {
   "cell_type": "code",
   "execution_count": 32,
   "metadata": {},
   "outputs": [
    {
     "name": "stdout",
     "output_type": "stream",
     "text": [
      "layer1_units : [20, 29, 38, 47, 56, 65, 74, 83, 92]\n",
      "layer2_units : [20, 25, 30, 35, 40, 45, 50, 55]\n",
      "layer3_units : [20, 23, 26, 29, 32, 35, 38]\n",
      "optimizer : [<class 'tensorflow.python.keras.optimizer_v2.adam.Adam'>, <class 'tensorflow.python.keras.optimizer_v2.nadam.Nadam'>, <class 'tensorflow.python.keras.optimizer_v2.rmsprop.RMSprop'>]\n",
      "lr : [0.1, 0.5, 1, 5]\n",
      "kernel_initializer : ['uniform', 'normal']\n",
      "use_bias : [True, False]\n",
      "activation1 : [<function relu at 0x0000019F2296F168>, <function elu at 0x0000019F21F2DAF8>]\n",
      "activation2 : [<function sigmoid at 0x0000019F2296F4C8>]\n",
      "dropout : [0.0, 0.08, 0.16, 0.24, 0.32, 0.4]\n",
      "losses : ['binary_crossentropy', 'logcosh']\n",
      "epochs : [100, 106, 112, 118, 124, 130, 136, 142, 148]\n",
      "batch_size : [30, 35, 40, 45, 50, 55, 60, 65]\n"
     ]
    }
   ],
   "source": [
    "# Over 1 Million different combinations\n",
    "params = {\n",
    "    'layer1_units': list(range(20,100,9)),\n",
    "    'layer2_units': list(range(20,60,5)),\n",
    "    'layer3_units': list(range(20,40,3)),\n",
    "    'optimizer': [Adam, Nadam, RMSprop],\n",
    "    'lr': [0.1, 0.5, 1, 5],\n",
    "    # kernel = weights\n",
    "    'kernel_initializer': ['uniform', 'normal'],\n",
    "    'use_bias': [True, False],\n",
    "    'activation1': [relu, elu],\n",
    "    'activation2': [sigmoid],\n",
    "    'dropout': list(np.linspace(0, 0.4, 6)),\n",
    "    # since this is a binary classification task\n",
    "    'losses': ['binary_crossentropy', 'logcosh'],\n",
    "    'epochs': list(range(100, 150, 6)),\n",
    "    'batch_size': list(range(30, 70, 5)),\n",
    "#     'class_weight': list(get_class_weights(train_labels).values()),\n",
    "}\n",
    "\n",
    "for k, v in params.items():\n",
    "    print(k,\":\",v)"
   ]
  },
  {
   "cell_type": "code",
   "execution_count": 33,
   "metadata": {},
   "outputs": [],
   "source": [
    "def customer_exit_model(x_train, y_train, x_val, y_val, params):\n",
    "    model = Sequential()\n",
    "    \n",
    "    model.add(Dense(params['layer1_units'], input_dim=x_train.shape[1], activation=params['activation1'],\n",
    "                   kernel_initializer=params['kernel_initializer']))\n",
    "    model.add(Dense(params['layer2_units'], input_dim=x_train.shape[1], activation=params['activation1'],\n",
    "                   kernel_initializer=params['kernel_initializer']))\n",
    "    model.add(Dense(params['layer3_units'], input_dim=x_train.shape[1], activation=params['activation1'],\n",
    "                   kernel_initializer=params['kernel_initializer']))\n",
    "    model.add(Dropout(params['dropout']))\n",
    "    model.add(Dense(1, activation=params['activation2'], kernel_initializer=params['kernel_initializer'], \n",
    "                                                                       use_bias=params['use_bias']))\n",
    "    \n",
    "    model.compile(loss=params['losses'], \n",
    "                  optimizer=params['optimizer'](lr_normalizer(params['lr'], params['optimizer'])),\n",
    "                  # For this dataset, using accuracy as a metric is basically ok\n",
    "                  metrics=['acc', talos.utils.metrics.f1score])\n",
    "\n",
    "    history = model.fit(x_train, y_train, \n",
    "                   validation_data=[x_val, y_val],\n",
    "                   batch_size=params['batch_size'],\n",
    "#                    callbacks=[talos.utils.live()],\n",
    "                   epochs=params['epochs'],\n",
    "                   verbose=0,\n",
    "                   shuffle=True,)\n",
    "\n",
    "    return history, model"
   ]
  },
  {
   "cell_type": "code",
   "execution_count": 34,
   "metadata": {},
   "outputs": [
    {
     "name": "stderr",
     "output_type": "stream",
     "text": [
      "100%|██████████| 2090/2090 [17:12:01<00:00, 29.63s/it]  \n"
     ]
    }
   ],
   "source": [
    "# run for 1435 combinations\n",
    "t = talos.Scan(x=train_features,\n",
    "               y=train_labels,\n",
    "               val_split=0.25,\n",
    "               model=customer_exit_model,\n",
    "               params=params,\n",
    "               experiment_name='Customer exit prediction',\n",
    "               fraction_limit = 0.00005,\n",
    "#                random_method='quantum',\n",
    "#                reduction_method='corelation',\n",
    "#                reduction_interval=10,\n",
    "#                reduction_window=20,\n",
    "#                reduction_threshold=0.6,\n",
    "#                reduction_metric='fmeasure',\n",
    "              )"
   ]
  },
  {
   "cell_type": "code",
   "execution_count": 54,
   "metadata": {},
   "outputs": [
    {
     "name": "stdout",
     "output_type": "stream",
     "text": [
      "Highest validation accuracy: 86.24\n",
      "Highest validation f1 score: 61.4\n",
      "Number of rounds it took to find the best model 667\n"
     ]
    }
   ],
   "source": [
    "experiment = talos.Reporting('experiments/experiment2.csv')\n",
    "print('Highest validation accuracy:', round(100*experiment.high('val_acc'),2))\n",
    "print('Highest validation f1 score:', round(100*experiment.high('val_f1score'), 2))\n",
    "print('Number of rounds it took to find the best model', experiment.rounds2high('val_acc'))"
   ]
  },
  {
   "cell_type": "code",
   "execution_count": 55,
   "metadata": {},
   "outputs": [
    {
     "name": "stdout",
     "output_type": "stream",
     "text": [
      "Highest validation accuracy: 88.24\n",
      "Highest validation accuracy: 98.27\n",
      "Highest validation f1 score: 61.38\n",
      "Number of rounds it took to find the best model 917\n"
     ]
    }
   ],
   "source": [
    "experiment = talos.Reporting('experiments/experiment1.csv')\n",
    "print('Highest validation accuracy:', round(100*experiment.high('val_acc'),2))\n",
    "print('Highest validation accuracy:', round(100*experiment.high('acc'),2))\n",
    "print('Highest validation f1 score:', round(100*experiment.high('val_f1score'), 2))\n",
    "print('Number of rounds it took to find the best model', experiment.rounds2high('val_acc'))"
   ]
  },
  {
   "cell_type": "markdown",
   "metadata": {},
   "source": [
    "Next, we can investigate the best parameters for some of the top experiments"
   ]
  },
  {
   "cell_type": "code",
   "execution_count": 56,
   "metadata": {},
   "outputs": [
    {
     "data": {
      "text/html": [
       "<div>\n",
       "<style scoped>\n",
       "    .dataframe tbody tr th:only-of-type {\n",
       "        vertical-align: middle;\n",
       "    }\n",
       "\n",
       "    .dataframe tbody tr th {\n",
       "        vertical-align: top;\n",
       "    }\n",
       "\n",
       "    .dataframe thead th {\n",
       "        text-align: right;\n",
       "    }\n",
       "</style>\n",
       "<table border=\"1\" class=\"dataframe\">\n",
       "  <thead>\n",
       "    <tr style=\"text-align: right;\">\n",
       "      <th></th>\n",
       "      <th>val_loss</th>\n",
       "      <th>losses</th>\n",
       "      <th>acc</th>\n",
       "      <th>val_f1score</th>\n",
       "      <th>layer2_units</th>\n",
       "      <th>epochs</th>\n",
       "      <th>activation1</th>\n",
       "      <th>kernel_initializer</th>\n",
       "      <th>f1score</th>\n",
       "      <th>loss</th>\n",
       "      <th>lr</th>\n",
       "      <th>use_bias</th>\n",
       "      <th>layer3_units</th>\n",
       "      <th>layer1_units</th>\n",
       "      <th>batch_size</th>\n",
       "      <th>dropout</th>\n",
       "      <th>optimizer</th>\n",
       "      <th>round_epochs</th>\n",
       "      <th>activation2</th>\n",
       "      <th>index_num</th>\n",
       "    </tr>\n",
       "  </thead>\n",
       "  <tbody>\n",
       "    <tr>\n",
       "      <th>1060</th>\n",
       "      <td>1.786015</td>\n",
       "      <td>binary_crossentropy</td>\n",
       "      <td>0.915467</td>\n",
       "      <td>0.476236</td>\n",
       "      <td>55</td>\n",
       "      <td>148</td>\n",
       "      <td>&lt;function relu at 0x00000121C8B0F0D8&gt;</td>\n",
       "      <td>normal</td>\n",
       "      <td>0.799910</td>\n",
       "      <td>0.160284</td>\n",
       "      <td>5.0</td>\n",
       "      <td>True</td>\n",
       "      <td>29</td>\n",
       "      <td>29</td>\n",
       "      <td>30</td>\n",
       "      <td>0.40</td>\n",
       "      <td>&lt;class 'tensorflow.python.keras.optimizer_v2.n...</td>\n",
       "      <td>148</td>\n",
       "      <td>&lt;function sigmoid at 0x00000121C8B0F438&gt;</td>\n",
       "      <td>0</td>\n",
       "    </tr>\n",
       "    <tr>\n",
       "      <th>13</th>\n",
       "      <td>1.321221</td>\n",
       "      <td>binary_crossentropy</td>\n",
       "      <td>0.950667</td>\n",
       "      <td>0.468462</td>\n",
       "      <td>40</td>\n",
       "      <td>118</td>\n",
       "      <td>&lt;function relu at 0x00000121C8B0F0D8&gt;</td>\n",
       "      <td>uniform</td>\n",
       "      <td>0.873441</td>\n",
       "      <td>0.112301</td>\n",
       "      <td>5.0</td>\n",
       "      <td>True</td>\n",
       "      <td>32</td>\n",
       "      <td>83</td>\n",
       "      <td>30</td>\n",
       "      <td>0.32</td>\n",
       "      <td>&lt;class 'tensorflow.python.keras.optimizer_v2.a...</td>\n",
       "      <td>118</td>\n",
       "      <td>&lt;function sigmoid at 0x00000121C8B0F438&gt;</td>\n",
       "      <td>1</td>\n",
       "    </tr>\n",
       "    <tr>\n",
       "      <th>96</th>\n",
       "      <td>1.221756</td>\n",
       "      <td>binary_crossentropy</td>\n",
       "      <td>0.951200</td>\n",
       "      <td>0.493296</td>\n",
       "      <td>30</td>\n",
       "      <td>106</td>\n",
       "      <td>&lt;function relu at 0x00000121C8B0F0D8&gt;</td>\n",
       "      <td>uniform</td>\n",
       "      <td>0.872842</td>\n",
       "      <td>0.121244</td>\n",
       "      <td>5.0</td>\n",
       "      <td>True</td>\n",
       "      <td>38</td>\n",
       "      <td>74</td>\n",
       "      <td>65</td>\n",
       "      <td>0.08</td>\n",
       "      <td>&lt;class 'tensorflow.python.keras.optimizer_v2.a...</td>\n",
       "      <td>106</td>\n",
       "      <td>&lt;function sigmoid at 0x00000121C8B0F438&gt;</td>\n",
       "      <td>2</td>\n",
       "    </tr>\n",
       "    <tr>\n",
       "      <th>1043</th>\n",
       "      <td>0.729375</td>\n",
       "      <td>binary_crossentropy</td>\n",
       "      <td>0.924533</td>\n",
       "      <td>0.520804</td>\n",
       "      <td>25</td>\n",
       "      <td>112</td>\n",
       "      <td>&lt;function relu at 0x00000121C8B0F0D8&gt;</td>\n",
       "      <td>normal</td>\n",
       "      <td>0.809554</td>\n",
       "      <td>0.173890</td>\n",
       "      <td>5.0</td>\n",
       "      <td>False</td>\n",
       "      <td>35</td>\n",
       "      <td>29</td>\n",
       "      <td>60</td>\n",
       "      <td>0.00</td>\n",
       "      <td>&lt;class 'tensorflow.python.keras.optimizer_v2.a...</td>\n",
       "      <td>112</td>\n",
       "      <td>&lt;function sigmoid at 0x00000121C8B0F438&gt;</td>\n",
       "      <td>3</td>\n",
       "    </tr>\n",
       "    <tr>\n",
       "      <th>1429</th>\n",
       "      <td>1.391584</td>\n",
       "      <td>binary_crossentropy</td>\n",
       "      <td>0.941600</td>\n",
       "      <td>0.494824</td>\n",
       "      <td>55</td>\n",
       "      <td>100</td>\n",
       "      <td>&lt;function relu at 0x00000121C8B0F0D8&gt;</td>\n",
       "      <td>uniform</td>\n",
       "      <td>0.852417</td>\n",
       "      <td>0.135374</td>\n",
       "      <td>5.0</td>\n",
       "      <td>True</td>\n",
       "      <td>26</td>\n",
       "      <td>47</td>\n",
       "      <td>45</td>\n",
       "      <td>0.16</td>\n",
       "      <td>&lt;class 'tensorflow.python.keras.optimizer_v2.n...</td>\n",
       "      <td>100</td>\n",
       "      <td>&lt;function sigmoid at 0x00000121C8B0F438&gt;</td>\n",
       "      <td>4</td>\n",
       "    </tr>\n",
       "    <tr>\n",
       "      <th>461</th>\n",
       "      <td>0.516192</td>\n",
       "      <td>binary_crossentropy</td>\n",
       "      <td>0.917600</td>\n",
       "      <td>0.508614</td>\n",
       "      <td>35</td>\n",
       "      <td>112</td>\n",
       "      <td>&lt;function relu at 0x00000121C8B0F0D8&gt;</td>\n",
       "      <td>normal</td>\n",
       "      <td>0.771965</td>\n",
       "      <td>0.221874</td>\n",
       "      <td>1.0</td>\n",
       "      <td>False</td>\n",
       "      <td>35</td>\n",
       "      <td>83</td>\n",
       "      <td>55</td>\n",
       "      <td>0.32</td>\n",
       "      <td>&lt;class 'tensorflow.python.keras.optimizer_v2.r...</td>\n",
       "      <td>112</td>\n",
       "      <td>&lt;function sigmoid at 0x00000121C8B0F438&gt;</td>\n",
       "      <td>5</td>\n",
       "    </tr>\n",
       "    <tr>\n",
       "      <th>1453</th>\n",
       "      <td>1.289885</td>\n",
       "      <td>binary_crossentropy</td>\n",
       "      <td>0.947200</td>\n",
       "      <td>0.523665</td>\n",
       "      <td>30</td>\n",
       "      <td>118</td>\n",
       "      <td>&lt;function relu at 0x00000121C8B0F0D8&gt;</td>\n",
       "      <td>normal</td>\n",
       "      <td>0.867873</td>\n",
       "      <td>0.146209</td>\n",
       "      <td>5.0</td>\n",
       "      <td>True</td>\n",
       "      <td>23</td>\n",
       "      <td>92</td>\n",
       "      <td>40</td>\n",
       "      <td>0.40</td>\n",
       "      <td>&lt;class 'tensorflow.python.keras.optimizer_v2.r...</td>\n",
       "      <td>118</td>\n",
       "      <td>&lt;function sigmoid at 0x00000121C8B0F438&gt;</td>\n",
       "      <td>6</td>\n",
       "    </tr>\n",
       "    <tr>\n",
       "      <th>726</th>\n",
       "      <td>1.161238</td>\n",
       "      <td>binary_crossentropy</td>\n",
       "      <td>0.942933</td>\n",
       "      <td>0.509553</td>\n",
       "      <td>35</td>\n",
       "      <td>100</td>\n",
       "      <td>&lt;function relu at 0x00000121C8B0F0D8&gt;</td>\n",
       "      <td>normal</td>\n",
       "      <td>0.856518</td>\n",
       "      <td>0.126491</td>\n",
       "      <td>5.0</td>\n",
       "      <td>True</td>\n",
       "      <td>35</td>\n",
       "      <td>83</td>\n",
       "      <td>60</td>\n",
       "      <td>0.32</td>\n",
       "      <td>&lt;class 'tensorflow.python.keras.optimizer_v2.n...</td>\n",
       "      <td>100</td>\n",
       "      <td>&lt;function sigmoid at 0x00000121C8B0F438&gt;</td>\n",
       "      <td>7</td>\n",
       "    </tr>\n",
       "    <tr>\n",
       "      <th>1309</th>\n",
       "      <td>0.936792</td>\n",
       "      <td>binary_crossentropy</td>\n",
       "      <td>0.949333</td>\n",
       "      <td>0.514481</td>\n",
       "      <td>45</td>\n",
       "      <td>112</td>\n",
       "      <td>&lt;function relu at 0x00000121C8B0F0D8&gt;</td>\n",
       "      <td>normal</td>\n",
       "      <td>0.873198</td>\n",
       "      <td>0.116074</td>\n",
       "      <td>1.0</td>\n",
       "      <td>True</td>\n",
       "      <td>20</td>\n",
       "      <td>56</td>\n",
       "      <td>60</td>\n",
       "      <td>0.08</td>\n",
       "      <td>&lt;class 'tensorflow.python.keras.optimizer_v2.n...</td>\n",
       "      <td>112</td>\n",
       "      <td>&lt;function sigmoid at 0x00000121C8B0F438&gt;</td>\n",
       "      <td>8</td>\n",
       "    </tr>\n",
       "    <tr>\n",
       "      <th>1464</th>\n",
       "      <td>1.541294</td>\n",
       "      <td>binary_crossentropy</td>\n",
       "      <td>0.977867</td>\n",
       "      <td>0.529991</td>\n",
       "      <td>35</td>\n",
       "      <td>148</td>\n",
       "      <td>&lt;function relu at 0x00000121C8B0F0D8&gt;</td>\n",
       "      <td>uniform</td>\n",
       "      <td>0.940708</td>\n",
       "      <td>0.057381</td>\n",
       "      <td>5.0</td>\n",
       "      <td>True</td>\n",
       "      <td>38</td>\n",
       "      <td>74</td>\n",
       "      <td>50</td>\n",
       "      <td>0.00</td>\n",
       "      <td>&lt;class 'tensorflow.python.keras.optimizer_v2.n...</td>\n",
       "      <td>148</td>\n",
       "      <td>&lt;function sigmoid at 0x00000121C8B0F438&gt;</td>\n",
       "      <td>9</td>\n",
       "    </tr>\n",
       "  </tbody>\n",
       "</table>\n",
       "</div>"
      ],
      "text/plain": [
       "      val_loss               losses       acc  val_f1score  layer2_units  \\\n",
       "1060  1.786015  binary_crossentropy  0.915467     0.476236            55   \n",
       "13    1.321221  binary_crossentropy  0.950667     0.468462            40   \n",
       "96    1.221756  binary_crossentropy  0.951200     0.493296            30   \n",
       "1043  0.729375  binary_crossentropy  0.924533     0.520804            25   \n",
       "1429  1.391584  binary_crossentropy  0.941600     0.494824            55   \n",
       "461   0.516192  binary_crossentropy  0.917600     0.508614            35   \n",
       "1453  1.289885  binary_crossentropy  0.947200     0.523665            30   \n",
       "726   1.161238  binary_crossentropy  0.942933     0.509553            35   \n",
       "1309  0.936792  binary_crossentropy  0.949333     0.514481            45   \n",
       "1464  1.541294  binary_crossentropy  0.977867     0.529991            35   \n",
       "\n",
       "      epochs                            activation1 kernel_initializer  \\\n",
       "1060     148  <function relu at 0x00000121C8B0F0D8>             normal   \n",
       "13       118  <function relu at 0x00000121C8B0F0D8>            uniform   \n",
       "96       106  <function relu at 0x00000121C8B0F0D8>            uniform   \n",
       "1043     112  <function relu at 0x00000121C8B0F0D8>             normal   \n",
       "1429     100  <function relu at 0x00000121C8B0F0D8>            uniform   \n",
       "461      112  <function relu at 0x00000121C8B0F0D8>             normal   \n",
       "1453     118  <function relu at 0x00000121C8B0F0D8>             normal   \n",
       "726      100  <function relu at 0x00000121C8B0F0D8>             normal   \n",
       "1309     112  <function relu at 0x00000121C8B0F0D8>             normal   \n",
       "1464     148  <function relu at 0x00000121C8B0F0D8>            uniform   \n",
       "\n",
       "       f1score      loss   lr  use_bias  layer3_units  layer1_units  \\\n",
       "1060  0.799910  0.160284  5.0      True            29            29   \n",
       "13    0.873441  0.112301  5.0      True            32            83   \n",
       "96    0.872842  0.121244  5.0      True            38            74   \n",
       "1043  0.809554  0.173890  5.0     False            35            29   \n",
       "1429  0.852417  0.135374  5.0      True            26            47   \n",
       "461   0.771965  0.221874  1.0     False            35            83   \n",
       "1453  0.867873  0.146209  5.0      True            23            92   \n",
       "726   0.856518  0.126491  5.0      True            35            83   \n",
       "1309  0.873198  0.116074  1.0      True            20            56   \n",
       "1464  0.940708  0.057381  5.0      True            38            74   \n",
       "\n",
       "      batch_size  dropout                                          optimizer  \\\n",
       "1060          30     0.40  <class 'tensorflow.python.keras.optimizer_v2.n...   \n",
       "13            30     0.32  <class 'tensorflow.python.keras.optimizer_v2.a...   \n",
       "96            65     0.08  <class 'tensorflow.python.keras.optimizer_v2.a...   \n",
       "1043          60     0.00  <class 'tensorflow.python.keras.optimizer_v2.a...   \n",
       "1429          45     0.16  <class 'tensorflow.python.keras.optimizer_v2.n...   \n",
       "461           55     0.32  <class 'tensorflow.python.keras.optimizer_v2.r...   \n",
       "1453          40     0.40  <class 'tensorflow.python.keras.optimizer_v2.r...   \n",
       "726           60     0.32  <class 'tensorflow.python.keras.optimizer_v2.n...   \n",
       "1309          60     0.08  <class 'tensorflow.python.keras.optimizer_v2.n...   \n",
       "1464          50     0.00  <class 'tensorflow.python.keras.optimizer_v2.n...   \n",
       "\n",
       "      round_epochs                               activation2  index_num  \n",
       "1060           148  <function sigmoid at 0x00000121C8B0F438>          0  \n",
       "13             118  <function sigmoid at 0x00000121C8B0F438>          1  \n",
       "96             106  <function sigmoid at 0x00000121C8B0F438>          2  \n",
       "1043           112  <function sigmoid at 0x00000121C8B0F438>          3  \n",
       "1429           100  <function sigmoid at 0x00000121C8B0F438>          4  \n",
       "461            112  <function sigmoid at 0x00000121C8B0F438>          5  \n",
       "1453           118  <function sigmoid at 0x00000121C8B0F438>          6  \n",
       "726            100  <function sigmoid at 0x00000121C8B0F438>          7  \n",
       "1309           112  <function sigmoid at 0x00000121C8B0F438>          8  \n",
       "1464           148  <function sigmoid at 0x00000121C8B0F438>          9  "
      ]
     },
     "execution_count": 56,
     "metadata": {},
     "output_type": "execute_result"
    }
   ],
   "source": [
    "experiment.best_params('val_acc', [], ascending=True)"
   ]
  },
  {
   "cell_type": "code",
   "execution_count": 57,
   "metadata": {},
   "outputs": [
    {
     "data": {
      "image/png": "[encoded data removed]",
      "text/plain": [
       "<Figure size 684x684 with 2 Axes>"
      ]
     },
     "metadata": {},
     "output_type": "display_data"
    }
   ],
   "source": [
    "experiment.plot_corr('val_acc', ['f1score', 'val_loss', 'val_f1score', 'acc', 'loss', 'optimizer', 'None', \n",
    "                        'activation1', 'activation2', 'kernel_initializer', 'losses', 'index_num', 'round_epochs'])"
   ]
  },
  {
   "cell_type": "markdown",
   "metadata": {},
   "source": [
    "KDE plots are used to visualize the Probability Density of a continuous variable. It depicts the probability density at different values of a continuous variable.\n",
    "\n",
    "With a two dimensional KDE plot we can visualize the probability distribution of a sample against multiple continuous attributes.\n",
    "\n",
    "- For instance, it becomes clear that a lower *lr* will be better for our model.\n",
    "- We can also lower dropout, though it doesn't seem to make a lot of difference."
   ]
  },
  {
   "cell_type": "code",
   "execution_count": 61,
   "metadata": {},
   "outputs": [
    {
     "data": {
      "image/png": "[encoded data removed]",
      "text/plain": [
       "<Figure size 432x432 with 3 Axes>"
      ]
     },
     "metadata": {},
     "output_type": "display_data"
    },
    {
     "data": {
      "image/png": "[encoded data removed]",
      "text/plain": [
       "<Figure size 432x432 with 3 Axes>"
      ]
     },
     "metadata": {},
     "output_type": "display_data"
    }
   ],
   "source": [
    "sns.jointplot(experiment.data['val_acc'], experiment.data['lr'], kind='kde', color='#FFAE42'); \n",
    "sns.jointplot(experiment.data['val_acc'], experiment.data['dropout'], kind='kde', color='#FFAE42'); plt.show()"
   ]
  },
  {
   "cell_type": "markdown",
   "metadata": {},
   "source": [
    "- We could also slightly increase the units of *layer 1* & *layer 2*"
   ]
  },
  {
   "cell_type": "code",
   "execution_count": 63,
   "metadata": {},
   "outputs": [
    {
     "data": {
      "image/png": "[encoded data removed]",
      "text/plain": [
       "<Figure size 432x432 with 3 Axes>"
      ]
     },
     "metadata": {},
     "output_type": "display_data"
    },
    {
     "data": {
      "image/png": "[encoded data removed]",
      "text/plain": [
       "<Figure size 432x432 with 3 Axes>"
      ]
     },
     "metadata": {},
     "output_type": "display_data"
    }
   ],
   "source": [
    "sns.jointplot(report.data['val_acc'], report.data['layer1_units'], kind='kde', color='#FFAE42')\n",
    "sns.jointplot(report.data['val_acc'], report.data['layer2_units'], kind='kde', color='#FFAE42'); plt.show()"
   ]
  },
  {
   "cell_type": "markdown",
   "metadata": {},
   "source": [
    "## Second run of experiment"
   ]
  },
  {
   "cell_type": "markdown",
   "metadata": {},
   "source": [
    "After examining the above results we can make appropriate changes to the hyperparameters and do another experiment.\n",
    "\n",
    "The following parameters, however might not really correspond with the above results as they are the work of many other experiments. You can find all the different experiments (major: *experiment*, minor: *report*) in the report folder."
   ]
  },
  {
   "cell_type": "code",
   "execution_count": 29,
   "metadata": {},
   "outputs": [
    {
     "data": {
      "text/plain": [
       "{'layer1_units': [50, 55, 60, 65, 70, 75, 80, 85, 90, 95, 100, 105, 110, 115],\n",
       " 'layer2_units': [25, 28, 31, 34, 37, 40, 43, 46, 49],\n",
       " 'layer3_units': [25, 28, 31, 34, 37, 40, 43],\n",
       " 'optimizer': [tensorflow.python.keras.optimizer_v2.adam.Adam,\n",
       "  tensorflow.python.keras.optimizer_v2.rmsprop.RMSprop],\n",
       " 'lr': [0.18, 0.19, 0.2, 0.215, 0.23, 0.25, 0.27],\n",
       " 'kernel_initializer': ['normal'],\n",
       " 'use_bias': [True],\n",
       " 'activation1': ['relu'],\n",
       " 'activation2': ['sigmoid'],\n",
       " 'dropout': [0.0, 0.06, 0.12, 0.18, 0.24, 0.3],\n",
       " 'losses': ['binary_crossentropy'],\n",
       " 'epochs': [100, 105, 110],\n",
       " 'batch_size': [35, 40, 45, 50, 55, 60, 65, 70, 75, 80]}"
      ]
     },
     "execution_count": 29,
     "metadata": {},
     "output_type": "execute_result"
    }
   ],
   "source": [
    "params2 = {\n",
    "    'layer1_units': list(range(50,120,5)),\n",
    "    'layer2_units': list(range(25,50,3)),\n",
    "    'layer3_units': list(range(25,45,3)),\n",
    "    'optimizer': [Adam, RMSprop],\n",
    "    'lr': [0.18, 0.19, 0.2, 0.215, 0.23, 0.25, 0.27],\n",
    "    'kernel_initializer': ['normal'],\n",
    "    'use_bias': [True],\n",
    "    'activation1': ['relu'],\n",
    "    'activation2': ['sigmoid'],\n",
    "    'dropout': list(np.linspace(0, 0.3, 6)),\n",
    "    'losses': ['binary_crossentropy'],\n",
    "    'epochs': list(range(100, 115, 5)),\n",
    "    'batch_size': list(range(35, 85, 5)),\n",
    "}\n",
    "params2"
   ]
  },
  {
   "cell_type": "code",
   "execution_count": 30,
   "metadata": {},
   "outputs": [],
   "source": [
    "def customer_exit_model2(x_train, y_train, x_val, y_val, params):\n",
    "    model = Sequential()\n",
    "    \n",
    "    model.add(Dense(params['layer1_units'], input_dim=x_train.shape[1], activation=params['activation1'],\n",
    "                   kernel_initializer=params['kernel_initializer']))\n",
    "    model.add(Dense(params['layer2_units'], input_dim=x_train.shape[1], activation=params['activation1'],\n",
    "                   kernel_initializer=params['kernel_initializer']))\n",
    "    model.add(Dense(params['layer3_units'], input_dim=x_train.shape[1], activation=params['activation1'],\n",
    "                   kernel_initializer=params['kernel_initializer']))\n",
    "    model.add(Dropout(params['dropout']))\n",
    "    model.add(Dense(1, activation=params['activation2'], kernel_initializer=params['kernel_initializer'], \n",
    "                                                                       use_bias=params['use_bias']))\n",
    "    \n",
    "    model.compile(loss=params['losses'], \n",
    "                  optimizer=params['optimizer'](lr_normalizer(params['lr'], params['optimizer'])),\n",
    "                  # For this dataset, using accuracy as a metric is basically ok\n",
    "                  metrics=['acc', talos.utils.metrics.f1score])\n",
    "\n",
    "    history = model.fit(x_train, y_train, \n",
    "                   validation_data=[x_val, y_val],\n",
    "                   batch_size=params['batch_size'],\n",
    "                   epochs=params['epochs'],\n",
    "                   verbose=0,\n",
    "                   shuffle=True,)\n",
    "\n",
    "    return history, model"
   ]
  },
  {
   "cell_type": "code",
   "execution_count": 31,
   "metadata": {},
   "outputs": [
    {
     "name": "stderr",
     "output_type": "stream",
     "text": [
      "100%|██████████| 444/444 [2:45:11<00:00, 22.32s/it]  \n"
     ]
    }
   ],
   "source": [
    "t = talos.Scan(x=train_features,\n",
    "               y=train_labels,\n",
    "               val_split=0.25,\n",
    "               model=customer_exit_model2,\n",
    "               params=params2,\n",
    "               experiment_name='Customer exit prediction',\n",
    "               fraction_limit = 0.0002,\n",
    "#                random_method='quantum',\n",
    "#                reduction_method='corelation',\n",
    "#                reduction_interval=10,\n",
    "#                reduction_window=20,\n",
    "#                reduction_threshold=0.6,\n",
    "#                reduction_metric='fmeasure',\n",
    "              )"
   ]
  },
  {
   "cell_type": "markdown",
   "metadata": {},
   "source": [
    "reports are simply lighter experiments, in that they run for less epochs.\n",
    "\n",
    "I did about 19 smaller ones without managing to suprass the *88.24%* accuracy of the first experiment."
   ]
  },
  {
   "cell_type": "code",
   "execution_count": 76,
   "metadata": {},
   "outputs": [
    {
     "name": "stdout",
     "output_type": "stream",
     "text": [
      "Highest validation accuracy achieved by the lighter experiments: 87.52\n",
      "Average validation accuracy: 86.24 \n",
      "\n",
      "Highest validation f1 score: 64.53\n",
      "Average validation accuracy: 59.96 \n",
      "\n",
      "Average round of experiments to achieve highest accuracy: 126.0\n"
     ]
    }
   ],
   "source": [
    "PATH = 'experiments/reports/'\n",
    "val_accs = []\n",
    "val_f1scores = []\n",
    "rounds_to_high = []\n",
    "\n",
    "for filename in os.listdir(PATH):\n",
    "    report = talos.Reporting(PATH + filename)\n",
    "    val_accs.append(round(100*report.high('val_acc'), 2))\n",
    "    val_f1scores.append(round(100*report.high('val_f1score'), 2))\n",
    "    rounds_to_high.append(report2.rounds2high('val_acc'))\n",
    "    \n",
    "print('Highest validation accuracy achieved by the lighter experiments:', max(val_accs))\n",
    "print('Average validation accuracy:', round(np.mean(val_accs), 2), '\\n')\n",
    "print('Highest validation f1 score:', max(val_f1scores))\n",
    "print('Average validation accuracy:', round(np.mean(val_f1scores), 2), '\\n')\n",
    "print('Average round of experiments to achieve highest accuracy:', np.mean(rounds_to_high))"
   ]
  },
  {
   "cell_type": "markdown",
   "metadata": {},
   "source": [
    "Highest accuracy model"
   ]
  },
  {
   "cell_type": "code",
   "execution_count": 84,
   "metadata": {},
   "outputs": [
    {
     "data": {
      "text/html": [
       "<div>\n",
       "<style scoped>\n",
       "    .dataframe tbody tr th:only-of-type {\n",
       "        vertical-align: middle;\n",
       "    }\n",
       "\n",
       "    .dataframe tbody tr th {\n",
       "        vertical-align: top;\n",
       "    }\n",
       "\n",
       "    .dataframe thead th {\n",
       "        text-align: right;\n",
       "    }\n",
       "</style>\n",
       "<table border=\"1\" class=\"dataframe\">\n",
       "  <thead>\n",
       "    <tr style=\"text-align: right;\">\n",
       "      <th></th>\n",
       "      <th>val_loss</th>\n",
       "      <th>losses</th>\n",
       "      <th>acc</th>\n",
       "      <th>val_f1score</th>\n",
       "      <th>layer2_units</th>\n",
       "      <th>epochs</th>\n",
       "      <th>activation1</th>\n",
       "      <th>kernel_initializer</th>\n",
       "      <th>f1score</th>\n",
       "      <th>loss</th>\n",
       "      <th>lr</th>\n",
       "      <th>use_bias</th>\n",
       "      <th>layer3_units</th>\n",
       "      <th>layer1_units</th>\n",
       "      <th>batch_size</th>\n",
       "      <th>dropout</th>\n",
       "      <th>optimizer</th>\n",
       "      <th>round_epochs</th>\n",
       "      <th>activation2</th>\n",
       "      <th>index_num</th>\n",
       "    </tr>\n",
       "  </thead>\n",
       "  <tbody>\n",
       "    <tr>\n",
       "      <th>216</th>\n",
       "      <td>0.409253</td>\n",
       "      <td>binary_crossentropy</td>\n",
       "      <td>0.836000</td>\n",
       "      <td>0.347214</td>\n",
       "      <td>18</td>\n",
       "      <td>100</td>\n",
       "      <td>relu</td>\n",
       "      <td>normal</td>\n",
       "      <td>0.349385</td>\n",
       "      <td>0.408744</td>\n",
       "      <td>0.20</td>\n",
       "      <td>True</td>\n",
       "      <td>29</td>\n",
       "      <td>20</td>\n",
       "      <td>60</td>\n",
       "      <td>0.125</td>\n",
       "      <td>&lt;class 'tensorflow.python.keras.optimizer_v2.a...</td>\n",
       "      <td>100</td>\n",
       "      <td>sigmoid</td>\n",
       "      <td>0</td>\n",
       "    </tr>\n",
       "    <tr>\n",
       "      <th>219</th>\n",
       "      <td>0.394937</td>\n",
       "      <td>binary_crossentropy</td>\n",
       "      <td>0.845600</td>\n",
       "      <td>0.464752</td>\n",
       "      <td>30</td>\n",
       "      <td>116</td>\n",
       "      <td>relu</td>\n",
       "      <td>normal</td>\n",
       "      <td>0.469762</td>\n",
       "      <td>0.382217</td>\n",
       "      <td>0.25</td>\n",
       "      <td>True</td>\n",
       "      <td>23</td>\n",
       "      <td>23</td>\n",
       "      <td>40</td>\n",
       "      <td>0.125</td>\n",
       "      <td>&lt;class 'tensorflow.python.keras.optimizer_v2.r...</td>\n",
       "      <td>116</td>\n",
       "      <td>sigmoid</td>\n",
       "      <td>1</td>\n",
       "    </tr>\n",
       "    <tr>\n",
       "      <th>100</th>\n",
       "      <td>0.388464</td>\n",
       "      <td>binary_crossentropy</td>\n",
       "      <td>0.853600</td>\n",
       "      <td>0.451093</td>\n",
       "      <td>15</td>\n",
       "      <td>108</td>\n",
       "      <td>relu</td>\n",
       "      <td>normal</td>\n",
       "      <td>0.513536</td>\n",
       "      <td>0.382332</td>\n",
       "      <td>0.25</td>\n",
       "      <td>True</td>\n",
       "      <td>26</td>\n",
       "      <td>32</td>\n",
       "      <td>40</td>\n",
       "      <td>0.500</td>\n",
       "      <td>&lt;class 'tensorflow.python.keras.optimizer_v2.a...</td>\n",
       "      <td>108</td>\n",
       "      <td>sigmoid</td>\n",
       "      <td>2</td>\n",
       "    </tr>\n",
       "    <tr>\n",
       "      <th>144</th>\n",
       "      <td>0.397105</td>\n",
       "      <td>binary_crossentropy</td>\n",
       "      <td>0.842133</td>\n",
       "      <td>0.442780</td>\n",
       "      <td>18</td>\n",
       "      <td>108</td>\n",
       "      <td>relu</td>\n",
       "      <td>normal</td>\n",
       "      <td>0.438191</td>\n",
       "      <td>0.393786</td>\n",
       "      <td>0.20</td>\n",
       "      <td>True</td>\n",
       "      <td>26</td>\n",
       "      <td>20</td>\n",
       "      <td>40</td>\n",
       "      <td>0.375</td>\n",
       "      <td>&lt;class 'tensorflow.python.keras.optimizer_v2.a...</td>\n",
       "      <td>108</td>\n",
       "      <td>sigmoid</td>\n",
       "      <td>3</td>\n",
       "    </tr>\n",
       "    <tr>\n",
       "      <th>125</th>\n",
       "      <td>0.398905</td>\n",
       "      <td>binary_crossentropy</td>\n",
       "      <td>0.843733</td>\n",
       "      <td>0.457213</td>\n",
       "      <td>15</td>\n",
       "      <td>104</td>\n",
       "      <td>relu</td>\n",
       "      <td>normal</td>\n",
       "      <td>0.463295</td>\n",
       "      <td>0.396356</td>\n",
       "      <td>0.20</td>\n",
       "      <td>True</td>\n",
       "      <td>26</td>\n",
       "      <td>23</td>\n",
       "      <td>65</td>\n",
       "      <td>0.375</td>\n",
       "      <td>&lt;class 'tensorflow.python.keras.optimizer_v2.a...</td>\n",
       "      <td>104</td>\n",
       "      <td>sigmoid</td>\n",
       "      <td>4</td>\n",
       "    </tr>\n",
       "    <tr>\n",
       "      <th>193</th>\n",
       "      <td>0.401886</td>\n",
       "      <td>binary_crossentropy</td>\n",
       "      <td>0.840533</td>\n",
       "      <td>0.428677</td>\n",
       "      <td>18</td>\n",
       "      <td>108</td>\n",
       "      <td>relu</td>\n",
       "      <td>normal</td>\n",
       "      <td>0.445958</td>\n",
       "      <td>0.404446</td>\n",
       "      <td>0.25</td>\n",
       "      <td>True</td>\n",
       "      <td>23</td>\n",
       "      <td>20</td>\n",
       "      <td>40</td>\n",
       "      <td>0.375</td>\n",
       "      <td>&lt;class 'tensorflow.python.keras.optimizer_v2.r...</td>\n",
       "      <td>108</td>\n",
       "      <td>sigmoid</td>\n",
       "      <td>5</td>\n",
       "    </tr>\n",
       "    <tr>\n",
       "      <th>28</th>\n",
       "      <td>0.382498</td>\n",
       "      <td>binary_crossentropy</td>\n",
       "      <td>0.844800</td>\n",
       "      <td>0.500311</td>\n",
       "      <td>18</td>\n",
       "      <td>124</td>\n",
       "      <td>relu</td>\n",
       "      <td>normal</td>\n",
       "      <td>0.494532</td>\n",
       "      <td>0.370104</td>\n",
       "      <td>0.25</td>\n",
       "      <td>True</td>\n",
       "      <td>23</td>\n",
       "      <td>29</td>\n",
       "      <td>40</td>\n",
       "      <td>0.250</td>\n",
       "      <td>&lt;class 'tensorflow.python.keras.optimizer_v2.r...</td>\n",
       "      <td>124</td>\n",
       "      <td>sigmoid</td>\n",
       "      <td>6</td>\n",
       "    </tr>\n",
       "    <tr>\n",
       "      <th>49</th>\n",
       "      <td>0.400970</td>\n",
       "      <td>binary_crossentropy</td>\n",
       "      <td>0.850133</td>\n",
       "      <td>0.452155</td>\n",
       "      <td>27</td>\n",
       "      <td>124</td>\n",
       "      <td>relu</td>\n",
       "      <td>normal</td>\n",
       "      <td>0.485547</td>\n",
       "      <td>0.382115</td>\n",
       "      <td>0.40</td>\n",
       "      <td>True</td>\n",
       "      <td>29</td>\n",
       "      <td>26</td>\n",
       "      <td>50</td>\n",
       "      <td>0.250</td>\n",
       "      <td>&lt;class 'tensorflow.python.keras.optimizer_v2.r...</td>\n",
       "      <td>124</td>\n",
       "      <td>sigmoid</td>\n",
       "      <td>7</td>\n",
       "    </tr>\n",
       "    <tr>\n",
       "      <th>170</th>\n",
       "      <td>0.399380</td>\n",
       "      <td>binary_crossentropy</td>\n",
       "      <td>0.841067</td>\n",
       "      <td>0.436891</td>\n",
       "      <td>18</td>\n",
       "      <td>116</td>\n",
       "      <td>relu</td>\n",
       "      <td>normal</td>\n",
       "      <td>0.439798</td>\n",
       "      <td>0.401613</td>\n",
       "      <td>0.30</td>\n",
       "      <td>True</td>\n",
       "      <td>23</td>\n",
       "      <td>23</td>\n",
       "      <td>40</td>\n",
       "      <td>0.500</td>\n",
       "      <td>&lt;class 'tensorflow.python.keras.optimizer_v2.r...</td>\n",
       "      <td>116</td>\n",
       "      <td>sigmoid</td>\n",
       "      <td>8</td>\n",
       "    </tr>\n",
       "    <tr>\n",
       "      <th>130</th>\n",
       "      <td>0.401692</td>\n",
       "      <td>binary_crossentropy</td>\n",
       "      <td>0.839733</td>\n",
       "      <td>0.452924</td>\n",
       "      <td>24</td>\n",
       "      <td>112</td>\n",
       "      <td>relu</td>\n",
       "      <td>normal</td>\n",
       "      <td>0.429273</td>\n",
       "      <td>0.404622</td>\n",
       "      <td>0.20</td>\n",
       "      <td>True</td>\n",
       "      <td>26</td>\n",
       "      <td>23</td>\n",
       "      <td>65</td>\n",
       "      <td>0.500</td>\n",
       "      <td>&lt;class 'tensorflow.python.keras.optimizer_v2.r...</td>\n",
       "      <td>112</td>\n",
       "      <td>sigmoid</td>\n",
       "      <td>9</td>\n",
       "    </tr>\n",
       "  </tbody>\n",
       "</table>\n",
       "</div>"
      ],
      "text/plain": [
       "     val_loss               losses       acc  val_f1score  layer2_units  \\\n",
       "216  0.409253  binary_crossentropy  0.836000     0.347214            18   \n",
       "219  0.394937  binary_crossentropy  0.845600     0.464752            30   \n",
       "100  0.388464  binary_crossentropy  0.853600     0.451093            15   \n",
       "144  0.397105  binary_crossentropy  0.842133     0.442780            18   \n",
       "125  0.398905  binary_crossentropy  0.843733     0.457213            15   \n",
       "193  0.401886  binary_crossentropy  0.840533     0.428677            18   \n",
       "28   0.382498  binary_crossentropy  0.844800     0.500311            18   \n",
       "49   0.400970  binary_crossentropy  0.850133     0.452155            27   \n",
       "170  0.399380  binary_crossentropy  0.841067     0.436891            18   \n",
       "130  0.401692  binary_crossentropy  0.839733     0.452924            24   \n",
       "\n",
       "     epochs activation1 kernel_initializer   f1score      loss    lr  \\\n",
       "216     100        relu             normal  0.349385  0.408744  0.20   \n",
       "219     116        relu             normal  0.469762  0.382217  0.25   \n",
       "100     108        relu             normal  0.513536  0.382332  0.25   \n",
       "144     108        relu             normal  0.438191  0.393786  0.20   \n",
       "125     104        relu             normal  0.463295  0.396356  0.20   \n",
       "193     108        relu             normal  0.445958  0.404446  0.25   \n",
       "28      124        relu             normal  0.494532  0.370104  0.25   \n",
       "49      124        relu             normal  0.485547  0.382115  0.40   \n",
       "170     116        relu             normal  0.439798  0.401613  0.30   \n",
       "130     112        relu             normal  0.429273  0.404622  0.20   \n",
       "\n",
       "     use_bias  layer3_units  layer1_units  batch_size  dropout  \\\n",
       "216      True            29            20          60    0.125   \n",
       "219      True            23            23          40    0.125   \n",
       "100      True            26            32          40    0.500   \n",
       "144      True            26            20          40    0.375   \n",
       "125      True            26            23          65    0.375   \n",
       "193      True            23            20          40    0.375   \n",
       "28       True            23            29          40    0.250   \n",
       "49       True            29            26          50    0.250   \n",
       "170      True            23            23          40    0.500   \n",
       "130      True            26            23          65    0.500   \n",
       "\n",
       "                                             optimizer  round_epochs  \\\n",
       "216  <class 'tensorflow.python.keras.optimizer_v2.a...           100   \n",
       "219  <class 'tensorflow.python.keras.optimizer_v2.r...           116   \n",
       "100  <class 'tensorflow.python.keras.optimizer_v2.a...           108   \n",
       "144  <class 'tensorflow.python.keras.optimizer_v2.a...           108   \n",
       "125  <class 'tensorflow.python.keras.optimizer_v2.a...           104   \n",
       "193  <class 'tensorflow.python.keras.optimizer_v2.r...           108   \n",
       "28   <class 'tensorflow.python.keras.optimizer_v2.r...           124   \n",
       "49   <class 'tensorflow.python.keras.optimizer_v2.r...           124   \n",
       "170  <class 'tensorflow.python.keras.optimizer_v2.r...           116   \n",
       "130  <class 'tensorflow.python.keras.optimizer_v2.r...           112   \n",
       "\n",
       "    activation2  index_num  \n",
       "216     sigmoid          0  \n",
       "219     sigmoid          1  \n",
       "100     sigmoid          2  \n",
       "144     sigmoid          3  \n",
       "125     sigmoid          4  \n",
       "193     sigmoid          5  \n",
       "28      sigmoid          6  \n",
       "49      sigmoid          7  \n",
       "170     sigmoid          8  \n",
       "130     sigmoid          9  "
      ]
     },
     "execution_count": 84,
     "metadata": {},
     "output_type": "execute_result"
    }
   ],
   "source": [
    "report = talos.Reporting(PATH + 'report1.csv')\n",
    "report.best_params('val_acc', [], 10, True)"
   ]
  },
  {
   "cell_type": "code",
   "execution_count": 86,
   "metadata": {},
   "outputs": [
    {
     "data": {
      "image/png": "[encoded data removed]",
      "text/plain": [
       "<Figure size 648x648 with 2 Axes>"
      ]
     },
     "metadata": {},
     "output_type": "display_data"
    }
   ],
   "source": [
    "report.plot_corr('val_acc', ['f1score', 'val_loss', 'val_f1score', 'acc', 'loss', 'optimizer', 'None', \n",
    "                        'activation1', 'activation2', 'kernel_initializer', 'losses', 'index_num', 'use_bias', 'round_epochs'])"
   ]
  },
  {
   "cell_type": "code",
   "execution_count": 89,
   "metadata": {},
   "outputs": [
    {
     "data": {
      "image/png": "[encoded data removed]",
      "text/plain": [
       "<Figure size 432x432 with 3 Axes>"
      ]
     },
     "metadata": {},
     "output_type": "display_data"
    }
   ],
   "source": [
    "sns.jointplot(report.data['batch_size'], report.data['val_acc'], kind='kde', color='#FFAE42'); plt.show()"
   ]
  },
  {
   "cell_type": "markdown",
   "metadata": {},
   "source": [
    "## Validation\n",
    "\n",
    "1. Talos [predict](https://autonomio.github.io/docs_talos/#predict): Used to make predictions on the models that are stored in a *Scan* object\n",
    "2. Talos [evaluate](https://autonomio.github.io/docs_talos/#evaluate): Evaluate models that are stored on the *Scan* object"
   ]
  },
  {
   "cell_type": "code",
   "execution_count": 209,
   "metadata": {},
   "outputs": [
    {
     "name": "stdout",
     "output_type": "stream",
     "text": [
      "(5000, 13)\n",
      "(5000,)\n"
     ]
    }
   ],
   "source": [
    "pure_testing_features = np.array(pure_testing_features)\n",
    "pure_testing_labels = np.array(pure_testing_labels)\n",
    "\n",
    "print(pure_testing_features.shape)\n",
    "print(pure_testing_labels.shape)"
   ]
  },
  {
   "cell_type": "markdown",
   "metadata": {},
   "source": [
    "### Prediction for the testing set"
   ]
  },
  {
   "cell_type": "code",
   "execution_count": 212,
   "metadata": {},
   "outputs": [
    {
     "name": "stdout",
     "output_type": "stream",
     "text": [
      "Accuracy on pure testing set: 0.7962\n"
     ]
    }
   ],
   "source": [
    "p = talos.Predict(t)\n",
    "predictions = p.predict(x=pure_testing_features, metric='val_acc', asc=True)\n",
    "print('Accuracy on pure testing set:',accuracy_score(pure_testing_labels, predictions))"
   ]
  },
  {
   "cell_type": "markdown",
   "metadata": {},
   "source": [
    "### Evaluate the testing set\n",
    "\n",
    "Evaluate based on the f1 score"
   ]
  },
  {
   "cell_type": "code",
   "execution_count": 213,
   "metadata": {},
   "outputs": [
    {
     "name": "stdout",
     "output_type": "stream",
     "text": [
      "mean : 0.34 \n",
      " std : 0.02\n"
     ]
    },
    {
     "data": {
      "text/plain": [
       "[0.3443708609271523,\n",
       " 0.3739837398373984,\n",
       " 0.3579638752052545,\n",
       " 0.3079526226734349,\n",
       " 0.330550918196995,\n",
       " 0.33333333333333337,\n",
       " 0.330550918196995,\n",
       " 0.3164983164983165,\n",
       " 0.36065573770491804,\n",
       " 0.3277591973244147]"
      ]
     },
     "execution_count": 213,
     "metadata": {},
     "output_type": "execute_result"
    }
   ],
   "source": [
    "ev = talos.Evaluate(t)\n",
    "ev.evaluate(x=pure_testing_features, y=pure_testing_labels, folds=10, metric='val_acc', shuffle=True,\n",
    "                                                                   task='binary', asc=False, print_out=True)"
   ]
  },
  {
   "cell_type": "markdown",
   "metadata": {},
   "source": [
    "## Deploy model"
   ]
  },
  {
   "cell_type": "code",
   "execution_count": 214,
   "metadata": {},
   "outputs": [
    {
     "name": "stdout",
     "output_type": "stream",
     "text": [
      "Deploy package experiment1 have been saved.\n"
     ]
    },
    {
     "data": {
      "text/plain": [
       "<talos.commands.deploy.Deploy at 0x19f3fd084c8>"
      ]
     },
     "execution_count": 214,
     "metadata": {},
     "output_type": "execute_result"
    }
   ],
   "source": [
    "talos.Deploy(t, 'experiment1', 'val_acc', True)"
   ]
  },
  {
   "cell_type": "markdown",
   "metadata": {},
   "source": [
    "Model can be reloaded and we can still do the same predictions"
   ]
  },
  {
   "cell_type": "code",
   "execution_count": 204,
   "metadata": {},
   "outputs": [],
   "source": [
    "mod = load_model('Deployed/experiment1/experiment1_model')"
   ]
  },
  {
   "cell_type": "code",
   "execution_count": 205,
   "metadata": {},
   "outputs": [
    {
     "name": "stdout",
     "output_type": "stream",
     "text": [
      "79.62\n"
     ]
    }
   ],
   "source": [
    "predictions = mod.predict(pure_testing_features)\n",
    "predictions = (predictions>0.5)\n",
    "print(round(100*accuracy_score(pure_testing_labels, predictions), 2))"
   ]
  }
 ],
 "metadata": {
  "kernelspec": {
   "display_name": "Python 3",
   "language": "python",
   "name": "python3"
  },
  "language_info": {
   "codemirror_mode": {
    "name": "ipython",
    "version": 3
   },
   "file_extension": ".py",
   "mimetype": "text/x-python",
   "name": "python",
   "nbconvert_exporter": "python",
   "pygments_lexer": "ipython3",
   "version": "3.7.7"
  }
 },
 "nbformat": 4,
 "nbformat_minor": 4
}
