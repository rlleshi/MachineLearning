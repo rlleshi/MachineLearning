{
 "cells": [
  {
   "cell_type": "markdown",
   "metadata": {},
   "source": [
    "# Improving the model: Hyperparameter tuning with [Talos](https://autonomio.github.io/docs_talos/#scan)\n",
    "\n",
    "Good article on hyperparameter optimization with Keras [here](https://towardsdatascience.com/hyperparameter-optimization-with-keras-b82e6364ca53)"
   ]
  },
  {
   "cell_type": "code",
   "execution_count": 1,
   "metadata": {},
   "outputs": [
    {
     "name": "stderr",
     "output_type": "stream",
     "text": [
      "Using TensorFlow backend.\n"
     ]
    },
    {
     "data": {
      "text/plain": [
       "'2.0.0'"
      ]
     },
     "execution_count": 1,
     "metadata": {},
     "output_type": "execute_result"
    }
   ],
   "source": [
    "import pandas as pd\n",
    "import numpy as np\n",
    "import matplotlib.pyplot as plt\n",
    "import seaborn as sns\n",
    "import os\n",
    "\n",
    "from collections import Counter\n",
    "\n",
    "from sklearn.model_selection import train_test_split\n",
    "from sklearn.preprocessing import StandardScaler\n",
    "from sklearn.metrics import accuracy_score\n",
    "\n",
    "import tensorflow as tf\n",
    "from tensorflow.keras.models import Sequential\n",
    "from tensorflow.keras.layers import Dropout, Dense\n",
    "from tensorflow.keras.losses import LogCosh, BinaryCrossentropy\n",
    "from tensorflow.keras.activations import relu, elu, sigmoid\n",
    "from tensorflow.keras.optimizers import SGD, Adam, Nadam, RMSprop\n",
    "\n",
    "import talos\n",
    "from talos.model.normalizers import lr_normalizer\n",
    "from talos.utils.load_model import load_model\n",
    "\n",
    "sns.set()\n",
    "tf.__version__"
   ]
  },
  {
   "cell_type": "code",
   "execution_count": 2,
   "metadata": {},
   "outputs": [
    {
     "data": {
      "text/html": [
       "<div>\n",
       "<style scoped>\n",
       "    .dataframe tbody tr th:only-of-type {\n",
       "        vertical-align: middle;\n",
       "    }\n",
       "\n",
       "    .dataframe tbody tr th {\n",
       "        vertical-align: top;\n",
       "    }\n",
       "\n",
       "    .dataframe thead th {\n",
       "        text-align: right;\n",
       "    }\n",
       "</style>\n",
       "<table border=\"1\" class=\"dataframe\">\n",
       "  <thead>\n",
       "    <tr style=\"text-align: right;\">\n",
       "      <th></th>\n",
       "      <th>CreditScore</th>\n",
       "      <th>Age</th>\n",
       "      <th>Tenure</th>\n",
       "      <th>Balance</th>\n",
       "      <th>NumOfProducts</th>\n",
       "      <th>HasCrCard</th>\n",
       "      <th>IsActiveMember</th>\n",
       "      <th>EstimatedSalary</th>\n",
       "      <th>Geography_France</th>\n",
       "      <th>Geography_Germany</th>\n",
       "      <th>Geography_Spain</th>\n",
       "      <th>Gender_Female</th>\n",
       "      <th>Gender_Male</th>\n",
       "    </tr>\n",
       "  </thead>\n",
       "  <tbody>\n",
       "    <tr>\n",
       "      <th>0</th>\n",
       "      <td>619</td>\n",
       "      <td>42</td>\n",
       "      <td>2</td>\n",
       "      <td>0.00</td>\n",
       "      <td>1</td>\n",
       "      <td>1</td>\n",
       "      <td>1</td>\n",
       "      <td>101348.88</td>\n",
       "      <td>1</td>\n",
       "      <td>0</td>\n",
       "      <td>0</td>\n",
       "      <td>1</td>\n",
       "      <td>0</td>\n",
       "    </tr>\n",
       "    <tr>\n",
       "      <th>1</th>\n",
       "      <td>608</td>\n",
       "      <td>41</td>\n",
       "      <td>1</td>\n",
       "      <td>83807.86</td>\n",
       "      <td>1</td>\n",
       "      <td>0</td>\n",
       "      <td>1</td>\n",
       "      <td>112542.58</td>\n",
       "      <td>0</td>\n",
       "      <td>0</td>\n",
       "      <td>1</td>\n",
       "      <td>1</td>\n",
       "      <td>0</td>\n",
       "    </tr>\n",
       "  </tbody>\n",
       "</table>\n",
       "</div>"
      ],
      "text/plain": [
       "   CreditScore  Age  Tenure   Balance  NumOfProducts  HasCrCard  \\\n",
       "0          619   42       2      0.00              1          1   \n",
       "1          608   41       1  83807.86              1          0   \n",
       "\n",
       "   IsActiveMember  EstimatedSalary  Geography_France  Geography_Germany  \\\n",
       "0               1        101348.88                 1                  0   \n",
       "1               1        112542.58                 0                  0   \n",
       "\n",
       "   Geography_Spain  Gender_Female  Gender_Male  \n",
       "0                0              1            0  \n",
       "1                1              1            0  "
      ]
     },
     "execution_count": 2,
     "metadata": {},
     "output_type": "execute_result"
    }
   ],
   "source": [
    "data = pd.read_csv('dataset/exit_prediction.csv')\n",
    "data.drop(labels=['RowNumber', 'CustomerId', 'Surname'], axis=1, inplace=True)\n",
    "\n",
    "# label/features\n",
    "labels = data.pop('Exited')\n",
    "\n",
    "# one-hot encoding\n",
    "features = pd.get_dummies(data)\n",
    "features.head(2)"
   ]
  },
  {
   "cell_type": "markdown",
   "metadata": {},
   "source": [
    "### Train/Test split\n",
    "\n",
    "We will use 50% of the data for pure testing(validation). The rest 50% we shall split into train/test."
   ]
  },
  {
   "cell_type": "code",
   "execution_count": 3,
   "metadata": {},
   "outputs": [],
   "source": [
    "train_features, pure_testing_features, train_labels, pure_testing_labels = train_test_split(features, labels,\n",
    "                                                                    test_size=0.5, random_state=1, stratify=labels)\n",
    "\n",
    "# Convert to numpy arrays and standardize\n",
    "train_labels = train_labels.values\n",
    "train_features = talos.utils.rescale_meanzero(train_features.values)"
   ]
  },
  {
   "cell_type": "markdown",
   "metadata": {},
   "source": [
    "### Some useful documentations\n",
    "\n",
    "1. **Talos**\n",
    "    - The [Scan](https://autonomio.github.io/docs_talos/#scan) method: All of the options affecting the experiment, except for the hyperparameters, are defined here\n",
    "    - [lr_optimizers](https://autonomio.github.io/docs_talos/#lr-normalizer): Allows one to define different learning rates for different kinds of optimizers\n",
    "    - One can utilize 3 kinds of optimization strategies with Talos\n",
    "        - Grid Search: by default Talos will try out every possible parameter specified. Not recommended ofc.\n",
    "        - Random Search: use *grid_downsample=0.01* to use 1% of the data for instance.\n",
    "        - [Probabilistic reduction](https://autonomio.github.io/docs_talos/#probabilistic-reduction): make a stop between the rounds, evaluate the worst performing parameter and then eliminate it from the remaining search space\n",
    "    \n",
    "    - Early Stopping: If gotten correctly (which is tricky) can dramatically improve run-time\n",
    "2. **Keras** Sequential model\n",
    "    - [Docs](https://keras.io/guides/sequential_model/)\n",
    "    - Appropriate for a plain stack of layers. A rather straightforward NN\n",
    "    - Each layer has exactly one input & output tensor\n",
    "3. Dense Layer\n",
    "    - [Docs](https://keras.io/api/layers/core_layers/dense/)\n",
    "    - [Docs](https://keras.io/api/layers/initializers/) on kernel initializers. Define the way to set the initial random weights of Keras layers.\n",
    "    - [Docs](https://keras.io/api/layers/activations/) on activation functions\n",
    "4. Dropout Layer\n",
    "    - [Docs](https://keras.io/api/layers/regularization_layers/dropout/)\n",
    "5. Loss Functions\n",
    "    - [Docs](https://keras.io/api/losses/)\n",
    "6. Optimizers\n",
    "    - [Docs](https://keras.io/api/optimizers/)\n",
    "7. compile\n",
    "    - [Docs](https://keras.io/api/models/model_training_apis/)\n",
    "8. fit\n",
    "    - [Docs](https://keras.io/api/models/model_training_apis/)"
   ]
  },
  {
   "cell_type": "code",
   "execution_count": 4,
   "metadata": {},
   "outputs": [
    {
     "data": {
      "text/plain": [
       "{1: 3.9091801669121256, 0: 1.0}"
      ]
     },
     "execution_count": 4,
     "metadata": {},
     "output_type": "execute_result"
    }
   ],
   "source": [
    "# Class weights might be handy to use in later hyperparameter optimizations as our classes\n",
    "# are imbalanced\n",
    "def get_class_weights(labels):\n",
    "    counter = Counter(labels)\n",
    "    majority = max(counter.values())\n",
    "    return {cls: float(majority/count) for cls, count in counter.items()}\n",
    "\n",
    "get_class_weights(labels)"
   ]
  },
  {
   "cell_type": "markdown",
   "metadata": {},
   "source": [
    "## First run of experiment"
   ]
  },
  {
   "cell_type": "code",
   "execution_count": 5,
   "metadata": {},
   "outputs": [
    {
     "name": "stdout",
     "output_type": "stream",
     "text": [
      "layer1_units : [20, 29, 38, 47, 56, 65, 74, 83, 92]\n",
      "layer2_units : [20, 25, 30, 35, 40, 45, 50, 55]\n",
      "layer3_units : [20, 23, 26, 29, 32, 35, 38]\n",
      "optimizer : [<class 'tensorflow.python.keras.optimizer_v2.adam.Adam'>, <class 'tensorflow.python.keras.optimizer_v2.nadam.Nadam'>, <class 'tensorflow.python.keras.optimizer_v2.rmsprop.RMSprop'>]\n",
      "lr : [0.1, 0.5, 1, 5]\n",
      "kernel_initializer : ['uniform', 'normal']\n",
      "use_bias : [True, False]\n",
      "activation1 : [<function relu at 0x000002D2E316E0D8>, <function elu at 0x000002D2E272CA68>]\n",
      "activation2 : [<function sigmoid at 0x000002D2E316E438>]\n",
      "dropout : [0.0, 0.08, 0.16, 0.24, 0.32, 0.4]\n",
      "losses : ['binary_crossentropy', 'logcosh']\n",
      "epochs : [100, 106, 112, 118, 124, 130, 136, 142, 148]\n",
      "batch_size : [30, 35, 40, 45, 50, 55, 60, 65]\n"
     ]
    }
   ],
   "source": [
    "# Over 1 Million different combinations\n",
    "params = {\n",
    "    'layer1_units': list(range(20,100,9)),\n",
    "    'layer2_units': list(range(20,60,5)),\n",
    "    'layer3_units': list(range(20,40,3)),\n",
    "    'optimizer': [Adam, Nadam, RMSprop],\n",
    "    'lr': [0.1, 0.5, 1, 5],\n",
    "    # kernel = weights\n",
    "    'kernel_initializer': ['uniform', 'normal'],\n",
    "    'use_bias': [True, False],\n",
    "    'activation1': [relu, elu],\n",
    "    'activation2': [sigmoid],\n",
    "    'dropout': list(np.linspace(0, 0.4, 6)),\n",
    "    # since this is a binary classification task\n",
    "    'losses': ['binary_crossentropy', 'logcosh'],\n",
    "    'epochs': list(range(100, 150, 6)),\n",
    "    'batch_size': list(range(30, 70, 5)),\n",
    "#     'class_weight': list(get_class_weights(train_labels).values()),\n",
    "}\n",
    "\n",
    "for k, v in params.items():\n",
    "    print(k,\":\",v)"
   ]
  },
  {
   "cell_type": "code",
   "execution_count": 6,
   "metadata": {},
   "outputs": [],
   "source": [
    "def customer_exit_model(x_train, y_train, x_val, y_val, params):\n",
    "    model = Sequential()\n",
    "    \n",
    "    model.add(Dense(params['layer1_units'], input_dim=x_train.shape[1], activation=params['activation1'],\n",
    "                   kernel_initializer=params['kernel_initializer']))\n",
    "    model.add(Dense(params['layer2_units'], input_dim=x_train.shape[1], activation=params['activation1'],\n",
    "                   kernel_initializer=params['kernel_initializer']))\n",
    "    model.add(Dense(params['layer3_units'], input_dim=x_train.shape[1], activation=params['activation1'],\n",
    "                   kernel_initializer=params['kernel_initializer']))\n",
    "    model.add(Dropout(params['dropout']))\n",
    "    model.add(Dense(1, activation=params['activation2'], kernel_initializer=params['kernel_initializer'], \n",
    "                                                                       use_bias=params['use_bias']))\n",
    "    \n",
    "    model.compile(loss=params['losses'], \n",
    "                  optimizer=params['optimizer'](lr_normalizer(params['lr'], params['optimizer'])),\n",
    "                  # For this dataset, using accuracy as a metric is basically ok\n",
    "                  metrics=['acc', talos.utils.metrics.f1score])\n",
    "\n",
    "    history = model.fit(x_train, y_train, \n",
    "                   validation_data=[x_val, y_val],\n",
    "                   batch_size=params['batch_size'],\n",
    "#                    callbacks=[talos.utils.live()],\n",
    "                   epochs=params['epochs'],\n",
    "                   verbose=0,\n",
    "                   shuffle=True,)\n",
    "\n",
    "    return history, model"
   ]
  },
  {
   "cell_type": "code",
   "execution_count": 34,
   "metadata": {},
   "outputs": [
    {
     "name": "stderr",
     "output_type": "stream",
     "text": [
      "100%|██████████| 2090/2090 [17:12:01<00:00, 29.63s/it]  \n"
     ]
    }
   ],
   "source": [
    "# run the experiment\n",
    "t = talos.Scan(x=train_features,\n",
    "               y=train_labels,\n",
    "               val_split=0.25,\n",
    "               model=customer_exit_model,\n",
    "               params=params,\n",
    "               experiment_name='Customer exit prediction',\n",
    "               fraction_limit = 0.00005,\n",
    "#                random_method='quantum',\n",
    "#                reduction_method='corelation',\n",
    "#                reduction_interval=10,\n",
    "#                reduction_window=20,\n",
    "#                reduction_threshold=0.6,\n",
    "#                reduction_metric='fmeasure',\n",
    "              )"
   ]
  },
  {
   "cell_type": "code",
   "execution_count": 7,
   "metadata": {},
   "outputs": [
    {
     "name": "stdout",
     "output_type": "stream",
     "text": [
      "Highest validation accuracy: 86.24\n",
      "Highest validation f1 score: 61.4\n",
      "Number of rounds it took to find the best model 667\n"
     ]
    }
   ],
   "source": [
    "experiment = talos.Reporting('experiments/experiment2.csv')\n",
    "print('Highest validation accuracy:', round(100*experiment.high('val_acc'),2))\n",
    "print('Highest validation f1 score:', round(100*experiment.high('val_f1score'), 2))\n",
    "print('Number of rounds it took to find the best model', experiment.rounds2high('val_acc'))"
   ]
  },
  {
   "cell_type": "code",
   "execution_count": 8,
   "metadata": {},
   "outputs": [
    {
     "name": "stdout",
     "output_type": "stream",
     "text": [
      "Highest validation accuracy: 88.24\n",
      "Highest validation accuracy: 98.27\n",
      "Highest validation f1 score: 61.38\n",
      "Number of rounds it took to find the best model 917\n"
     ]
    }
   ],
   "source": [
    "experiment = talos.Reporting('experiments/experiment1.csv')\n",
    "print('Highest validation accuracy:', round(100*experiment.high('val_acc'),2))\n",
    "print('Highest validation accuracy:', round(100*experiment.high('acc'),2))\n",
    "print('Highest validation f1 score:', round(100*experiment.high('val_f1score'), 2))\n",
    "print('Number of rounds it took to find the best model', experiment.rounds2high('val_acc'))"
   ]
  },
  {
   "cell_type": "markdown",
   "metadata": {},
   "source": [
    "Next, we can investigate the best parameters for some of the top experiments"
   ]
  },
  {
   "cell_type": "code",
   "execution_count": 9,
   "metadata": {},
   "outputs": [
    {
     "data": {
      "text/html": [
       "<div>\n",
       "<style scoped>\n",
       "    .dataframe tbody tr th:only-of-type {\n",
       "        vertical-align: middle;\n",
       "    }\n",
       "\n",
       "    .dataframe tbody tr th {\n",
       "        vertical-align: top;\n",
       "    }\n",
       "\n",
       "    .dataframe thead th {\n",
       "        text-align: right;\n",
       "    }\n",
       "</style>\n",
       "<table border=\"1\" class=\"dataframe\">\n",
       "  <thead>\n",
       "    <tr style=\"text-align: right;\">\n",
       "      <th></th>\n",
       "      <th>lr</th>\n",
       "      <th>val_f1score</th>\n",
       "      <th>epochs</th>\n",
       "      <th>loss</th>\n",
       "      <th>dropout</th>\n",
       "      <th>use_bias</th>\n",
       "      <th>losses</th>\n",
       "      <th>activation2</th>\n",
       "      <th>optimizer</th>\n",
       "      <th>round_epochs</th>\n",
       "      <th>kernel_initializer</th>\n",
       "      <th>val_loss</th>\n",
       "      <th>f1score</th>\n",
       "      <th>activation1</th>\n",
       "      <th>batch_size</th>\n",
       "      <th>layer3_units</th>\n",
       "      <th>acc</th>\n",
       "      <th>layer2_units</th>\n",
       "      <th>layer1_units</th>\n",
       "      <th>index_num</th>\n",
       "    </tr>\n",
       "  </thead>\n",
       "  <tbody>\n",
       "    <tr>\n",
       "      <th>1060</th>\n",
       "      <td>5.0</td>\n",
       "      <td>0.476236</td>\n",
       "      <td>148</td>\n",
       "      <td>0.160284</td>\n",
       "      <td>0.40</td>\n",
       "      <td>True</td>\n",
       "      <td>binary_crossentropy</td>\n",
       "      <td>&lt;function sigmoid at 0x00000121C8B0F438&gt;</td>\n",
       "      <td>&lt;class 'tensorflow.python.keras.optimizer_v2.n...</td>\n",
       "      <td>148</td>\n",
       "      <td>normal</td>\n",
       "      <td>1.786015</td>\n",
       "      <td>0.799910</td>\n",
       "      <td>&lt;function relu at 0x00000121C8B0F0D8&gt;</td>\n",
       "      <td>30</td>\n",
       "      <td>29</td>\n",
       "      <td>0.915467</td>\n",
       "      <td>55</td>\n",
       "      <td>29</td>\n",
       "      <td>0</td>\n",
       "    </tr>\n",
       "    <tr>\n",
       "      <th>13</th>\n",
       "      <td>5.0</td>\n",
       "      <td>0.468462</td>\n",
       "      <td>118</td>\n",
       "      <td>0.112301</td>\n",
       "      <td>0.32</td>\n",
       "      <td>True</td>\n",
       "      <td>binary_crossentropy</td>\n",
       "      <td>&lt;function sigmoid at 0x00000121C8B0F438&gt;</td>\n",
       "      <td>&lt;class 'tensorflow.python.keras.optimizer_v2.a...</td>\n",
       "      <td>118</td>\n",
       "      <td>uniform</td>\n",
       "      <td>1.321221</td>\n",
       "      <td>0.873441</td>\n",
       "      <td>&lt;function relu at 0x00000121C8B0F0D8&gt;</td>\n",
       "      <td>30</td>\n",
       "      <td>32</td>\n",
       "      <td>0.950667</td>\n",
       "      <td>40</td>\n",
       "      <td>83</td>\n",
       "      <td>1</td>\n",
       "    </tr>\n",
       "    <tr>\n",
       "      <th>96</th>\n",
       "      <td>5.0</td>\n",
       "      <td>0.493296</td>\n",
       "      <td>106</td>\n",
       "      <td>0.121244</td>\n",
       "      <td>0.08</td>\n",
       "      <td>True</td>\n",
       "      <td>binary_crossentropy</td>\n",
       "      <td>&lt;function sigmoid at 0x00000121C8B0F438&gt;</td>\n",
       "      <td>&lt;class 'tensorflow.python.keras.optimizer_v2.a...</td>\n",
       "      <td>106</td>\n",
       "      <td>uniform</td>\n",
       "      <td>1.221756</td>\n",
       "      <td>0.872842</td>\n",
       "      <td>&lt;function relu at 0x00000121C8B0F0D8&gt;</td>\n",
       "      <td>65</td>\n",
       "      <td>38</td>\n",
       "      <td>0.951200</td>\n",
       "      <td>30</td>\n",
       "      <td>74</td>\n",
       "      <td>2</td>\n",
       "    </tr>\n",
       "    <tr>\n",
       "      <th>1043</th>\n",
       "      <td>5.0</td>\n",
       "      <td>0.520804</td>\n",
       "      <td>112</td>\n",
       "      <td>0.173890</td>\n",
       "      <td>0.00</td>\n",
       "      <td>False</td>\n",
       "      <td>binary_crossentropy</td>\n",
       "      <td>&lt;function sigmoid at 0x00000121C8B0F438&gt;</td>\n",
       "      <td>&lt;class 'tensorflow.python.keras.optimizer_v2.a...</td>\n",
       "      <td>112</td>\n",
       "      <td>normal</td>\n",
       "      <td>0.729375</td>\n",
       "      <td>0.809554</td>\n",
       "      <td>&lt;function relu at 0x00000121C8B0F0D8&gt;</td>\n",
       "      <td>60</td>\n",
       "      <td>35</td>\n",
       "      <td>0.924533</td>\n",
       "      <td>25</td>\n",
       "      <td>29</td>\n",
       "      <td>3</td>\n",
       "    </tr>\n",
       "    <tr>\n",
       "      <th>1429</th>\n",
       "      <td>5.0</td>\n",
       "      <td>0.494824</td>\n",
       "      <td>100</td>\n",
       "      <td>0.135374</td>\n",
       "      <td>0.16</td>\n",
       "      <td>True</td>\n",
       "      <td>binary_crossentropy</td>\n",
       "      <td>&lt;function sigmoid at 0x00000121C8B0F438&gt;</td>\n",
       "      <td>&lt;class 'tensorflow.python.keras.optimizer_v2.n...</td>\n",
       "      <td>100</td>\n",
       "      <td>uniform</td>\n",
       "      <td>1.391584</td>\n",
       "      <td>0.852417</td>\n",
       "      <td>&lt;function relu at 0x00000121C8B0F0D8&gt;</td>\n",
       "      <td>45</td>\n",
       "      <td>26</td>\n",
       "      <td>0.941600</td>\n",
       "      <td>55</td>\n",
       "      <td>47</td>\n",
       "      <td>4</td>\n",
       "    </tr>\n",
       "    <tr>\n",
       "      <th>461</th>\n",
       "      <td>1.0</td>\n",
       "      <td>0.508614</td>\n",
       "      <td>112</td>\n",
       "      <td>0.221874</td>\n",
       "      <td>0.32</td>\n",
       "      <td>False</td>\n",
       "      <td>binary_crossentropy</td>\n",
       "      <td>&lt;function sigmoid at 0x00000121C8B0F438&gt;</td>\n",
       "      <td>&lt;class 'tensorflow.python.keras.optimizer_v2.r...</td>\n",
       "      <td>112</td>\n",
       "      <td>normal</td>\n",
       "      <td>0.516192</td>\n",
       "      <td>0.771965</td>\n",
       "      <td>&lt;function relu at 0x00000121C8B0F0D8&gt;</td>\n",
       "      <td>55</td>\n",
       "      <td>35</td>\n",
       "      <td>0.917600</td>\n",
       "      <td>35</td>\n",
       "      <td>83</td>\n",
       "      <td>5</td>\n",
       "    </tr>\n",
       "    <tr>\n",
       "      <th>1453</th>\n",
       "      <td>5.0</td>\n",
       "      <td>0.523665</td>\n",
       "      <td>118</td>\n",
       "      <td>0.146209</td>\n",
       "      <td>0.40</td>\n",
       "      <td>True</td>\n",
       "      <td>binary_crossentropy</td>\n",
       "      <td>&lt;function sigmoid at 0x00000121C8B0F438&gt;</td>\n",
       "      <td>&lt;class 'tensorflow.python.keras.optimizer_v2.r...</td>\n",
       "      <td>118</td>\n",
       "      <td>normal</td>\n",
       "      <td>1.289885</td>\n",
       "      <td>0.867873</td>\n",
       "      <td>&lt;function relu at 0x00000121C8B0F0D8&gt;</td>\n",
       "      <td>40</td>\n",
       "      <td>23</td>\n",
       "      <td>0.947200</td>\n",
       "      <td>30</td>\n",
       "      <td>92</td>\n",
       "      <td>6</td>\n",
       "    </tr>\n",
       "    <tr>\n",
       "      <th>726</th>\n",
       "      <td>5.0</td>\n",
       "      <td>0.509553</td>\n",
       "      <td>100</td>\n",
       "      <td>0.126491</td>\n",
       "      <td>0.32</td>\n",
       "      <td>True</td>\n",
       "      <td>binary_crossentropy</td>\n",
       "      <td>&lt;function sigmoid at 0x00000121C8B0F438&gt;</td>\n",
       "      <td>&lt;class 'tensorflow.python.keras.optimizer_v2.n...</td>\n",
       "      <td>100</td>\n",
       "      <td>normal</td>\n",
       "      <td>1.161238</td>\n",
       "      <td>0.856518</td>\n",
       "      <td>&lt;function relu at 0x00000121C8B0F0D8&gt;</td>\n",
       "      <td>60</td>\n",
       "      <td>35</td>\n",
       "      <td>0.942933</td>\n",
       "      <td>35</td>\n",
       "      <td>83</td>\n",
       "      <td>7</td>\n",
       "    </tr>\n",
       "    <tr>\n",
       "      <th>1309</th>\n",
       "      <td>1.0</td>\n",
       "      <td>0.514481</td>\n",
       "      <td>112</td>\n",
       "      <td>0.116074</td>\n",
       "      <td>0.08</td>\n",
       "      <td>True</td>\n",
       "      <td>binary_crossentropy</td>\n",
       "      <td>&lt;function sigmoid at 0x00000121C8B0F438&gt;</td>\n",
       "      <td>&lt;class 'tensorflow.python.keras.optimizer_v2.n...</td>\n",
       "      <td>112</td>\n",
       "      <td>normal</td>\n",
       "      <td>0.936792</td>\n",
       "      <td>0.873198</td>\n",
       "      <td>&lt;function relu at 0x00000121C8B0F0D8&gt;</td>\n",
       "      <td>60</td>\n",
       "      <td>20</td>\n",
       "      <td>0.949333</td>\n",
       "      <td>45</td>\n",
       "      <td>56</td>\n",
       "      <td>8</td>\n",
       "    </tr>\n",
       "    <tr>\n",
       "      <th>1464</th>\n",
       "      <td>5.0</td>\n",
       "      <td>0.529991</td>\n",
       "      <td>148</td>\n",
       "      <td>0.057381</td>\n",
       "      <td>0.00</td>\n",
       "      <td>True</td>\n",
       "      <td>binary_crossentropy</td>\n",
       "      <td>&lt;function sigmoid at 0x00000121C8B0F438&gt;</td>\n",
       "      <td>&lt;class 'tensorflow.python.keras.optimizer_v2.n...</td>\n",
       "      <td>148</td>\n",
       "      <td>uniform</td>\n",
       "      <td>1.541294</td>\n",
       "      <td>0.940708</td>\n",
       "      <td>&lt;function relu at 0x00000121C8B0F0D8&gt;</td>\n",
       "      <td>50</td>\n",
       "      <td>38</td>\n",
       "      <td>0.977867</td>\n",
       "      <td>35</td>\n",
       "      <td>74</td>\n",
       "      <td>9</td>\n",
       "    </tr>\n",
       "  </tbody>\n",
       "</table>\n",
       "</div>"
      ],
      "text/plain": [
       "       lr  val_f1score  epochs      loss  dropout  use_bias  \\\n",
       "1060  5.0     0.476236     148  0.160284     0.40      True   \n",
       "13    5.0     0.468462     118  0.112301     0.32      True   \n",
       "96    5.0     0.493296     106  0.121244     0.08      True   \n",
       "1043  5.0     0.520804     112  0.173890     0.00     False   \n",
       "1429  5.0     0.494824     100  0.135374     0.16      True   \n",
       "461   1.0     0.508614     112  0.221874     0.32     False   \n",
       "1453  5.0     0.523665     118  0.146209     0.40      True   \n",
       "726   5.0     0.509553     100  0.126491     0.32      True   \n",
       "1309  1.0     0.514481     112  0.116074     0.08      True   \n",
       "1464  5.0     0.529991     148  0.057381     0.00      True   \n",
       "\n",
       "                   losses                               activation2  \\\n",
       "1060  binary_crossentropy  <function sigmoid at 0x00000121C8B0F438>   \n",
       "13    binary_crossentropy  <function sigmoid at 0x00000121C8B0F438>   \n",
       "96    binary_crossentropy  <function sigmoid at 0x00000121C8B0F438>   \n",
       "1043  binary_crossentropy  <function sigmoid at 0x00000121C8B0F438>   \n",
       "1429  binary_crossentropy  <function sigmoid at 0x00000121C8B0F438>   \n",
       "461   binary_crossentropy  <function sigmoid at 0x00000121C8B0F438>   \n",
       "1453  binary_crossentropy  <function sigmoid at 0x00000121C8B0F438>   \n",
       "726   binary_crossentropy  <function sigmoid at 0x00000121C8B0F438>   \n",
       "1309  binary_crossentropy  <function sigmoid at 0x00000121C8B0F438>   \n",
       "1464  binary_crossentropy  <function sigmoid at 0x00000121C8B0F438>   \n",
       "\n",
       "                                              optimizer  round_epochs  \\\n",
       "1060  <class 'tensorflow.python.keras.optimizer_v2.n...           148   \n",
       "13    <class 'tensorflow.python.keras.optimizer_v2.a...           118   \n",
       "96    <class 'tensorflow.python.keras.optimizer_v2.a...           106   \n",
       "1043  <class 'tensorflow.python.keras.optimizer_v2.a...           112   \n",
       "1429  <class 'tensorflow.python.keras.optimizer_v2.n...           100   \n",
       "461   <class 'tensorflow.python.keras.optimizer_v2.r...           112   \n",
       "1453  <class 'tensorflow.python.keras.optimizer_v2.r...           118   \n",
       "726   <class 'tensorflow.python.keras.optimizer_v2.n...           100   \n",
       "1309  <class 'tensorflow.python.keras.optimizer_v2.n...           112   \n",
       "1464  <class 'tensorflow.python.keras.optimizer_v2.n...           148   \n",
       "\n",
       "     kernel_initializer  val_loss   f1score  \\\n",
       "1060             normal  1.786015  0.799910   \n",
       "13              uniform  1.321221  0.873441   \n",
       "96              uniform  1.221756  0.872842   \n",
       "1043             normal  0.729375  0.809554   \n",
       "1429            uniform  1.391584  0.852417   \n",
       "461              normal  0.516192  0.771965   \n",
       "1453             normal  1.289885  0.867873   \n",
       "726              normal  1.161238  0.856518   \n",
       "1309             normal  0.936792  0.873198   \n",
       "1464            uniform  1.541294  0.940708   \n",
       "\n",
       "                                activation1  batch_size  layer3_units  \\\n",
       "1060  <function relu at 0x00000121C8B0F0D8>          30            29   \n",
       "13    <function relu at 0x00000121C8B0F0D8>          30            32   \n",
       "96    <function relu at 0x00000121C8B0F0D8>          65            38   \n",
       "1043  <function relu at 0x00000121C8B0F0D8>          60            35   \n",
       "1429  <function relu at 0x00000121C8B0F0D8>          45            26   \n",
       "461   <function relu at 0x00000121C8B0F0D8>          55            35   \n",
       "1453  <function relu at 0x00000121C8B0F0D8>          40            23   \n",
       "726   <function relu at 0x00000121C8B0F0D8>          60            35   \n",
       "1309  <function relu at 0x00000121C8B0F0D8>          60            20   \n",
       "1464  <function relu at 0x00000121C8B0F0D8>          50            38   \n",
       "\n",
       "           acc  layer2_units  layer1_units  index_num  \n",
       "1060  0.915467            55            29          0  \n",
       "13    0.950667            40            83          1  \n",
       "96    0.951200            30            74          2  \n",
       "1043  0.924533            25            29          3  \n",
       "1429  0.941600            55            47          4  \n",
       "461   0.917600            35            83          5  \n",
       "1453  0.947200            30            92          6  \n",
       "726   0.942933            35            83          7  \n",
       "1309  0.949333            45            56          8  \n",
       "1464  0.977867            35            74          9  "
      ]
     },
     "execution_count": 9,
     "metadata": {},
     "output_type": "execute_result"
    }
   ],
   "source": [
    "experiment.best_params('val_acc', [], ascending=True)"
   ]
  },
  {
   "cell_type": "code",
   "execution_count": 10,
   "metadata": {},
   "outputs": [
    {
     "data": {
      "image/png": "[encoded data removed]",
      "text/plain": [
       "<Figure size 684x684 with 2 Axes>"
      ]
     },
     "metadata": {},
     "output_type": "display_data"
    }
   ],
   "source": [
    "experiment.plot_corr('val_acc', ['f1score', 'val_loss', 'val_f1score', 'acc', 'loss', 'optimizer', 'None', \n",
    "                        'activation1', 'activation2', 'kernel_initializer', 'losses', 'index_num', 'round_epochs'])"
   ]
  },
  {
   "cell_type": "markdown",
   "metadata": {},
   "source": [
    "KDE plots are used to visualize the Probability Density of a continuous variable. It depicts the probability density at different values of a continuous variable.\n",
    "\n",
    "With a two dimensional KDE plot we can visualize the probability distribution of a sample against multiple continuous attributes.\n",
    "\n",
    "- For instance, it becomes clear that a lower *lr* will be better for our model.\n",
    "- We can also lower dropout, though it doesn't seem to make a lot of difference."
   ]
  },
  {
   "cell_type": "code",
   "execution_count": 11,
   "metadata": {},
   "outputs": [
    {
     "data": {
      "image/png": "[encoded data removed]",
      "text/plain": [
       "<Figure size 432x432 with 3 Axes>"
      ]
     },
     "metadata": {},
     "output_type": "display_data"
    },
    {
     "data": {
      "image/png": "[encoded data removed]",
      "text/plain": [
       "<Figure size 432x432 with 3 Axes>"
      ]
     },
     "metadata": {},
     "output_type": "display_data"
    }
   ],
   "source": [
    "sns.jointplot(experiment.data['val_acc'], experiment.data['lr'], kind='kde', color='#FFAE42'); \n",
    "sns.jointplot(experiment.data['val_acc'], experiment.data['dropout'], kind='kde', color='#FFAE42'); plt.show()"
   ]
  },
  {
   "cell_type": "markdown",
   "metadata": {},
   "source": [
    "- We could also slightly increase the units of *layer 1* & *layer 2*"
   ]
  },
  {
   "cell_type": "code",
   "execution_count": 13,
   "metadata": {},
   "outputs": [
    {
     "data": {
      "image/png": "[encoded data removed]",
      "text/plain": [
       "<Figure size 432x432 with 3 Axes>"
      ]
     },
     "metadata": {},
     "output_type": "display_data"
    },
    {
     "data": {
      "image/png": "[encoded data removed]",
      "text/plain": [
       "<Figure size 432x432 with 3 Axes>"
      ]
     },
     "metadata": {},
     "output_type": "display_data"
    }
   ],
   "source": [
    "sns.jointplot(experiment.data['val_acc'], experiment.data['layer1_units'], kind='kde', color='#FFAE42')\n",
    "sns.jointplot(experiment.data['val_acc'], experiment.data['layer2_units'], kind='kde', color='#FFAE42'); plt.show()"
   ]
  },
  {
   "cell_type": "markdown",
   "metadata": {},
   "source": [
    "## Second run of experiment"
   ]
  },
  {
   "cell_type": "markdown",
   "metadata": {},
   "source": [
    "After examining the above results we can make appropriate changes to the hyperparameters and do another experiment.\n",
    "\n",
    "The following parameters, however might not really correspond with the above results as they are the work of many other experiments. You can find all the different experiments (major: *experiment*, minor: *report*) in the report folder."
   ]
  },
  {
   "cell_type": "code",
   "execution_count": 14,
   "metadata": {},
   "outputs": [
    {
     "data": {
      "text/plain": [
       "{'layer1_units': [50, 55, 60, 65, 70, 75, 80, 85, 90, 95, 100, 105, 110, 115],\n",
       " 'layer2_units': [25, 28, 31, 34, 37, 40, 43, 46, 49],\n",
       " 'layer3_units': [25, 28, 31, 34, 37, 40, 43],\n",
       " 'optimizer': [tensorflow.python.keras.optimizer_v2.adam.Adam,\n",
       "  tensorflow.python.keras.optimizer_v2.rmsprop.RMSprop],\n",
       " 'lr': [0.18, 0.19, 0.2, 0.215, 0.23, 0.25, 0.27],\n",
       " 'kernel_initializer': ['normal'],\n",
       " 'use_bias': [True],\n",
       " 'activation1': ['relu'],\n",
       " 'activation2': ['sigmoid'],\n",
       " 'dropout': [0.0, 0.06, 0.12, 0.18, 0.24, 0.3],\n",
       " 'losses': ['binary_crossentropy'],\n",
       " 'epochs': [100, 105, 110],\n",
       " 'batch_size': [35, 40, 45, 50, 55, 60, 65, 70, 75, 80]}"
      ]
     },
     "execution_count": 14,
     "metadata": {},
     "output_type": "execute_result"
    }
   ],
   "source": [
    "params2 = {\n",
    "    'layer1_units': list(range(50,120,5)),\n",
    "    'layer2_units': list(range(25,50,3)),\n",
    "    'layer3_units': list(range(25,45,3)),\n",
    "    'optimizer': [Adam, RMSprop],\n",
    "    'lr': [0.18, 0.19, 0.2, 0.215, 0.23, 0.25, 0.27],\n",
    "    'kernel_initializer': ['normal'],\n",
    "    'use_bias': [True],\n",
    "    'activation1': ['relu'],\n",
    "    'activation2': ['sigmoid'],\n",
    "    'dropout': list(np.linspace(0, 0.3, 6)),\n",
    "    'losses': ['binary_crossentropy'],\n",
    "    'epochs': list(range(100, 115, 5)),\n",
    "    'batch_size': list(range(35, 85, 5)),\n",
    "}\n",
    "params2"
   ]
  },
  {
   "cell_type": "code",
   "execution_count": 15,
   "metadata": {},
   "outputs": [],
   "source": [
    "def customer_exit_model2(x_train, y_train, x_val, y_val, params):\n",
    "    model = Sequential()\n",
    "    \n",
    "    model.add(Dense(params['layer1_units'], input_dim=x_train.shape[1], activation=params['activation1'],\n",
    "                   kernel_initializer=params['kernel_initializer']))\n",
    "    model.add(Dense(params['layer2_units'], input_dim=x_train.shape[1], activation=params['activation1'],\n",
    "                   kernel_initializer=params['kernel_initializer']))\n",
    "    model.add(Dense(params['layer3_units'], input_dim=x_train.shape[1], activation=params['activation1'],\n",
    "                   kernel_initializer=params['kernel_initializer']))\n",
    "    model.add(Dropout(params['dropout']))\n",
    "    model.add(Dense(1, activation=params['activation2'], kernel_initializer=params['kernel_initializer'], \n",
    "                                                                       use_bias=params['use_bias']))\n",
    "    \n",
    "    model.compile(loss=params['losses'], \n",
    "                  optimizer=params['optimizer'](lr_normalizer(params['lr'], params['optimizer'])),\n",
    "                  # For this dataset, using accuracy as a metric is basically ok\n",
    "                  metrics=['acc', talos.utils.metrics.f1score])\n",
    "\n",
    "    history = model.fit(x_train, y_train, \n",
    "                   validation_data=[x_val, y_val],\n",
    "                   batch_size=params['batch_size'],\n",
    "                   epochs=params['epochs'],\n",
    "                   verbose=0,\n",
    "                   shuffle=True,)\n",
    "\n",
    "    return history, model"
   ]
  },
  {
   "cell_type": "code",
   "execution_count": 48,
   "metadata": {},
   "outputs": [
    {
     "name": "stderr",
     "output_type": "stream",
     "text": [
      "\n",
      "  0%|          | 0/133 [00:00<?, ?it/s]\u001b[A\n",
      "  1%|          | 1/133 [00:18<41:03, 18.66s/it]\u001b[A\n",
      "  2%|▏         | 2/133 [00:51<50:11, 22.99s/it]\u001b[A\n",
      "  2%|▏         | 3/133 [01:15<50:31, 23.32s/it]\u001b[A\n",
      "  3%|▎         | 4/133 [01:34<46:58, 21.85s/it]\u001b[A\n",
      "  4%|▍         | 5/133 [02:08<54:44, 25.66s/it]\u001b[A\n",
      "  5%|▍         | 6/133 [02:28<50:15, 23.74s/it]\u001b[A\n",
      "  5%|▌         | 7/133 [02:43<44:41, 21.28s/it]\u001b[A\n",
      "  6%|▌         | 8/133 [03:11<48:29, 23.28s/it]\u001b[A\n",
      "  7%|▋         | 9/133 [03:52<58:55, 28.51s/it]\u001b[A\n",
      "  8%|▊         | 10/133 [04:10<51:59, 25.36s/it]\u001b[A\n",
      "  8%|▊         | 11/133 [04:29<47:46, 23.50s/it]\u001b[A\n",
      "  9%|▉         | 12/133 [04:44<42:01, 20.84s/it]\u001b[A\n",
      " 10%|▉         | 13/133 [05:02<40:14, 20.12s/it]\u001b[A\n",
      " 11%|█         | 14/133 [05:16<36:30, 18.41s/it]\u001b[A\n",
      " 11%|█▏        | 15/133 [05:36<36:52, 18.75s/it]\u001b[A\n",
      " 12%|█▏        | 16/133 [06:06<43:23, 22.25s/it]\u001b[A\n",
      " 13%|█▎        | 17/133 [06:23<39:53, 20.64s/it]\u001b[A\n",
      " 14%|█▎        | 18/133 [06:39<36:43, 19.16s/it]\u001b[A\n",
      " 14%|█▍        | 19/133 [06:55<34:31, 18.17s/it]\u001b[A\n",
      " 15%|█▌        | 20/133 [07:13<34:24, 18.27s/it]\u001b[A\n",
      " 16%|█▌        | 21/133 [07:29<32:33, 17.44s/it]\u001b[A\n",
      " 17%|█▋        | 22/133 [07:44<31:04, 16.79s/it]\u001b[A\n",
      " 17%|█▋        | 23/133 [08:13<37:34, 20.49s/it]\u001b[A\n",
      " 18%|█▊        | 24/133 [08:34<37:28, 20.63s/it]\u001b[A\n",
      " 19%|█▉        | 25/133 [08:48<33:33, 18.64s/it]\u001b[A\n",
      " 20%|█▉        | 26/133 [09:08<33:38, 18.87s/it]\u001b[A\n",
      " 20%|██        | 27/133 [09:27<33:49, 19.15s/it]\u001b[A\n",
      " 21%|██        | 28/133 [09:53<36:54, 21.09s/it]\u001b[A\n",
      " 22%|██▏       | 29/133 [10:16<37:16, 21.51s/it]\u001b[A\n",
      " 23%|██▎       | 30/133 [10:40<38:16, 22.29s/it]\u001b[A\n",
      " 23%|██▎       | 31/133 [11:05<39:29, 23.23s/it]\u001b[A\n",
      " 24%|██▍       | 32/133 [11:21<35:29, 21.08s/it]\u001b[A\n",
      " 25%|██▍       | 33/133 [11:51<39:23, 23.63s/it]\u001b[A\n",
      " 26%|██▌       | 34/133 [12:14<38:35, 23.39s/it]\u001b[A\n",
      " 26%|██▋       | 35/133 [12:34<36:46, 22.51s/it]\u001b[A\n",
      " 27%|██▋       | 36/133 [12:54<35:05, 21.70s/it]\u001b[A\n",
      " 28%|██▊       | 37/133 [13:11<32:23, 20.24s/it]\u001b[A\n",
      " 29%|██▊       | 38/133 [13:40<36:16, 22.91s/it]\u001b[A\n",
      " 29%|██▉       | 39/133 [14:00<34:30, 22.03s/it]\u001b[A\n",
      " 30%|███       | 40/133 [14:27<36:41, 23.68s/it]\u001b[A\n",
      " 31%|███       | 41/133 [14:53<37:03, 24.17s/it]\u001b[A\n",
      " 32%|███▏      | 42/133 [15:22<39:02, 25.74s/it]\u001b[A\n",
      " 32%|███▏      | 43/133 [15:49<39:10, 26.12s/it]\u001b[A\n",
      " 33%|███▎      | 44/133 [16:12<37:19, 25.16s/it]\u001b[A\n",
      " 34%|███▍      | 45/133 [16:39<37:53, 25.83s/it]\u001b[A\n",
      " 35%|███▍      | 46/133 [17:06<37:53, 26.13s/it]\u001b[A\n",
      " 35%|███▌      | 47/133 [17:38<39:52, 27.82s/it]\u001b[A\n",
      " 36%|███▌      | 48/133 [17:56<35:25, 25.01s/it]\u001b[A\n",
      " 37%|███▋      | 49/133 [18:15<32:19, 23.09s/it]\u001b[A\n",
      " 38%|███▊      | 50/133 [18:45<35:01, 25.32s/it]\u001b[A\n",
      " 38%|███▊      | 51/133 [19:03<31:12, 22.83s/it]\u001b[A\n",
      " 39%|███▉      | 52/133 [19:24<30:12, 22.38s/it]\u001b[A\n",
      " 40%|███▉      | 53/133 [19:45<29:28, 22.10s/it]\u001b[A\n",
      " 41%|████      | 54/133 [20:09<29:42, 22.57s/it]\u001b[A\n",
      " 41%|████▏     | 55/133 [20:29<28:25, 21.87s/it]\u001b[A\n",
      " 42%|████▏     | 56/133 [21:00<31:30, 24.55s/it]\u001b[A\n",
      " 43%|████▎     | 57/133 [21:24<30:50, 24.34s/it]\u001b[A\n",
      " 44%|████▎     | 58/133 [21:41<27:55, 22.33s/it]\u001b[A\n",
      " 44%|████▍     | 59/133 [21:56<24:34, 19.93s/it]\u001b[A\n",
      " 45%|████▌     | 60/133 [22:11<22:21, 18.38s/it]\u001b[A\n",
      " 46%|████▌     | 61/133 [22:29<22:14, 18.54s/it]\u001b[A\n",
      " 47%|████▋     | 62/133 [22:57<25:06, 21.22s/it]\u001b[A\n",
      " 47%|████▋     | 63/133 [23:30<28:48, 24.69s/it]\u001b[A\n",
      " 48%|████▊     | 64/133 [23:49<26:32, 23.08s/it]\u001b[A\n",
      " 49%|████▉     | 65/133 [24:06<23:54, 21.09s/it]\u001b[A\n",
      " 50%|████▉     | 66/133 [24:28<24:01, 21.51s/it]\u001b[A\n",
      " 50%|█████     | 67/133 [24:50<23:42, 21.55s/it]\u001b[A\n",
      " 51%|█████     | 68/133 [25:20<26:18, 24.29s/it]\u001b[A\n",
      " 52%|█████▏    | 69/133 [26:00<30:40, 28.76s/it]\u001b[A\n",
      " 53%|█████▎    | 70/133 [26:16<26:11, 24.94s/it]\u001b[A\n",
      " 53%|█████▎    | 71/133 [26:33<23:26, 22.68s/it]\u001b[A\n",
      " 54%|█████▍    | 72/133 [27:00<24:26, 24.04s/it]\u001b[A\n",
      " 55%|█████▍    | 73/133 [27:18<22:15, 22.26s/it]\u001b[A\n",
      " 56%|█████▌    | 74/133 [27:47<23:44, 24.14s/it]\u001b[A\n",
      " 56%|█████▋    | 75/133 [28:05<21:31, 22.27s/it]\u001b[A\n",
      " 57%|█████▋    | 76/133 [28:25<20:27, 21.54s/it]\u001b[A\n",
      " 58%|█████▊    | 77/133 [28:47<20:17, 21.74s/it]\u001b[A\n",
      " 59%|█████▊    | 78/133 [29:03<18:22, 20.04s/it]\u001b[A\n",
      " 59%|█████▉    | 79/133 [29:17<16:23, 18.21s/it]\u001b[A\n",
      " 60%|██████    | 80/133 [29:37<16:44, 18.95s/it]\u001b[A\n",
      " 61%|██████    | 81/133 [29:58<16:52, 19.48s/it]\u001b[A\n",
      " 62%|██████▏   | 82/133 [30:40<22:10, 26.08s/it]\u001b[A\n",
      " 62%|██████▏   | 83/133 [30:59<19:56, 23.92s/it]\u001b[A\n",
      " 63%|██████▎   | 84/133 [31:23<19:33, 23.95s/it]\u001b[A\n",
      " 64%|██████▍   | 85/133 [31:37<16:49, 21.03s/it]\u001b[A\n",
      " 65%|██████▍   | 86/133 [32:05<18:13, 23.27s/it]\u001b[A\n",
      " 65%|██████▌   | 87/133 [32:32<18:42, 24.39s/it]\u001b[A\n",
      " 66%|██████▌   | 88/133 [33:07<20:33, 27.42s/it]\u001b[A\n",
      " 67%|██████▋   | 89/133 [33:24<17:46, 24.25s/it]\u001b[A\n",
      " 68%|██████▊   | 90/133 [33:46<16:55, 23.61s/it]\u001b[A\n",
      " 68%|██████▊   | 91/133 [34:08<16:15, 23.24s/it]\u001b[A\n",
      " 69%|██████▉   | 92/133 [34:24<14:17, 20.92s/it]\u001b[A\n",
      " 70%|██████▉   | 93/133 [34:51<15:15, 22.88s/it]\u001b[A\n",
      " 71%|███████   | 94/133 [35:12<14:28, 22.27s/it]\u001b[A\n",
      " 71%|███████▏  | 95/133 [35:36<14:32, 22.97s/it]\u001b[A\n",
      " 72%|███████▏  | 96/133 [35:54<13:09, 21.34s/it]\u001b[A\n",
      " 73%|███████▎  | 97/133 [36:24<14:16, 23.78s/it]\u001b[A\n",
      " 74%|███████▎  | 98/133 [36:43<13:09, 22.55s/it]\u001b[A\n",
      " 74%|███████▍  | 99/133 [37:07<13:02, 23.03s/it]\u001b[A\n",
      " 75%|███████▌  | 100/133 [37:34<13:19, 24.24s/it]\u001b[A\n",
      " 76%|███████▌  | 101/133 [38:01<13:19, 24.97s/it]\u001b[A\n",
      " 77%|███████▋  | 102/133 [38:24<12:39, 24.49s/it]\u001b[A\n",
      " 77%|███████▋  | 103/133 [38:43<11:17, 22.57s/it]\u001b[A\n",
      " 78%|███████▊  | 104/133 [39:05<10:55, 22.61s/it]\u001b[A\n",
      " 79%|███████▉  | 105/133 [39:23<09:51, 21.11s/it]\u001b[A\n",
      " 80%|███████▉  | 106/133 [39:43<09:19, 20.73s/it]\u001b[A\n",
      " 80%|████████  | 107/133 [40:06<09:21, 21.59s/it]\u001b[A\n",
      " 81%|████████  | 108/133 [40:35<09:51, 23.67s/it]\u001b[A\n",
      " 82%|████████▏ | 109/133 [41:05<10:13, 25.58s/it]\u001b[A\n",
      " 83%|████████▎ | 110/133 [41:30<09:42, 25.35s/it]\u001b[A\n",
      " 83%|████████▎ | 111/133 [41:57<09:30, 25.91s/it]\u001b[A\n",
      " 84%|████████▍ | 112/133 [42:24<09:11, 26.27s/it]\u001b[A\n",
      " 85%|████████▍ | 113/133 [43:07<10:23, 31.19s/it]\u001b[A\n",
      " 86%|████████▌ | 114/133 [43:25<08:37, 27.25s/it]\u001b[A\n",
      " 86%|████████▋ | 115/133 [43:45<07:33, 25.19s/it]\u001b[A\n",
      " 87%|████████▋ | 116/133 [44:14<07:28, 26.36s/it]\u001b[A\n",
      " 88%|████████▊ | 117/133 [44:31<06:15, 23.44s/it]\u001b[A\n",
      " 89%|████████▊ | 118/133 [44:53<05:45, 23.02s/it]\u001b[A\n",
      " 89%|████████▉ | 119/133 [45:17<05:25, 23.22s/it]\u001b[A\n",
      " 90%|█████████ | 120/133 [45:34<04:39, 21.49s/it]\u001b[A\n",
      " 91%|█████████ | 121/133 [46:00<04:33, 22.75s/it]\u001b[A\n",
      " 92%|█████████▏| 122/133 [46:16<03:49, 20.89s/it]\u001b[A\n",
      " 92%|█████████▏| 123/133 [46:32<03:13, 19.37s/it]\u001b[A\n",
      " 93%|█████████▎| 124/133 [46:55<03:04, 20.54s/it]\u001b[A\n",
      " 94%|█████████▍| 125/133 [47:12<02:34, 19.36s/it]\u001b[A\n",
      " 95%|█████████▍| 126/133 [47:32<02:16, 19.48s/it]\u001b[A\n",
      " 95%|█████████▌| 127/133 [47:53<02:00, 20.15s/it]\u001b[A\n",
      " 96%|█████████▌| 128/133 [48:21<01:51, 22.25s/it]\u001b[A\n",
      " 97%|█████████▋| 129/133 [48:50<01:37, 24.44s/it]\u001b[A\n",
      " 98%|█████████▊| 130/133 [49:21<01:18, 26.29s/it]\u001b[A\n",
      " 98%|█████████▊| 131/133 [49:42<00:49, 24.73s/it]\u001b[A\n",
      " 99%|█████████▉| 132/133 [50:14<00:27, 27.10s/it]\u001b[A\n",
      "100%|██████████| 133/133 [50:37<00:00, 22.84s/it]\u001b[A\n"
     ]
    }
   ],
   "source": [
    "t = talos.Scan(x=train_features,\n",
    "               y=train_labels,\n",
    "               val_split=0.25,\n",
    "               model=customer_exit_model2,\n",
    "               params=params2,\n",
    "               experiment_name='Customer exit prediction',\n",
    "               fraction_limit = 0.00006,\n",
    "               random_method='quantum',\n",
    "               reduction_method='corelation',\n",
    "              )"
   ]
  },
  {
   "cell_type": "markdown",
   "metadata": {},
   "source": [
    "reports are simply lighter experiments, in that they run for less epochs.\n",
    "\n",
    "I did about 19 smaller ones without managing to suprass the *88.24%* accuracy of the first experiment."
   ]
  },
  {
   "cell_type": "code",
   "execution_count": 49,
   "metadata": {},
   "outputs": [
    {
     "name": "stdout",
     "output_type": "stream",
     "text": [
      "Highest validation accuracy achieved by the lighter experiments: 87.52\n",
      "Average validation accuracy: 86.3 \n",
      "\n",
      "Highest validation f1 score: 64.53\n",
      "Average validation accuracy: 59.96 \n",
      "\n",
      "Average round of experiments to achieve highest accuracy: 191.0\n"
     ]
    }
   ],
   "source": [
    "PATH = 'experiments/reports/'\n",
    "val_accs = []\n",
    "val_f1scores = []\n",
    "rounds_to_high = []\n",
    "\n",
    "for filename in os.listdir(PATH):\n",
    "    report = talos.Reporting(PATH + filename)\n",
    "    val_accs.append(round(100*report.high('val_acc'), 2))\n",
    "    val_f1scores.append(round(100*report.high('val_f1score'), 2))\n",
    "    rounds_to_high.append(report.rounds2high('val_acc'))\n",
    "    \n",
    "print('Highest validation accuracy achieved by the lighter experiments:', max(val_accs))\n",
    "print('Average validation accuracy:', round(np.mean(val_accs), 2), '\\n')\n",
    "print('Highest validation f1 score:', max(val_f1scores))\n",
    "print('Average validation accuracy:', round(np.mean(val_f1scores), 2), '\\n')\n",
    "print('Average round of experiments to achieve highest accuracy:', round(np.mean(rounds_to_high)))"
   ]
  },
  {
   "cell_type": "code",
   "execution_count": 57,
   "metadata": {},
   "outputs": [
    {
     "name": "stdout",
     "output_type": "stream",
     "text": [
      "0.8752\n"
     ]
    }
   ],
   "source": [
    "report = talos.Reporting(PATH + 'report20.csv')\n",
    "print(report.high('val_acc'))"
   ]
  },
  {
   "cell_type": "markdown",
   "metadata": {},
   "source": [
    "Highest accuracy model"
   ]
  },
  {
   "cell_type": "code",
   "execution_count": 22,
   "metadata": {},
   "outputs": [
    {
     "data": {
      "text/html": [
       "<div>\n",
       "<style scoped>\n",
       "    .dataframe tbody tr th:only-of-type {\n",
       "        vertical-align: middle;\n",
       "    }\n",
       "\n",
       "    .dataframe tbody tr th {\n",
       "        vertical-align: top;\n",
       "    }\n",
       "\n",
       "    .dataframe thead th {\n",
       "        text-align: right;\n",
       "    }\n",
       "</style>\n",
       "<table border=\"1\" class=\"dataframe\">\n",
       "  <thead>\n",
       "    <tr style=\"text-align: right;\">\n",
       "      <th></th>\n",
       "      <th>lr</th>\n",
       "      <th>val_f1score</th>\n",
       "      <th>epochs</th>\n",
       "      <th>loss</th>\n",
       "      <th>dropout</th>\n",
       "      <th>use_bias</th>\n",
       "      <th>losses</th>\n",
       "      <th>activation2</th>\n",
       "      <th>optimizer</th>\n",
       "      <th>round_epochs</th>\n",
       "      <th>kernel_initializer</th>\n",
       "      <th>val_loss</th>\n",
       "      <th>f1score</th>\n",
       "      <th>activation1</th>\n",
       "      <th>batch_size</th>\n",
       "      <th>layer3_units</th>\n",
       "      <th>acc</th>\n",
       "      <th>layer2_units</th>\n",
       "      <th>layer1_units</th>\n",
       "      <th>index_num</th>\n",
       "    </tr>\n",
       "  </thead>\n",
       "  <tbody>\n",
       "    <tr>\n",
       "      <th>216</th>\n",
       "      <td>0.20</td>\n",
       "      <td>0.347214</td>\n",
       "      <td>100</td>\n",
       "      <td>0.408744</td>\n",
       "      <td>0.125</td>\n",
       "      <td>True</td>\n",
       "      <td>binary_crossentropy</td>\n",
       "      <td>sigmoid</td>\n",
       "      <td>&lt;class 'tensorflow.python.keras.optimizer_v2.a...</td>\n",
       "      <td>100</td>\n",
       "      <td>normal</td>\n",
       "      <td>0.409253</td>\n",
       "      <td>0.349385</td>\n",
       "      <td>relu</td>\n",
       "      <td>60</td>\n",
       "      <td>29</td>\n",
       "      <td>0.836000</td>\n",
       "      <td>18</td>\n",
       "      <td>20</td>\n",
       "      <td>0</td>\n",
       "    </tr>\n",
       "    <tr>\n",
       "      <th>219</th>\n",
       "      <td>0.25</td>\n",
       "      <td>0.464752</td>\n",
       "      <td>116</td>\n",
       "      <td>0.382217</td>\n",
       "      <td>0.125</td>\n",
       "      <td>True</td>\n",
       "      <td>binary_crossentropy</td>\n",
       "      <td>sigmoid</td>\n",
       "      <td>&lt;class 'tensorflow.python.keras.optimizer_v2.r...</td>\n",
       "      <td>116</td>\n",
       "      <td>normal</td>\n",
       "      <td>0.394937</td>\n",
       "      <td>0.469762</td>\n",
       "      <td>relu</td>\n",
       "      <td>40</td>\n",
       "      <td>23</td>\n",
       "      <td>0.845600</td>\n",
       "      <td>30</td>\n",
       "      <td>23</td>\n",
       "      <td>1</td>\n",
       "    </tr>\n",
       "    <tr>\n",
       "      <th>100</th>\n",
       "      <td>0.25</td>\n",
       "      <td>0.451093</td>\n",
       "      <td>108</td>\n",
       "      <td>0.382332</td>\n",
       "      <td>0.500</td>\n",
       "      <td>True</td>\n",
       "      <td>binary_crossentropy</td>\n",
       "      <td>sigmoid</td>\n",
       "      <td>&lt;class 'tensorflow.python.keras.optimizer_v2.a...</td>\n",
       "      <td>108</td>\n",
       "      <td>normal</td>\n",
       "      <td>0.388464</td>\n",
       "      <td>0.513536</td>\n",
       "      <td>relu</td>\n",
       "      <td>40</td>\n",
       "      <td>26</td>\n",
       "      <td>0.853600</td>\n",
       "      <td>15</td>\n",
       "      <td>32</td>\n",
       "      <td>2</td>\n",
       "    </tr>\n",
       "    <tr>\n",
       "      <th>144</th>\n",
       "      <td>0.20</td>\n",
       "      <td>0.442780</td>\n",
       "      <td>108</td>\n",
       "      <td>0.393786</td>\n",
       "      <td>0.375</td>\n",
       "      <td>True</td>\n",
       "      <td>binary_crossentropy</td>\n",
       "      <td>sigmoid</td>\n",
       "      <td>&lt;class 'tensorflow.python.keras.optimizer_v2.a...</td>\n",
       "      <td>108</td>\n",
       "      <td>normal</td>\n",
       "      <td>0.397105</td>\n",
       "      <td>0.438191</td>\n",
       "      <td>relu</td>\n",
       "      <td>40</td>\n",
       "      <td>26</td>\n",
       "      <td>0.842133</td>\n",
       "      <td>18</td>\n",
       "      <td>20</td>\n",
       "      <td>3</td>\n",
       "    </tr>\n",
       "    <tr>\n",
       "      <th>125</th>\n",
       "      <td>0.20</td>\n",
       "      <td>0.457213</td>\n",
       "      <td>104</td>\n",
       "      <td>0.396356</td>\n",
       "      <td>0.375</td>\n",
       "      <td>True</td>\n",
       "      <td>binary_crossentropy</td>\n",
       "      <td>sigmoid</td>\n",
       "      <td>&lt;class 'tensorflow.python.keras.optimizer_v2.a...</td>\n",
       "      <td>104</td>\n",
       "      <td>normal</td>\n",
       "      <td>0.398905</td>\n",
       "      <td>0.463295</td>\n",
       "      <td>relu</td>\n",
       "      <td>65</td>\n",
       "      <td>26</td>\n",
       "      <td>0.843733</td>\n",
       "      <td>15</td>\n",
       "      <td>23</td>\n",
       "      <td>4</td>\n",
       "    </tr>\n",
       "    <tr>\n",
       "      <th>193</th>\n",
       "      <td>0.25</td>\n",
       "      <td>0.428677</td>\n",
       "      <td>108</td>\n",
       "      <td>0.404446</td>\n",
       "      <td>0.375</td>\n",
       "      <td>True</td>\n",
       "      <td>binary_crossentropy</td>\n",
       "      <td>sigmoid</td>\n",
       "      <td>&lt;class 'tensorflow.python.keras.optimizer_v2.r...</td>\n",
       "      <td>108</td>\n",
       "      <td>normal</td>\n",
       "      <td>0.401886</td>\n",
       "      <td>0.445958</td>\n",
       "      <td>relu</td>\n",
       "      <td>40</td>\n",
       "      <td>23</td>\n",
       "      <td>0.840533</td>\n",
       "      <td>18</td>\n",
       "      <td>20</td>\n",
       "      <td>5</td>\n",
       "    </tr>\n",
       "    <tr>\n",
       "      <th>28</th>\n",
       "      <td>0.25</td>\n",
       "      <td>0.500311</td>\n",
       "      <td>124</td>\n",
       "      <td>0.370104</td>\n",
       "      <td>0.250</td>\n",
       "      <td>True</td>\n",
       "      <td>binary_crossentropy</td>\n",
       "      <td>sigmoid</td>\n",
       "      <td>&lt;class 'tensorflow.python.keras.optimizer_v2.r...</td>\n",
       "      <td>124</td>\n",
       "      <td>normal</td>\n",
       "      <td>0.382498</td>\n",
       "      <td>0.494532</td>\n",
       "      <td>relu</td>\n",
       "      <td>40</td>\n",
       "      <td>23</td>\n",
       "      <td>0.844800</td>\n",
       "      <td>18</td>\n",
       "      <td>29</td>\n",
       "      <td>6</td>\n",
       "    </tr>\n",
       "    <tr>\n",
       "      <th>49</th>\n",
       "      <td>0.40</td>\n",
       "      <td>0.452155</td>\n",
       "      <td>124</td>\n",
       "      <td>0.382115</td>\n",
       "      <td>0.250</td>\n",
       "      <td>True</td>\n",
       "      <td>binary_crossentropy</td>\n",
       "      <td>sigmoid</td>\n",
       "      <td>&lt;class 'tensorflow.python.keras.optimizer_v2.r...</td>\n",
       "      <td>124</td>\n",
       "      <td>normal</td>\n",
       "      <td>0.400970</td>\n",
       "      <td>0.485547</td>\n",
       "      <td>relu</td>\n",
       "      <td>50</td>\n",
       "      <td>29</td>\n",
       "      <td>0.850133</td>\n",
       "      <td>27</td>\n",
       "      <td>26</td>\n",
       "      <td>7</td>\n",
       "    </tr>\n",
       "    <tr>\n",
       "      <th>170</th>\n",
       "      <td>0.30</td>\n",
       "      <td>0.436891</td>\n",
       "      <td>116</td>\n",
       "      <td>0.401613</td>\n",
       "      <td>0.500</td>\n",
       "      <td>True</td>\n",
       "      <td>binary_crossentropy</td>\n",
       "      <td>sigmoid</td>\n",
       "      <td>&lt;class 'tensorflow.python.keras.optimizer_v2.r...</td>\n",
       "      <td>116</td>\n",
       "      <td>normal</td>\n",
       "      <td>0.399380</td>\n",
       "      <td>0.439798</td>\n",
       "      <td>relu</td>\n",
       "      <td>40</td>\n",
       "      <td>23</td>\n",
       "      <td>0.841067</td>\n",
       "      <td>18</td>\n",
       "      <td>23</td>\n",
       "      <td>8</td>\n",
       "    </tr>\n",
       "    <tr>\n",
       "      <th>130</th>\n",
       "      <td>0.20</td>\n",
       "      <td>0.452924</td>\n",
       "      <td>112</td>\n",
       "      <td>0.404622</td>\n",
       "      <td>0.500</td>\n",
       "      <td>True</td>\n",
       "      <td>binary_crossentropy</td>\n",
       "      <td>sigmoid</td>\n",
       "      <td>&lt;class 'tensorflow.python.keras.optimizer_v2.r...</td>\n",
       "      <td>112</td>\n",
       "      <td>normal</td>\n",
       "      <td>0.401692</td>\n",
       "      <td>0.429273</td>\n",
       "      <td>relu</td>\n",
       "      <td>65</td>\n",
       "      <td>26</td>\n",
       "      <td>0.839733</td>\n",
       "      <td>24</td>\n",
       "      <td>23</td>\n",
       "      <td>9</td>\n",
       "    </tr>\n",
       "  </tbody>\n",
       "</table>\n",
       "</div>"
      ],
      "text/plain": [
       "       lr  val_f1score  epochs      loss  dropout  use_bias  \\\n",
       "216  0.20     0.347214     100  0.408744    0.125      True   \n",
       "219  0.25     0.464752     116  0.382217    0.125      True   \n",
       "100  0.25     0.451093     108  0.382332    0.500      True   \n",
       "144  0.20     0.442780     108  0.393786    0.375      True   \n",
       "125  0.20     0.457213     104  0.396356    0.375      True   \n",
       "193  0.25     0.428677     108  0.404446    0.375      True   \n",
       "28   0.25     0.500311     124  0.370104    0.250      True   \n",
       "49   0.40     0.452155     124  0.382115    0.250      True   \n",
       "170  0.30     0.436891     116  0.401613    0.500      True   \n",
       "130  0.20     0.452924     112  0.404622    0.500      True   \n",
       "\n",
       "                  losses activation2  \\\n",
       "216  binary_crossentropy     sigmoid   \n",
       "219  binary_crossentropy     sigmoid   \n",
       "100  binary_crossentropy     sigmoid   \n",
       "144  binary_crossentropy     sigmoid   \n",
       "125  binary_crossentropy     sigmoid   \n",
       "193  binary_crossentropy     sigmoid   \n",
       "28   binary_crossentropy     sigmoid   \n",
       "49   binary_crossentropy     sigmoid   \n",
       "170  binary_crossentropy     sigmoid   \n",
       "130  binary_crossentropy     sigmoid   \n",
       "\n",
       "                                             optimizer  round_epochs  \\\n",
       "216  <class 'tensorflow.python.keras.optimizer_v2.a...           100   \n",
       "219  <class 'tensorflow.python.keras.optimizer_v2.r...           116   \n",
       "100  <class 'tensorflow.python.keras.optimizer_v2.a...           108   \n",
       "144  <class 'tensorflow.python.keras.optimizer_v2.a...           108   \n",
       "125  <class 'tensorflow.python.keras.optimizer_v2.a...           104   \n",
       "193  <class 'tensorflow.python.keras.optimizer_v2.r...           108   \n",
       "28   <class 'tensorflow.python.keras.optimizer_v2.r...           124   \n",
       "49   <class 'tensorflow.python.keras.optimizer_v2.r...           124   \n",
       "170  <class 'tensorflow.python.keras.optimizer_v2.r...           116   \n",
       "130  <class 'tensorflow.python.keras.optimizer_v2.r...           112   \n",
       "\n",
       "    kernel_initializer  val_loss   f1score activation1  batch_size  \\\n",
       "216             normal  0.409253  0.349385        relu          60   \n",
       "219             normal  0.394937  0.469762        relu          40   \n",
       "100             normal  0.388464  0.513536        relu          40   \n",
       "144             normal  0.397105  0.438191        relu          40   \n",
       "125             normal  0.398905  0.463295        relu          65   \n",
       "193             normal  0.401886  0.445958        relu          40   \n",
       "28              normal  0.382498  0.494532        relu          40   \n",
       "49              normal  0.400970  0.485547        relu          50   \n",
       "170             normal  0.399380  0.439798        relu          40   \n",
       "130             normal  0.401692  0.429273        relu          65   \n",
       "\n",
       "     layer3_units       acc  layer2_units  layer1_units  index_num  \n",
       "216            29  0.836000            18            20          0  \n",
       "219            23  0.845600            30            23          1  \n",
       "100            26  0.853600            15            32          2  \n",
       "144            26  0.842133            18            20          3  \n",
       "125            26  0.843733            15            23          4  \n",
       "193            23  0.840533            18            20          5  \n",
       "28             23  0.844800            18            29          6  \n",
       "49             29  0.850133            27            26          7  \n",
       "170            23  0.841067            18            23          8  \n",
       "130            26  0.839733            24            23          9  "
      ]
     },
     "execution_count": 22,
     "metadata": {},
     "output_type": "execute_result"
    }
   ],
   "source": [
    "report = talos.Reporting(PATH + 'report1.csv')\n",
    "report.best_params('val_acc', [], 10, True)"
   ]
  },
  {
   "cell_type": "code",
   "execution_count": 23,
   "metadata": {},
   "outputs": [
    {
     "data": {
      "image/png": "[encoded data removed]",
      "text/plain": [
       "<Figure size 648x648 with 2 Axes>"
      ]
     },
     "metadata": {},
     "output_type": "display_data"
    }
   ],
   "source": [
    "report.plot_corr('val_acc', ['f1score', 'val_loss', 'val_f1score', 'acc', 'loss', 'optimizer', 'None', \n",
    "                        'activation1', 'activation2', 'kernel_initializer', 'losses', 'index_num', 'use_bias', 'round_epochs'])"
   ]
  },
  {
   "cell_type": "code",
   "execution_count": 24,
   "metadata": {},
   "outputs": [
    {
     "data": {
      "image/png": "[encoded data removed]",
      "text/plain": [
       "<Figure size 432x432 with 3 Axes>"
      ]
     },
     "metadata": {},
     "output_type": "display_data"
    }
   ],
   "source": [
    "sns.jointplot(report.data['batch_size'], report.data['val_acc'], kind='kde', color='#FFAE42'); plt.show()"
   ]
  },
  {
   "cell_type": "markdown",
   "metadata": {},
   "source": [
    "## Validation\n",
    "\n",
    "1. Talos [predict](https://autonomio.github.io/docs_talos/#predict): Used to make predictions on the models that are stored in a *Scan* object\n",
    "2. Talos [evaluate](https://autonomio.github.io/docs_talos/#evaluate): Evaluate models that are stored on the *Scan* object"
   ]
  },
  {
   "cell_type": "code",
   "execution_count": 25,
   "metadata": {},
   "outputs": [
    {
     "name": "stdout",
     "output_type": "stream",
     "text": [
      "(5000, 13)\n",
      "(5000,)\n"
     ]
    }
   ],
   "source": [
    "# Convert to numpy\n",
    "pure_testing_features = np.array(pure_testing_features)\n",
    "pure_testing_labels = np.array(pure_testing_labels)\n",
    "\n",
    "print(pure_testing_features.shape)\n",
    "print(pure_testing_labels.shape)"
   ]
  },
  {
   "cell_type": "markdown",
   "metadata": {},
   "source": [
    "### Prediction for the testing set"
   ]
  },
  {
   "cell_type": "code",
   "execution_count": 212,
   "metadata": {},
   "outputs": [
    {
     "name": "stdout",
     "output_type": "stream",
     "text": [
      "Accuracy on pure testing set: 0.7962\n"
     ]
    }
   ],
   "source": [
    "p = talos.Predict(t)\n",
    "predictions = p.predict(x=pure_testing_features, metric='val_acc', asc=True)\n",
    "print('Accuracy on pure testing set:',accuracy_score(pure_testing_labels, predictions))"
   ]
  },
  {
   "cell_type": "markdown",
   "metadata": {},
   "source": [
    "### Evaluate the testing set\n",
    "\n",
    "Evaluate based on the f1 score"
   ]
  },
  {
   "cell_type": "code",
   "execution_count": 213,
   "metadata": {},
   "outputs": [
    {
     "name": "stdout",
     "output_type": "stream",
     "text": [
      "mean : 0.34 \n",
      " std : 0.02\n"
     ]
    },
    {
     "data": {
      "text/plain": [
       "[0.3443708609271523,\n",
       " 0.3739837398373984,\n",
       " 0.3579638752052545,\n",
       " 0.3079526226734349,\n",
       " 0.330550918196995,\n",
       " 0.33333333333333337,\n",
       " 0.330550918196995,\n",
       " 0.3164983164983165,\n",
       " 0.36065573770491804,\n",
       " 0.3277591973244147]"
      ]
     },
     "execution_count": 213,
     "metadata": {},
     "output_type": "execute_result"
    }
   ],
   "source": [
    "ev = talos.Evaluate(t)\n",
    "ev.evaluate(x=pure_testing_features, y=pure_testing_labels, folds=10, metric='val_acc', shuffle=True,\n",
    "                                                            task='binary', asc=False, print_out=True)"
   ]
  },
  {
   "cell_type": "markdown",
   "metadata": {},
   "source": [
    "## Deploy model"
   ]
  },
  {
   "cell_type": "code",
   "execution_count": 214,
   "metadata": {},
   "outputs": [
    {
     "name": "stdout",
     "output_type": "stream",
     "text": [
      "Deploy package experiment1 have been saved.\n"
     ]
    },
    {
     "data": {
      "text/plain": [
       "<talos.commands.deploy.Deploy at 0x19f3fd084c8>"
      ]
     },
     "execution_count": 214,
     "metadata": {},
     "output_type": "execute_result"
    }
   ],
   "source": [
    "talos.Deploy(t, 'experiment1', 'val_acc', True)"
   ]
  },
  {
   "cell_type": "markdown",
   "metadata": {},
   "source": [
    "Model can be loaded (as a Keras sequential model) and we can still do the same predictions"
   ]
  },
  {
   "cell_type": "code",
   "execution_count": 33,
   "metadata": {},
   "outputs": [],
   "source": [
    "mod = load_model('Deployed/experiment1/experiment1_model')"
   ]
  },
  {
   "cell_type": "code",
   "execution_count": 46,
   "metadata": {},
   "outputs": [
    {
     "name": "stdout",
     "output_type": "stream",
     "text": [
      "79.62\n"
     ]
    }
   ],
   "source": [
    "predictions = mod.predict(pure_testing_features)\n",
    "predictions = (predictions>0.5)\n",
    "print(round(100*accuracy_score(pure_testing_labels, predictions), 2))"
   ]
  }
 ],
 "metadata": {
  "kernelspec": {
   "display_name": "Python 3",
   "language": "python",
   "name": "python3"
  },
  "language_info": {
   "codemirror_mode": {
    "name": "ipython",
    "version": 3
   },
   "file_extension": ".py",
   "mimetype": "text/x-python",
   "name": "python",
   "nbconvert_exporter": "python",
   "pygments_lexer": "ipython3",
   "version": "3.7.7"
  }
 },
 "nbformat": 4,
 "nbformat_minor": 4
}
